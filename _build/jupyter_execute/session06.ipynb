{
 "cells": [
  {
   "cell_type": "markdown",
   "id": "5505e7af",
   "metadata": {},
   "source": [
    "## More on functions, loops, dictionaries, and files \n",
    "\n",
    "The concepts introduced in previous sessions have additional functionalities worth introducing. In this session, we will therefore look at advanced (combined) uses of functions, loops, and file I/O, which allow you to code more efficiently. \n",
    "\n",
    "Let's start by looking at an example for a function that will accompany us throughout this session. Let's figure out what this does:"
   ]
  },
  {
   "cell_type": "code",
   "execution_count": 1,
   "id": "982d9ba8",
   "metadata": {},
   "outputs": [
    {
     "name": "stdout",
     "output_type": "stream",
     "text": [
      "For your reference, this is what lines looks like now:  [[\"HITCHHIKER'S\", 'GUIDE'], [], ['Complete', '&amp;', 'Unabridged'], [], [], ['Contents:'], [], [], ['Introduction:', 'A', 'Guide', 'to', 'the', 'Guide']] \n",
      "\n",
      "\n",
      "\n",
      "['\"', '\"', '\"', '\"', '\"', '\"', '\"', '\"', '\"', '\"', '\"', '\"', '\"', '\"', '\"', '\"', '\"', '\"\\'Between', '\"\\'But,\\'', '\"\\'Cos', '\"\\'E', '\"\\'Ere,', '\"\\'Lord,', '\"\\'Oh', '\"\\'Oh,', '\"\\'Pleiades', '\"\\'Protect', '\"\\'Reverse', '\"\\'That\\'s', '\"\\'They\\'ve...\\'', '\"\\'Up,', '\"\\'What\\'s', '\"\\'cos', '\"\\'known', '\"\\'orrible.', '\"...', '\"...', '\"...', '\"...', '\"...', '\"...', '\"...', '\"...', '\"...', '\"...', '\"...', '\"...', '\"...', '\"...', '\"...', '\"...', '\"...', '\"...', '\"...', '\"...', '\"...', '\"...', '\"...', '\"...', '\"...', '\"...', '\"...', '\"...', '\"...', '\"...', '\"...', '\"...', '\"...', '\"...', '\"...', '\"...', '\"...', '\"...', '\"...', '\"...', '\"...', '\"...and...\"', '\"...be', '\"...but', '\"...denied', '\"...refused', '\"?...', '\"A', '\"A', '\"A', '\"A', '\"A', '\"A', '\"A', '\"A', '\"A', '\"A', '\"A', '\"A', '\"A', '\"A', '\"A', '\"A', '\"A', '\"A', '\"A', '\"A', '\"A', '\"A', '\"A', '\"A', '\"A', '\"A', '\"A', '\"A', '\"A', '\"A', '\"A', '\"A', '\"A', '\"A', '\"A', '\"A', '\"A', '\"A', '\"A', '\"A', '\"A', '\"A', '\"A', '\"A', '\"A', '\"A', '\"A', '\"A', '\"A', '\"A', '\"A', '\"A', '\"A', '\"A', '\"A', '\"A', '\"A', '\"A', '\"A', '\"A', '\"A', '\"A', '\"A', '\"A', '\"A', '\"ANOTHER', '\"Aaaaaaarggggghhhhhh!\"', '\"Aaaargggh...\"', '\"About', '\"About', '\"About', '\"About...\"', '\"Absolute', '\"Access', '\"According', '\"Actually', '\"Address', '\"Admittedly,\"', '\"Advice,', '\"Advice,', '\"Advice,\"', '\"Afraid?\"', '\"Africa', '\"After', '\"After', '\"After', '\"After', '\"Afterlife', '\"Afterlife,', '\"Agenda', '\"Ah', '\"Ah', '\"Ah', '\"Ah', '\"Ah', '\"Ah', '\"Ah', '\"Ah', '\"Ah', '\"Ah', '\"Ah', '\"Ah!', '\"Ah!', '\"Ah!', '\"Ah!\"', '\"Ah!\",', '\"Ah,', '\"Ah,', '\"Ah,', '\"Ah,', '\"Ah,', '\"Ah,', '\"Ah,', '\"Ah,', '\"Ah,', '\"Ah,', '\"Ah,', '\"Ah,', '\"Ah,', '\"Ah,', '\"Ah,', '\"Ah,', '\"Ah,', '\"Ah,', '\"Ah,', '\"Ah,', '\"Ah,', '\"Ah,', '\"Ah,', '\"Ah,', '\"Ah,', '\"Ah,', '\"Ah,', '\"Ah,', '\"Ah,', '\"Ah,\"', '\"Ah,\"', '\"Ah,\"', '\"Ah,\"', '\"Ah,\"', '\"Ah,\"', '\"Ah,\"', '\"Ah,\"', '\"Ah,\"', '\"Ah,\"', '\"Ah,\"', '\"Ah,\"', '\"Ah,\"', '\"Ah,\"', '\"Ah,\"', '\"Ah,\"', '\"Ah,\"', '\"Ah,\"', '\"Ah,\"', '\"Ah,\"', '\"Ah.', '\"Ah.', '\"Ah.', '\"Ah.', '\"Ah.', '\"Ah.\"', '\"Ah.\"', '\"Ah.\"', '\"Ah.\"', '\"Ah.\"', '\"Ah...\"', '\"Aha,', '\"Aha,', '\"Ahm,', '\"Aliens.', '\"All', '\"All', '\"All', '\"All', '\"All', '\"All', '\"All', '\"All', '\"All', '\"All', '\"All', '\"All', '\"All', '\"All', '\"All', '\"All', '\"All', '\"All', '\"All', '\"All', '\"All', '\"All', '\"All', '\"All', '\"All', '\"All', '\"All', '\"Almighty', '\"Alright', '\"Alright!\"', '\"Alright,', '\"Alright,', '\"Alright,', '\"Alright,', '\"Alright,', '\"Alright,\"', '\"Alright,\"', '\"Alright,\"', '\"Alright,\"', '\"Alright,\"', '\"Alright,\"', '\"Alright,\"', '\"Alright,\"', '\"Alright,\"', '\"Alright,\"', '\"Alright,\"', '\"Alright,\"', '\"Alright,\"', '\"Alright,\"', '\"Alright,\"', '\"Alright,\"', '\"Alright,\"', '\"Alright,\"', '\"Alright,\"', '\"Alright.\"', '\"Always', '\"Am', '\"Am', '\"Am', '\"Amazing', '\"Amazing', '\"American', '\"Among', '\"An', '\"An', '\"An', '\"An', '\"An', '\"An', '\"An', '\"An', '\"An', '\"An', '\"An', '\"An', '\"AnS...?\"', '\"Ancient', '\"Ancient', '\"And', '\"And', '\"And', '\"And', '\"And', '\"And', '\"And', '\"And', '\"And', '\"And', '\"And', '\"And', '\"And', '\"And', '\"And', '\"And', '\"And', '\"And', '\"And', '\"And', '\"And', '\"And', '\"And', '\"And', '\"And', '\"And', '\"And', '\"And', '\"And', '\"And', '\"And', '\"And', '\"And', '\"And', '\"And', '\"And', '\"And', '\"And', '\"And', '\"And', '\"And', '\"And', '\"And', '\"And', '\"And', '\"And', '\"And', '\"And', '\"And', '\"And', '\"And', '\"And', '\"And', '\"And', '\"And', '\"And', '\"And', '\"And', '\"And', '\"And', '\"And', '\"And', '\"And', '\"And', '\"And', '\"And', '\"And', '\"And', '\"And', '\"And', '\"And', '\"And', '\"And', '\"And', '\"And', '\"And', '\"And', '\"And', '\"And', '\"And', '\"And', '\"And', '\"And', '\"And', '\"And', '\"And', '\"And', '\"And', '\"And', '\"And', '\"And', '\"And', '\"And', '\"And', '\"And', '\"And', '\"And', '\"And', '\"And', '\"And', '\"And', '\"And', '\"And', '\"And', '\"And', '\"And', '\"And', '\"And', '\"And', '\"And', '\"And', '\"And', '\"And', '\"And', '\"And', '\"And', '\"And', '\"And', '\"And', '\"And', '\"And', '\"And', '\"And', '\"And', '\"And', '\"And', '\"And', '\"And', '\"And', '\"And', '\"And', '\"And', '\"And', '\"And', '\"And', '\"And', '\"And', '\"And', '\"And', '\"And', '\"And', '\"And', '\"And', '\"And', '\"And', '\"And,', '\"And,', '\"And,\"', '\"And,\"', '\"And,\"', '\"And...?\"', '\"And...?\"', '\"Anti-depressants,\"', '\"Any', '\"Any', '\"Any', '\"Any', '\"Any', '\"Any', '\"Anyone', '\"Anyone\\'s', '\"Anything', '\"Anything', '\"Anything,\"', '\"Anyway,', '\"Anyway,\"', '\"Anyway,\"', '\"Anyway,\"', '\"Anyway,\"']\n"
     ]
    }
   ],
   "source": [
    "#an example\n",
    "import itertools\n",
    "\n",
    "#line1 =\"Hello world\"\n",
    "# [\"Hello\",\"world\"]\n",
    "#line2= \"A b c\"\n",
    "#[\"A\",\"b\",\"c\"]\n",
    "#[[\"Hello\",\"world\"],[\"A\",\"b\",\"c\"]]\n",
    "def sort_text(file): #takes a plaintext file as input\n",
    "    words = []\n",
    "    lines = [line.strip().split() for line in file] \n",
    "    print(\"For your reference, this is what lines looks like now: \", lines[1:10],\"\\n\\n\\n\")   \n",
    "    #print(list(itertools.chain.from_iterable(lines)))\n",
    "    for word in itertools.chain.from_iterable(lines): \n",
    "        words.append(word) \n",
    "    words.sort()\n",
    "    return words\n",
    "    \n",
    "unsorted_file = open(\"hitchhikers_guide_full.txt\", \"r\")\n",
    "\n",
    "print(sort_text(unsorted_file)[1:500]) #prints part of the output, not the full book\n"
   ]
  },
  {
   "cell_type": "markdown",
   "id": "109c5bbd",
   "metadata": {},
   "source": [
    "Here is the same code again, but commented for its functionality:"
   ]
  },
  {
   "cell_type": "code",
   "execution_count": 2,
   "id": "78e28319",
   "metadata": {
    "scrolled": true
   },
   "outputs": [
    {
     "name": "stdout",
     "output_type": "stream",
     "text": [
      "['\"', '\"', '\"', '\"', '\"', '\"', '\"', '\"', '\"', '\"', '\"', '\"', '\"', '\"', '\"', '\"', '\"', '\"\\'Between', '\"\\'But,\\'', '\"\\'Cos', '\"\\'E', '\"\\'Ere,', '\"\\'Lord,', '\"\\'Oh', '\"\\'Oh,', '\"\\'Pleiades', '\"\\'Protect', '\"\\'Reverse', '\"\\'That\\'s', '\"\\'They\\'ve...\\'', '\"\\'Up,', '\"\\'What\\'s', '\"\\'cos', '\"\\'known', '\"\\'orrible.', '\"...', '\"...', '\"...', '\"...', '\"...', '\"...', '\"...', '\"...', '\"...', '\"...', '\"...', '\"...', '\"...', '\"...', '\"...', '\"...', '\"...', '\"...', '\"...', '\"...', '\"...', '\"...', '\"...', '\"...', '\"...', '\"...', '\"...', '\"...', '\"...', '\"...', '\"...', '\"...', '\"...', '\"...', '\"...', '\"...', '\"...', '\"...', '\"...', '\"...', '\"...', '\"...and...\"', '\"...be', '\"...but', '\"...denied', '\"...refused', '\"?...', '\"A', '\"A', '\"A', '\"A', '\"A', '\"A', '\"A', '\"A', '\"A', '\"A', '\"A', '\"A', '\"A', '\"A', '\"A', '\"A', '\"A', '\"A', '\"A', '\"A', '\"A', '\"A', '\"A', '\"A', '\"A', '\"A', '\"A', '\"A', '\"A', '\"A', '\"A', '\"A', '\"A', '\"A', '\"A', '\"A', '\"A', '\"A', '\"A', '\"A', '\"A', '\"A', '\"A', '\"A', '\"A', '\"A', '\"A', '\"A', '\"A', '\"A', '\"A', '\"A', '\"A', '\"A', '\"A', '\"A', '\"A', '\"A', '\"A', '\"A', '\"A', '\"A', '\"A', '\"A', '\"A', '\"ANOTHER', '\"Aaaaaaarggggghhhhhh!\"', '\"Aaaargggh...\"', '\"About', '\"About', '\"About', '\"About...\"', '\"Absolute', '\"Access', '\"According', '\"Actually', '\"Address', '\"Admittedly,\"', '\"Advice,', '\"Advice,', '\"Advice,\"', '\"Afraid?\"', '\"Africa', '\"After', '\"After', '\"After', '\"After', '\"Afterlife', '\"Afterlife,', '\"Agenda', '\"Ah', '\"Ah', '\"Ah', '\"Ah', '\"Ah', '\"Ah', '\"Ah', '\"Ah', '\"Ah', '\"Ah', '\"Ah', '\"Ah!', '\"Ah!', '\"Ah!', '\"Ah!\"', '\"Ah!\",', '\"Ah,', '\"Ah,', '\"Ah,', '\"Ah,', '\"Ah,', '\"Ah,', '\"Ah,', '\"Ah,', '\"Ah,', '\"Ah,', '\"Ah,', '\"Ah,', '\"Ah,', '\"Ah,', '\"Ah,', '\"Ah,', '\"Ah,', '\"Ah,', '\"Ah,', '\"Ah,', '\"Ah,', '\"Ah,', '\"Ah,', '\"Ah,', '\"Ah,', '\"Ah,', '\"Ah,', '\"Ah,', '\"Ah,', '\"Ah,\"', '\"Ah,\"', '\"Ah,\"', '\"Ah,\"', '\"Ah,\"', '\"Ah,\"', '\"Ah,\"', '\"Ah,\"', '\"Ah,\"', '\"Ah,\"', '\"Ah,\"', '\"Ah,\"', '\"Ah,\"', '\"Ah,\"', '\"Ah,\"', '\"Ah,\"', '\"Ah,\"', '\"Ah,\"', '\"Ah,\"', '\"Ah,\"', '\"Ah.', '\"Ah.', '\"Ah.', '\"Ah.', '\"Ah.', '\"Ah.\"', '\"Ah.\"', '\"Ah.\"', '\"Ah.\"', '\"Ah.\"', '\"Ah...\"', '\"Aha,', '\"Aha,', '\"Ahm,', '\"Aliens.', '\"All', '\"All', '\"All', '\"All', '\"All', '\"All', '\"All', '\"All', '\"All', '\"All', '\"All', '\"All', '\"All', '\"All', '\"All', '\"All', '\"All', '\"All', '\"All', '\"All', '\"All', '\"All', '\"All', '\"All', '\"All', '\"All', '\"All', '\"Almighty', '\"Alright', '\"Alright!\"', '\"Alright,', '\"Alright,', '\"Alright,', '\"Alright,', '\"Alright,', '\"Alright,\"', '\"Alright,\"', '\"Alright,\"', '\"Alright,\"', '\"Alright,\"', '\"Alright,\"', '\"Alright,\"', '\"Alright,\"', '\"Alright,\"', '\"Alright,\"', '\"Alright,\"', '\"Alright,\"', '\"Alright,\"', '\"Alright,\"', '\"Alright,\"', '\"Alright,\"', '\"Alright,\"', '\"Alright,\"', '\"Alright,\"', '\"Alright.\"', '\"Always', '\"Am', '\"Am', '\"Am', '\"Amazing', '\"Amazing', '\"American', '\"Among', '\"An', '\"An', '\"An', '\"An', '\"An', '\"An', '\"An', '\"An', '\"An', '\"An', '\"An', '\"An', '\"AnS...?\"', '\"Ancient', '\"Ancient', '\"And', '\"And', '\"And', '\"And', '\"And', '\"And', '\"And', '\"And', '\"And', '\"And', '\"And', '\"And', '\"And', '\"And', '\"And', '\"And', '\"And', '\"And', '\"And', '\"And', '\"And', '\"And', '\"And', '\"And', '\"And', '\"And', '\"And', '\"And', '\"And', '\"And', '\"And', '\"And', '\"And', '\"And', '\"And', '\"And', '\"And', '\"And', '\"And', '\"And', '\"And', '\"And', '\"And', '\"And', '\"And', '\"And', '\"And', '\"And', '\"And', '\"And', '\"And', '\"And', '\"And', '\"And', '\"And', '\"And', '\"And', '\"And', '\"And', '\"And', '\"And', '\"And', '\"And', '\"And', '\"And', '\"And', '\"And', '\"And', '\"And', '\"And', '\"And', '\"And', '\"And', '\"And', '\"And', '\"And', '\"And', '\"And', '\"And', '\"And', '\"And', '\"And', '\"And', '\"And', '\"And', '\"And', '\"And', '\"And', '\"And', '\"And', '\"And', '\"And', '\"And', '\"And', '\"And', '\"And', '\"And', '\"And', '\"And', '\"And', '\"And', '\"And', '\"And', '\"And', '\"And', '\"And', '\"And', '\"And', '\"And', '\"And', '\"And', '\"And', '\"And', '\"And', '\"And', '\"And', '\"And', '\"And', '\"And', '\"And', '\"And', '\"And', '\"And', '\"And', '\"And', '\"And', '\"And', '\"And', '\"And', '\"And', '\"And', '\"And', '\"And', '\"And', '\"And', '\"And', '\"And', '\"And', '\"And', '\"And', '\"And', '\"And', '\"And', '\"And', '\"And', '\"And,', '\"And,', '\"And,\"', '\"And,\"', '\"And,\"', '\"And...?\"', '\"And...?\"', '\"Anti-depressants,\"', '\"Any', '\"Any', '\"Any', '\"Any', '\"Any', '\"Any', '\"Anyone', '\"Anyone\\'s', '\"Anything', '\"Anything', '\"Anything,\"', '\"Anyway,', '\"Anyway,\"', '\"Anyway,\"', '\"Anyway,\"', '\"Anyway,\"']\n"
     ]
    }
   ],
   "source": [
    "#an example\n",
    "import itertools\n",
    "\n",
    "def sort_text(file): #takes a plaintext file as input\n",
    "    words = list()\n",
    "    lines = [line.strip().split() for line in file] #list comprehension: for each line of text, strip it of white spaces and split it into separate strings per word  \n",
    "    for word in itertools.chain.from_iterable(lines): #iterate through /nested/ list - important since lines from the book are nested lists in *lines*  \n",
    "        words.append(word) #add all words to flattened list of words - i.e., no more nesting now!\n",
    "    words.sort() #sort list\n",
    "    return words\n",
    "    \n",
    "unsorted_file = open(\"hitchhikers_guide_full.txt\", \"r\")\n",
    "\n",
    "print(sort_text(unsorted_file)[1:500])#prints part of the output, not the full book"
   ]
  },
  {
   "cell_type": "markdown",
   "id": "6810b1c7",
   "metadata": {},
   "source": [
    "### Handling functions more efficiently\n",
    "\n",
    "**Recap**:  \n",
    "\n",
    "Functions are **reusable blocks of code that perform an action, like computing a value, on the basis of potentially changing parameters**. Functions are defined by a **def statement**, which specifies the name and arguments of the function. The indented code inside of the function block is the **body of the function**. Functions are executed by calling them; **function calls** use the function's name followed by parentheses, possibly containing a number of arguments within the parentheses. "
   ]
  },
  {
   "cell_type": "markdown",
   "id": "061f8063",
   "metadata": {},
   "source": [
    "**Function calls are expressions, therefore they evaluate to objects** (see session 02). This means you can directly operate on them:"
   ]
  },
  {
   "cell_type": "code",
   "execution_count": 3,
   "id": "33110f7b",
   "metadata": {},
   "outputs": [],
   "source": [
    "unsorted_file.seek(0) #reset file handle. I'll explain this in a bit...\n",
    "\n",
    "sorted_tuple = tuple(sort_text(unsorted_file)) #transform return value from function to a tuple before storing in variable"
   ]
  },
  {
   "cell_type": "markdown",
   "id": "f727fb5f",
   "metadata": {},
   "source": [
    "Note also that **if you use the result of a function call only once it is unnecessary to assign it to a variable**: "
   ]
  },
  {
   "cell_type": "code",
   "execution_count": 4,
   "id": "c0384c06",
   "metadata": {},
   "outputs": [
    {
     "name": "stdout",
     "output_type": "stream",
     "text": [
      "['\"', '\"', '\"', '\"', '\"', '\"', '\"', '\"', '\"', '\"', '\"', '\"', '\"', '\"', '\"', '\"', '\"', '\"\\'Between', '\"\\'But,\\'', '\"\\'Cos', '\"\\'E', '\"\\'Ere,', '\"\\'Lord,', '\"\\'Oh', '\"\\'Oh,', '\"\\'Pleiades', '\"\\'Protect', '\"\\'Reverse', '\"\\'That\\'s', '\"\\'They\\'ve...\\'', '\"\\'Up,', '\"\\'What\\'s', '\"\\'cos', '\"\\'known', '\"\\'orrible.', '\"...', '\"...', '\"...', '\"...', '\"...', '\"...', '\"...', '\"...', '\"...', '\"...', '\"...', '\"...', '\"...', '\"...', '\"...', '\"...', '\"...', '\"...', '\"...', '\"...', '\"...', '\"...', '\"...', '\"...', '\"...', '\"...', '\"...', '\"...', '\"...', '\"...', '\"...', '\"...', '\"...', '\"...', '\"...', '\"...', '\"...', '\"...', '\"...', '\"...', '\"...', '\"...and...\"', '\"...be', '\"...but', '\"...denied', '\"...refused', '\"?...', '\"A', '\"A', '\"A', '\"A', '\"A', '\"A', '\"A', '\"A', '\"A', '\"A', '\"A', '\"A', '\"A', '\"A', '\"A', '\"A', '\"A', '\"A', '\"A', '\"A', '\"A', '\"A', '\"A', '\"A', '\"A', '\"A', '\"A', '\"A', '\"A', '\"A', '\"A', '\"A', '\"A', '\"A', '\"A', '\"A', '\"A', '\"A', '\"A', '\"A', '\"A', '\"A', '\"A', '\"A', '\"A', '\"A', '\"A', '\"A', '\"A', '\"A', '\"A', '\"A', '\"A', '\"A', '\"A', '\"A', '\"A', '\"A', '\"A', '\"A', '\"A', '\"A', '\"A', '\"A', '\"A', '\"ANOTHER', '\"Aaaaaaarggggghhhhhh!\"', '\"Aaaargggh...\"', '\"About', '\"About', '\"About', '\"About...\"', '\"Absolute', '\"Access', '\"According', '\"Actually', '\"Address', '\"Admittedly,\"', '\"Advice,', '\"Advice,', '\"Advice,\"', '\"Afraid?\"', '\"Africa', '\"After', '\"After', '\"After', '\"After', '\"Afterlife', '\"Afterlife,', '\"Agenda', '\"Ah', '\"Ah', '\"Ah', '\"Ah', '\"Ah', '\"Ah', '\"Ah', '\"Ah', '\"Ah', '\"Ah', '\"Ah', '\"Ah!', '\"Ah!', '\"Ah!', '\"Ah!\"', '\"Ah!\",', '\"Ah,', '\"Ah,', '\"Ah,', '\"Ah,', '\"Ah,', '\"Ah,', '\"Ah,', '\"Ah,', '\"Ah,', '\"Ah,', '\"Ah,', '\"Ah,', '\"Ah,', '\"Ah,', '\"Ah,', '\"Ah,', '\"Ah,', '\"Ah,', '\"Ah,', '\"Ah,', '\"Ah,', '\"Ah,', '\"Ah,', '\"Ah,', '\"Ah,', '\"Ah,', '\"Ah,', '\"Ah,', '\"Ah,', '\"Ah,\"', '\"Ah,\"', '\"Ah,\"', '\"Ah,\"', '\"Ah,\"', '\"Ah,\"', '\"Ah,\"', '\"Ah,\"', '\"Ah,\"', '\"Ah,\"', '\"Ah,\"', '\"Ah,\"', '\"Ah,\"', '\"Ah,\"', '\"Ah,\"', '\"Ah,\"', '\"Ah,\"', '\"Ah,\"', '\"Ah,\"', '\"Ah,\"', '\"Ah.', '\"Ah.', '\"Ah.', '\"Ah.', '\"Ah.', '\"Ah.\"', '\"Ah.\"', '\"Ah.\"', '\"Ah.\"', '\"Ah.\"', '\"Ah...\"', '\"Aha,', '\"Aha,', '\"Ahm,', '\"Aliens.', '\"All', '\"All', '\"All', '\"All', '\"All', '\"All', '\"All', '\"All', '\"All', '\"All', '\"All', '\"All', '\"All', '\"All', '\"All', '\"All', '\"All', '\"All', '\"All', '\"All', '\"All', '\"All', '\"All', '\"All', '\"All', '\"All', '\"All', '\"Almighty', '\"Alright', '\"Alright!\"', '\"Alright,', '\"Alright,', '\"Alright,', '\"Alright,', '\"Alright,', '\"Alright,\"', '\"Alright,\"', '\"Alright,\"', '\"Alright,\"', '\"Alright,\"', '\"Alright,\"', '\"Alright,\"', '\"Alright,\"', '\"Alright,\"', '\"Alright,\"', '\"Alright,\"', '\"Alright,\"', '\"Alright,\"', '\"Alright,\"', '\"Alright,\"', '\"Alright,\"', '\"Alright,\"', '\"Alright,\"', '\"Alright,\"', '\"Alright.\"', '\"Always', '\"Am', '\"Am', '\"Am', '\"Amazing', '\"Amazing', '\"American', '\"Among', '\"An', '\"An', '\"An', '\"An', '\"An', '\"An', '\"An', '\"An', '\"An', '\"An', '\"An', '\"An', '\"AnS...?\"', '\"Ancient', '\"Ancient', '\"And', '\"And', '\"And', '\"And', '\"And', '\"And', '\"And', '\"And', '\"And', '\"And', '\"And', '\"And', '\"And', '\"And', '\"And', '\"And', '\"And', '\"And', '\"And', '\"And', '\"And', '\"And', '\"And', '\"And', '\"And', '\"And', '\"And', '\"And', '\"And', '\"And', '\"And', '\"And', '\"And', '\"And', '\"And', '\"And', '\"And', '\"And', '\"And', '\"And', '\"And', '\"And', '\"And', '\"And', '\"And', '\"And', '\"And', '\"And', '\"And', '\"And', '\"And', '\"And', '\"And', '\"And', '\"And', '\"And', '\"And', '\"And', '\"And', '\"And', '\"And', '\"And', '\"And', '\"And', '\"And', '\"And', '\"And', '\"And', '\"And', '\"And', '\"And', '\"And', '\"And', '\"And', '\"And', '\"And', '\"And', '\"And', '\"And', '\"And', '\"And', '\"And', '\"And', '\"And', '\"And', '\"And', '\"And', '\"And', '\"And', '\"And', '\"And', '\"And', '\"And', '\"And', '\"And', '\"And', '\"And', '\"And', '\"And', '\"And', '\"And', '\"And', '\"And', '\"And', '\"And', '\"And', '\"And', '\"And', '\"And', '\"And', '\"And', '\"And', '\"And', '\"And', '\"And', '\"And', '\"And', '\"And', '\"And', '\"And', '\"And', '\"And', '\"And', '\"And', '\"And', '\"And', '\"And', '\"And', '\"And', '\"And', '\"And', '\"And', '\"And', '\"And', '\"And', '\"And', '\"And', '\"And', '\"And', '\"And', '\"And', '\"And', '\"And', '\"And', '\"And', '\"And,', '\"And,', '\"And,\"', '\"And,\"', '\"And,\"', '\"And...?\"', '\"And...?\"', '\"Anti-depressants,\"', '\"Any', '\"Any', '\"Any', '\"Any', '\"Any', '\"Any', '\"Anyone', '\"Anyone\\'s', '\"Anything', '\"Anything', '\"Anything,\"', '\"Anyway,', '\"Anyway,\"', '\"Anyway,\"', '\"Anyway,\"', '\"Anyway,\"']\n"
     ]
    },
    {
     "name": "stdout",
     "output_type": "stream",
     "text": [
      "['\"', '\"', '\"', '\"', '\"', '\"', '\"', '\"', '\"', '\"', '\"', '\"', '\"', '\"', '\"', '\"', '\"', '\"\\'Between', '\"\\'But,\\'', '\"\\'Cos', '\"\\'E', '\"\\'Ere,', '\"\\'Lord,', '\"\\'Oh', '\"\\'Oh,', '\"\\'Pleiades', '\"\\'Protect', '\"\\'Reverse', '\"\\'That\\'s', '\"\\'They\\'ve...\\'', '\"\\'Up,', '\"\\'What\\'s', '\"\\'cos', '\"\\'known', '\"\\'orrible.', '\"...', '\"...', '\"...', '\"...', '\"...', '\"...', '\"...', '\"...', '\"...', '\"...', '\"...', '\"...', '\"...', '\"...', '\"...', '\"...', '\"...', '\"...', '\"...', '\"...', '\"...', '\"...', '\"...', '\"...', '\"...', '\"...', '\"...', '\"...', '\"...', '\"...', '\"...', '\"...', '\"...', '\"...', '\"...', '\"...', '\"...', '\"...', '\"...', '\"...', '\"...', '\"...and...\"', '\"...be', '\"...but', '\"...denied', '\"...refused', '\"?...', '\"A', '\"A', '\"A', '\"A', '\"A', '\"A', '\"A', '\"A', '\"A', '\"A', '\"A', '\"A', '\"A', '\"A', '\"A', '\"A', '\"A', '\"A', '\"A', '\"A', '\"A', '\"A', '\"A', '\"A', '\"A', '\"A', '\"A', '\"A', '\"A', '\"A', '\"A', '\"A', '\"A', '\"A', '\"A', '\"A', '\"A', '\"A', '\"A', '\"A', '\"A', '\"A', '\"A', '\"A', '\"A', '\"A', '\"A', '\"A', '\"A', '\"A', '\"A', '\"A', '\"A', '\"A', '\"A', '\"A', '\"A', '\"A', '\"A', '\"A', '\"A', '\"A', '\"A', '\"A', '\"A', '\"ANOTHER', '\"Aaaaaaarggggghhhhhh!\"', '\"Aaaargggh...\"', '\"About', '\"About', '\"About', '\"About...\"', '\"Absolute', '\"Access', '\"According', '\"Actually', '\"Address', '\"Admittedly,\"', '\"Advice,', '\"Advice,', '\"Advice,\"', '\"Afraid?\"', '\"Africa', '\"After', '\"After', '\"After', '\"After', '\"Afterlife', '\"Afterlife,', '\"Agenda', '\"Ah', '\"Ah', '\"Ah', '\"Ah', '\"Ah', '\"Ah', '\"Ah', '\"Ah', '\"Ah', '\"Ah', '\"Ah', '\"Ah!', '\"Ah!', '\"Ah!', '\"Ah!\"', '\"Ah!\",', '\"Ah,', '\"Ah,', '\"Ah,', '\"Ah,', '\"Ah,', '\"Ah,', '\"Ah,', '\"Ah,', '\"Ah,', '\"Ah,', '\"Ah,', '\"Ah,', '\"Ah,', '\"Ah,', '\"Ah,', '\"Ah,', '\"Ah,', '\"Ah,', '\"Ah,', '\"Ah,', '\"Ah,', '\"Ah,', '\"Ah,', '\"Ah,', '\"Ah,', '\"Ah,', '\"Ah,', '\"Ah,', '\"Ah,', '\"Ah,\"', '\"Ah,\"', '\"Ah,\"', '\"Ah,\"', '\"Ah,\"', '\"Ah,\"', '\"Ah,\"', '\"Ah,\"', '\"Ah,\"', '\"Ah,\"', '\"Ah,\"', '\"Ah,\"', '\"Ah,\"', '\"Ah,\"', '\"Ah,\"', '\"Ah,\"', '\"Ah,\"', '\"Ah,\"', '\"Ah,\"', '\"Ah,\"', '\"Ah.', '\"Ah.', '\"Ah.', '\"Ah.', '\"Ah.', '\"Ah.\"', '\"Ah.\"', '\"Ah.\"', '\"Ah.\"', '\"Ah.\"', '\"Ah...\"', '\"Aha,', '\"Aha,', '\"Ahm,', '\"Aliens.', '\"All', '\"All', '\"All', '\"All', '\"All', '\"All', '\"All', '\"All', '\"All', '\"All', '\"All', '\"All', '\"All', '\"All', '\"All', '\"All', '\"All', '\"All', '\"All', '\"All', '\"All', '\"All', '\"All', '\"All', '\"All', '\"All', '\"All', '\"Almighty', '\"Alright', '\"Alright!\"', '\"Alright,', '\"Alright,', '\"Alright,', '\"Alright,', '\"Alright,', '\"Alright,\"', '\"Alright,\"', '\"Alright,\"', '\"Alright,\"', '\"Alright,\"', '\"Alright,\"', '\"Alright,\"', '\"Alright,\"', '\"Alright,\"', '\"Alright,\"', '\"Alright,\"', '\"Alright,\"', '\"Alright,\"', '\"Alright,\"', '\"Alright,\"', '\"Alright,\"', '\"Alright,\"', '\"Alright,\"', '\"Alright,\"', '\"Alright.\"', '\"Always', '\"Am', '\"Am', '\"Am', '\"Amazing', '\"Amazing', '\"American', '\"Among', '\"An', '\"An', '\"An', '\"An', '\"An', '\"An', '\"An', '\"An', '\"An', '\"An', '\"An', '\"An', '\"AnS...?\"', '\"Ancient', '\"Ancient', '\"And', '\"And', '\"And', '\"And', '\"And', '\"And', '\"And', '\"And', '\"And', '\"And', '\"And', '\"And', '\"And', '\"And', '\"And', '\"And', '\"And', '\"And', '\"And', '\"And', '\"And', '\"And', '\"And', '\"And', '\"And', '\"And', '\"And', '\"And', '\"And', '\"And', '\"And', '\"And', '\"And', '\"And', '\"And', '\"And', '\"And', '\"And', '\"And', '\"And', '\"And', '\"And', '\"And', '\"And', '\"And', '\"And', '\"And', '\"And', '\"And', '\"And', '\"And', '\"And', '\"And', '\"And', '\"And', '\"And', '\"And', '\"And', '\"And', '\"And', '\"And', '\"And', '\"And', '\"And', '\"And', '\"And', '\"And', '\"And', '\"And', '\"And', '\"And', '\"And', '\"And', '\"And', '\"And', '\"And', '\"And', '\"And', '\"And', '\"And', '\"And', '\"And', '\"And', '\"And', '\"And', '\"And', '\"And', '\"And', '\"And', '\"And', '\"And', '\"And', '\"And', '\"And', '\"And', '\"And', '\"And', '\"And', '\"And', '\"And', '\"And', '\"And', '\"And', '\"And', '\"And', '\"And', '\"And', '\"And', '\"And', '\"And', '\"And', '\"And', '\"And', '\"And', '\"And', '\"And', '\"And', '\"And', '\"And', '\"And', '\"And', '\"And', '\"And', '\"And', '\"And', '\"And', '\"And', '\"And', '\"And', '\"And', '\"And', '\"And', '\"And', '\"And', '\"And', '\"And', '\"And', '\"And', '\"And', '\"And', '\"And', '\"And', '\"And', '\"And', '\"And', '\"And,', '\"And,', '\"And,\"', '\"And,\"', '\"And,\"', '\"And...?\"', '\"And...?\"', '\"Anti-depressants,\"', '\"Any', '\"Any', '\"Any', '\"Any', '\"Any', '\"Any', '\"Anyone', '\"Anyone\\'s', '\"Anything', '\"Anything', '\"Anything,\"', '\"Anyway,', '\"Anyway,\"', '\"Anyway,\"', '\"Anyway,\"', '\"Anyway,\"']\n"
     ]
    }
   ],
   "source": [
    "unsorted_file.seek(0) #reset file handle. I'll explain this in a bit...\n",
    "\n",
    "#inefficient code:\n",
    "sorted_file = sort_text(unsorted_file)\n",
    "print(sorted_file[1:500])\n",
    "\n",
    "unsorted_file.seek(0) \n",
    "#more efficiently:\n",
    "print(sort_text(unsorted_file)[1:500])"
   ]
  },
  {
   "cell_type": "markdown",
   "id": "fd5a4abd",
   "metadata": {},
   "source": [
    "Some functions and methods **don't return anything** (= return *None*), but **still modify the objects** passed as their arguments. The list method *sort()* is such an example. Trying to assign the result of the function call to a new variable (presumably, you'd want a sorted list from *sort()*?) will not have the effect you want:"
   ]
  },
  {
   "cell_type": "code",
   "execution_count": 5,
   "id": "e90d4360",
   "metadata": {},
   "outputs": [
    {
     "name": "stdout",
     "output_type": "stream",
     "text": [
      "<class 'NoneType'>\n"
     ]
    }
   ],
   "source": [
    "#don't do this!\n",
    "sorted_file_v2 = sorted_file.sort() #sorted_file is a list, but sort() does not return a new (sorted) list.\n",
    "print(type(sorted_file_v2)) #so this is not what we would want"
   ]
  },
  {
   "cell_type": "code",
   "execution_count": 6,
   "id": "e92517b5",
   "metadata": {},
   "outputs": [
    {
     "name": "stdout",
     "output_type": "stream",
     "text": [
      "<class 'list'>\n"
     ]
    }
   ],
   "source": [
    "#instead do this:\n",
    "sorted_file.sort()\n",
    "print(type(sorted_file))"
   ]
  },
  {
   "cell_type": "markdown",
   "id": "f2cd328c",
   "metadata": {},
   "source": [
    "**Don't forget that functions can call other functions!**"
   ]
  },
  {
   "cell_type": "code",
   "execution_count": 7,
   "id": "b97cf8b8",
   "metadata": {},
   "outputs": [
    {
     "ename": "StdinNotImplementedError",
     "evalue": "raw_input was called, but this frontend does not support input requests.",
     "output_type": "error",
     "traceback": [
      "\u001b[0;31m---------------------------------------------------------------------------\u001b[0m",
      "\u001b[0;31mStdinNotImplementedError\u001b[0m                  Traceback (most recent call last)",
      "Cell \u001b[0;32mIn [7], line 10\u001b[0m\n\u001b[1;32m      6\u001b[0m     \u001b[38;5;66;03m#note that we can use placeholders {} in the string, filled by the two objects named later\u001b[39;00m\n\u001b[1;32m      8\u001b[0m unsorted_file\u001b[38;5;241m.\u001b[39mseek(\u001b[38;5;241m0\u001b[39m) \u001b[38;5;66;03m#reset file handle.\u001b[39;00m\n\u001b[0;32m---> 10\u001b[0m \u001b[43mcount_word_occurence\u001b[49m\u001b[43m(\u001b[49m\u001b[43munsorted_file\u001b[49m\u001b[43m)\u001b[49m\n",
      "Cell \u001b[0;32mIn [7], line 3\u001b[0m, in \u001b[0;36mcount_word_occurence\u001b[0;34m(file)\u001b[0m\n\u001b[1;32m      1\u001b[0m \u001b[38;5;28;01mdef\u001b[39;00m \u001b[38;5;21mcount_word_occurence\u001b[39m(file):\n\u001b[1;32m      2\u001b[0m     sorted_file \u001b[38;5;241m=\u001b[39m sort_text(file) \u001b[38;5;66;03m#function call to user-defined function \"sort_text\"\u001b[39;00m\n\u001b[0;32m----> 3\u001b[0m     word \u001b[38;5;241m=\u001b[39m \u001b[38;5;28;43minput\u001b[39;49m\u001b[43m(\u001b[49m\u001b[43m)\u001b[49m\n\u001b[1;32m      4\u001b[0m     \u001b[38;5;66;03m#a = sorted_file.count(word)\u001b[39;00m\n\u001b[1;32m      5\u001b[0m     \u001b[38;5;28;01mreturn\u001b[39;00m \u001b[38;5;124m\"\u001b[39m\u001b[38;5;124mThe word \u001b[39m\u001b[38;5;124m'\u001b[39m\u001b[38;5;132;01m{}\u001b[39;00m\u001b[38;5;124m'\u001b[39m\u001b[38;5;124m occurs \u001b[39m\u001b[38;5;132;01m{}\u001b[39;00m\u001b[38;5;124m times in the text.\u001b[39m\u001b[38;5;124m\"\u001b[39m\u001b[38;5;241m.\u001b[39mformat(word,sorted_file\u001b[38;5;241m.\u001b[39mcount(word))\n",
      "File \u001b[0;32m/opt/homebrew/lib/python3.10/site-packages/ipykernel/kernelbase.py:1174\u001b[0m, in \u001b[0;36mKernel.raw_input\u001b[0;34m(self, prompt)\u001b[0m\n\u001b[1;32m   1167\u001b[0m \u001b[38;5;124;03m\"\"\"Forward raw_input to frontends\u001b[39;00m\n\u001b[1;32m   1168\u001b[0m \n\u001b[1;32m   1169\u001b[0m \u001b[38;5;124;03mRaises\u001b[39;00m\n\u001b[1;32m   1170\u001b[0m \u001b[38;5;124;03m------\u001b[39;00m\n\u001b[1;32m   1171\u001b[0m \u001b[38;5;124;03mStdinNotImplementedError if active frontend doesn't support stdin.\u001b[39;00m\n\u001b[1;32m   1172\u001b[0m \u001b[38;5;124;03m\"\"\"\u001b[39;00m\n\u001b[1;32m   1173\u001b[0m \u001b[38;5;28;01mif\u001b[39;00m \u001b[38;5;129;01mnot\u001b[39;00m \u001b[38;5;28mself\u001b[39m\u001b[38;5;241m.\u001b[39m_allow_stdin:\n\u001b[0;32m-> 1174\u001b[0m     \u001b[38;5;28;01mraise\u001b[39;00m StdinNotImplementedError(\n\u001b[1;32m   1175\u001b[0m         \u001b[38;5;124m\"\u001b[39m\u001b[38;5;124mraw_input was called, but this frontend does not support input requests.\u001b[39m\u001b[38;5;124m\"\u001b[39m\n\u001b[1;32m   1176\u001b[0m     )\n\u001b[1;32m   1177\u001b[0m \u001b[38;5;28;01mreturn\u001b[39;00m \u001b[38;5;28mself\u001b[39m\u001b[38;5;241m.\u001b[39m_input_request(\n\u001b[1;32m   1178\u001b[0m     \u001b[38;5;28mstr\u001b[39m(prompt),\n\u001b[1;32m   1179\u001b[0m     \u001b[38;5;28mself\u001b[39m\u001b[38;5;241m.\u001b[39m_parent_ident[\u001b[38;5;124m\"\u001b[39m\u001b[38;5;124mshell\u001b[39m\u001b[38;5;124m\"\u001b[39m],\n\u001b[1;32m   1180\u001b[0m     \u001b[38;5;28mself\u001b[39m\u001b[38;5;241m.\u001b[39mget_parent(\u001b[38;5;124m\"\u001b[39m\u001b[38;5;124mshell\u001b[39m\u001b[38;5;124m\"\u001b[39m),\n\u001b[1;32m   1181\u001b[0m     password\u001b[38;5;241m=\u001b[39m\u001b[38;5;28;01mFalse\u001b[39;00m,\n\u001b[1;32m   1182\u001b[0m )\n",
      "\u001b[0;31mStdinNotImplementedError\u001b[0m: raw_input was called, but this frontend does not support input requests."
     ]
    }
   ],
   "source": [
    "def count_word_occurence(file):\n",
    "    sorted_file = sort_text(file) #function call to user-defined function \"sort_text\"\n",
    "    word = input()\n",
    "    #a = sorted_file.count(word)\n",
    "    return \"The word '{}' occurs {} times in the text.\".format(word,sorted_file.count(word)) \n",
    "    #note that we can use placeholders {} in the string, filled by the two objects named later\n",
    "\n",
    "unsorted_file.seek(0) #reset file handle.\n",
    "\n",
    "count_word_occurence(unsorted_file)"
   ]
  },
  {
   "cell_type": "markdown",
   "id": "7d91788f",
   "metadata": {},
   "source": [
    "### More on loops\n",
    "\n",
    "#### **Recap on *ranges***: \n",
    "One of the most basic iterables is the range. The *range* function generates iterable sequences of numbers based on upto 3 input parameters: *range(i,n,k)* produces integers in the range from *i* to *n*-1, but only produces every *k*th integer in that sequence.\n",
    "\n",
    "Ranges are **widespread and versatile for iterating over collections of elements** (lists, tuples, sets, dictionaries)."
   ]
  },
  {
   "cell_type": "code",
   "execution_count": 8,
   "id": "03736d0d",
   "metadata": {},
   "outputs": [
    {
     "name": "stdout",
     "output_type": "stream",
     "text": [
      "The string '\"Anti-depressants,\"' has 19 letters\n",
      "The string '\"By-products...,\"' has 17 letters\n",
      "The string '\"Errrrrrrrrrrr...\"' has 18 letters\n",
      "The string '\"Follow-through?\"' has 17 letters\n",
      "The string '\"Hummmmmmmyummmmmmm' has 19 letters\n",
      "The string '\"Mmmmmwwwwwerrrrr?\"' has 19 letters\n",
      "The string '\"Slartibartfast's' has 17 letters\n",
      "The string '\"Slartibartfast,\"' has 17 letters\n",
      "The string '\"Slartibartfast?\"' has 17 letters\n",
      "The string '\"Ugghhhuuggghhhrrrr' has 19 letters\n",
      "The string '\"tzjin-anthony-ks\"' has 18 letters\n",
      "The string '0107-095-295-9051).' has 19 letters\n",
      "The string 'Breathe-o-Smart!\"' has 17 letters\n",
      "The string 'Fintlewoodlewix...\"' has 19 letters\n",
      "The string 'IMPOSSIBILITIES\".' has 17 letters\n",
      "The string 'Improbability-proof' has 19 letters\n",
      "The string 'Infinity-minus-one' has 18 letters\n",
      "The string 'Know-Nothing-Bozo' has 17 letters\n",
      "The string 'Know-Nothing-Bozo' has 17 letters\n",
      "The string 'Know-Nothing-Bozo' has 17 letters\n",
      "The string 'Refracto-Nullifiers' has 19 letters\n",
      "The string 'Semi-Conditionally' has 18 letters\n",
      "The string 'Stagyar-zil-Doggo' has 17 letters\n",
      "The string 'Stagyar-zil-Doggo,' has 18 letters\n",
      "The string 'Stagyar-zil-Doggo.' has 18 letters\n",
      "The string 'Streetmentioner's' has 17 letters\n",
      "The string 'Streetmentioner's' has 17 letters\n",
      "The string 'Telecommunications.' has 19 letters\n",
      "The string 'Under-structured,' has 17 letters\n",
      "The string 'aggressive-looking' has 18 letters\n",
      "The string 'astrally-minded!\"' has 17 letters\n",
      "The string 'baggage-retrieval' has 17 letters\n",
      "The string 'bloody-whatsiting' has 17 letters\n",
      "The string 'bloodymindedness.' has 17 letters\n",
      "The string 'blurglecruncheon,' has 17 letters\n",
      "The string 'cellophane-windowed' has 19 letters\n",
      "The string 'ceramo-teak-bonded' has 18 letters\n",
      "The string 'change-of-address' has 17 letters\n",
      "The string 'condescension,\"...' has 18 letters\n",
      "The string 'conspirationally.' has 17 letters\n",
      "The string 'conversationally.' has 17 letters\n",
      "The string 'dematerialization' has 17 letters\n",
      "The string 'ecstasy-inducingly' has 18 letters\n",
      "The string 'editor-in-chief's' has 17 letters\n",
      "The string 'enthusiastically.' has 17 letters\n",
      "The string 'enthusiastically.' has 17 letters\n",
      "The string 'environmentalists' has 17 letters\n",
      "The string 'environmentalists' has 17 letters\n",
      "The string 'environmentalists' has 17 letters\n",
      "The string 'epistemologically' has 17 letters\n",
      "The string 'establishment...\"' has 17 letters\n",
      "The string 'feet/second/second,' has 19 letters\n",
      "The string 'five-million-year' has 17 letters\n",
      "The string 'four-dimensionally' has 18 letters\n",
      "The string 'frankness,\"There's' has 18 letters\n",
      "The string 'great-grandchildren' has 19 letters\n",
      "The string 'hypermathematics,' has 17 letters\n",
      "The string 'hypermathematics,' has 17 letters\n",
      "The string 'indistinguishable' has 17 letters\n",
      "The string 'indistinguishable' has 17 letters\n",
      "The string 'indistinguishable' has 17 letters\n",
      "The string 'interior-designed' has 17 letters\n",
      "The string 'land!!!!!!!!!!!!!!!' has 19 letters\n",
      "The string 'maximegalacticans,' has 18 letters\n",
      "The string 'methane-breathing' has 17 letters\n",
      "The string 'microprocessors,\"' has 17 letters\n",
      "The string 'mind-witheringly,' has 17 letters\n",
      "The string 'misunderstanding.' has 17 letters\n",
      "The string 'mugging-expensive' has 17 letters\n",
      "The string 'multi-dimensional' has 17 letters\n",
      "The string 'multi-dimensional' has 17 letters\n",
      "The string 'multi-dimensional' has 17 letters\n",
      "The string 'multi-dimensional' has 17 letters\n",
      "The string 'multi-dimensional' has 17 letters\n",
      "The string 'multi-dimensional' has 17 letters\n",
      "The string 'multi-dimensional' has 17 letters\n",
      "The string 'one-and-a-half-ton' has 18 letters\n",
      "The string 'quantum-mechanical' has 18 letters\n",
      "The string 'relationships...\"' has 17 letters\n",
      "The string 'reverse-engineered' has 18 letters\n",
      "The string 'self-preservation' has 17 letters\n",
      "The string 'seventy-millimetre' has 18 letters\n",
      "The string 'slower-than-light' has 17 letters\n",
      "The string 'spaceship-stripping' has 19 letters\n",
      "The string 'super-intelligent' has 17 letters\n",
      "The string 'super-intelligent' has 17 letters\n",
      "The string 'suspicious-looking' has 18 letters\n",
      "The string 'telecommunications' has 18 letters\n",
      "The string 'tense-corrections' has 17 letters\n",
      "The string 'thousand-mile-long' has 18 letters\n",
      "The string 'three-dimensional' has 17 letters\n",
      "The string 'three-dimensional' has 17 letters\n",
      "The string 'three-dimensional' has 17 letters\n",
      "The string 'three-dimensional' has 17 letters\n",
      "The string 'touch-sensitive-you' has 19 letters\n",
      "The string 'well-disposedness' has 17 letters\n"
     ]
    }
   ],
   "source": [
    "for i in range(len(sorted_file)): #iterate over full length of list\n",
    "    for j in range(17,20): #iterate over sequence of integers between 17 and 19\n",
    "        if len(sorted_file[i])==j:\n",
    "            print(\"The string '{}' has {} letters\"\n",
    "                  .format(sorted_file[i], j)) "
   ]
  },
  {
   "cell_type": "markdown",
   "id": "9631f9d3",
   "metadata": {},
   "source": [
    "**An issue for you to think of**: Try to understand the order of operations with nested loops. Why does the loop above not print output ordered by increasing string length, first printing all strings of length 17, then 18, 19,...? "
   ]
  },
  {
   "cell_type": "markdown",
   "id": "169d403d",
   "metadata": {},
   "source": [
    "#### **File handles are iterables**: \n",
    "As you can see from the first code block in this session, loops can iterate over lines in a file. \n",
    "\n",
    "Note, though, that **file handles have *states***, that is, they **'remember where (in the file) they are'**. For this reason, you have to reset the state of the file handle if you want to loop over file handles multiple times, using ***file.seek(0)***."
   ]
  },
  {
   "cell_type": "code",
   "execution_count": 9,
   "id": "8ecea3b8",
   "metadata": {},
   "outputs": [
    {
     "name": "stdout",
     "output_type": "stream",
     "text": [
      "The first 20 lines of the book are:\n",
      "\n",
      "THE ULTIMATE \n",
      "\n",
      "HITCHHIKER'S GUIDE \n",
      "\n",
      "\n",
      "\n",
      "Complete &amp; Unabridged \n",
      "\n",
      "\n",
      "\n",
      "\n",
      "\n",
      "Contents: \n",
      "\n",
      "\n",
      "\n",
      "\n",
      "\n",
      "Introduction: A Guide to the Guide \n",
      "\n",
      "The Hitchhiker's Guide to the Galaxy \n",
      "\n",
      "The Restaurant at the End of the Universe \n",
      "\n",
      "Life, the Universe and Everything \n",
      "\n",
      "So Long, and Thanks for All the Fish \n",
      "\n",
      "Young Zaphod Plays It Safe \n",
      "\n",
      "Mostly Harmless \n",
      "\n",
      "Footnotes \n",
      "\n",
      "\n",
      "\n",
      "\n",
      "\n",
      "\n",
      "\n",
      "\n",
      "But if we loop over the file contents again, we continue where we left off:\n",
      "\n",
      "Introduction: A GUIDE TO \n",
      "\n",
      "THE GUIDE \n",
      "\n",
      "\n",
      "\n",
      "\n",
      "\n",
      "Some unhelpful remarks from the author \n",
      "\n",
      "\n",
      "\n",
      "The history of The Hitchhiker's Guide to the Galaxy is now so \n",
      "\n",
      "complicated that every time I tell it I contradict myself, and whenever \n",
      "\n",
      "I do get it right I'm misquoted. So the publication of this omnibus \n",
      "\n",
      "edition seemed like a good opportunity to set the record straight - or \n",
      "\n",
      "at least firmly crooked. Anything that is put down wrong here is, as far \n",
      "\n",
      "as I'm concerned, wrong for good. \n",
      "\n",
      "\n",
      "\n",
      "The idea for the title first cropped up while I was lying drunk in a \n",
      "\n",
      "field in Innsbruck, Austria, in 1971. Not particularly drunk, just the \n",
      "\n",
      "sort of drunk you get when you have a couple of stiff Gossers after \n",
      "\n",
      "not having eaten for two days straight, on account of being a \n",
      "\n",
      "penniless hitchhiker. We are talking of a mild inability to stand up. \n",
      "\n",
      "\n",
      "\n",
      "I was traveling with a copy of the Hitch Hiker s Guide to Europe by \n",
      "\n"
     ]
    }
   ],
   "source": [
    "unsorted_file.seek(0)\n",
    "print(\"The first 20 lines of the book are:\\n\")\n",
    "for line in range(20):\n",
    "    print(unsorted_file.readline())\n",
    "\n",
    "#unsorted_file.seek(0) (use this command to reset the file handle)\n",
    "print(\"\\nBut if we loop over the file contents again, we continue where we left off:\\n\")\n",
    "#this doesn't do what you think it might:\n",
    "for line in range(20):\n",
    "    print(unsorted_file.readline())"
   ]
  },
  {
   "cell_type": "markdown",
   "id": "a866cc49",
   "metadata": {},
   "source": [
    "### Sorting, reverse sorting, sorting by key\n",
    "\n",
    "Sorting elemens in a sequence or collection of objects is essential to many use-cases of programming. Luckily, the functionality of sorting functions in Python is much more versatile than we have seen thus far:\n",
    "\n",
    "#### - *sort()* and *sorted()*\n",
    "As seen above, *sort()* modifies the original sequence it was passed. **To sort sequences or collections without disturbing the original sequence** of the object, use the ***sorted()*** function. *Sorted()* returns an ordered copy of the sequence passed as its argument:"
   ]
  },
  {
   "cell_type": "code",
   "execution_count": 10,
   "id": "99d099a1",
   "metadata": {},
   "outputs": [
    {
     "name": "stdout",
     "output_type": "stream",
     "text": [
      "<class 'list'>\n"
     ]
    }
   ],
   "source": [
    "sorted_file_v3 = sorted(sorted_file, reverse = True) \n",
    "print(type(sorted_file_v3))"
   ]
  },
  {
   "cell_type": "markdown",
   "id": "56f7f4df",
   "metadata": {},
   "source": [
    "#### - Sorting order\n",
    "The keyword ***reverse = True*** can be passed to both *sort()* and *sorted()* to reverse the sorting order from the **default sorting order**, which is **ascending** (numerically or alphabetically). \n",
    "\n",
    "Both *sort()* and *sorted()* can also be passed a ***key* parameter**, which can be used to specify alternative sorting orders. The key parameter **should be a function that takes a single argument** (the respective element of the to-be-sorted sequence) **and returns a key** (the value the function returns for the passed element) **to use for sorting purposes**. \n",
    "\n",
    "For instance, you may want to ignore capitalization when sorting list elements alphabetically:"
   ]
  },
  {
   "cell_type": "code",
   "execution_count": 11,
   "id": "71e8150d",
   "metadata": {},
   "outputs": [
    {
     "name": "stdout",
     "output_type": "stream",
     "text": [
      "['\"', '\"', '\"', '\"', '\"', '\"', '\"', '\"', '\"', '\"', '\"', '\"', '\"', '\"', '\"', '\"', '\"', '\"\\'Between', '\"\\'But,\\'', '\"\\'Cos', '\"\\'cos', '\"\\'E', '\"\\'Ere,', '\"\\'known', '\"\\'Lord,', '\"\\'Oh', '\"\\'Oh,', '\"\\'orrible.', '\"\\'Pleiades', '\"\\'Protect', '\"\\'Reverse', '\"\\'That\\'s', '\"\\'They\\'ve...\\'', '\"\\'Up,', '\"\\'What\\'s', '\"...', '\"...', '\"...', '\"...', '\"...', '\"...', '\"...', '\"...', '\"...', '\"...', '\"...', '\"...', '\"...', '\"...', '\"...', '\"...', '\"...', '\"...', '\"...', '\"...', '\"...', '\"...', '\"...', '\"...', '\"...', '\"...', '\"...', '\"...', '\"...', '\"...', '\"...', '\"...', '\"...', '\"...', '\"...', '\"...', '\"...', '\"...', '\"...', '\"...', '\"...', '\"...and...\"', '\"...be', '\"...but', '\"...denied', '\"...refused', '\"?...', '\"A', '\"A', '\"A', '\"A', '\"A', '\"A', '\"A', '\"A', '\"A', '\"A', '\"A', '\"A', '\"A', '\"A', '\"A', '\"A', '\"A', '\"A', '\"A', '\"A', '\"A', '\"A', '\"A', '\"A', '\"A', '\"A', '\"A', '\"A', '\"A', '\"A', '\"A', '\"A', '\"A', '\"A', '\"A', '\"A', '\"A', '\"A', '\"A', '\"A', '\"A', '\"A', '\"A', '\"A', '\"A', '\"A', '\"A', '\"A', '\"A', '\"A', '\"A', '\"A', '\"A', '\"A', '\"A', '\"A', '\"A', '\"A', '\"A', '\"A', '\"A', '\"A', '\"A', '\"A', '\"A', '\"a', '\"a', '\"a', '\"a', '\"a', '\"a', '\"a', '\"a', '\"a', '\"a', '\"a', '\"a', '\"a', '\"a', '\"a', '\"a', '\"a', '\"a', '\"a', '\"a', '\"a', '\"a\"', '\"Aaaaaaarggggghhhhhh!\"', '\"Aaaargggh...\"', '\"About', '\"About', '\"About', '\"about', '\"about', '\"about', '\"about', '\"about', '\"about', '\"About...\"', '\"above', '\"Absolute', '\"absolutely', '\"abuse.\"', '\"Access', '\"accident\"', '\"According', '\"Actually', '\"actually', '\"actually', '\"Address', '\"Admittedly,\"', '\"advice\"', '\"Advice,', '\"Advice,', '\"Advice,\"', '\"Afraid?\"', '\"Africa', '\"After', '\"After', '\"After', '\"After', '\"after', '\"after', '\"Afterlife', '\"Afterlife,', '\"again.\"', '\"Agenda', '\"agree', '\"Ah', '\"Ah', '\"Ah', '\"Ah', '\"Ah', '\"Ah', '\"Ah', '\"Ah', '\"Ah', '\"Ah', '\"Ah', '\"Ah!', '\"Ah!', '\"Ah!', '\"Ah!\"', '\"Ah!\",', '\"Ah,', '\"Ah,', '\"Ah,', '\"Ah,', '\"Ah,', '\"Ah,', '\"Ah,', '\"Ah,', '\"Ah,', '\"Ah,', '\"Ah,', '\"Ah,', '\"Ah,', '\"Ah,', '\"Ah,', '\"Ah,', '\"Ah,', '\"Ah,', '\"Ah,', '\"Ah,', '\"Ah,', '\"Ah,', '\"Ah,', '\"Ah,', '\"Ah,', '\"Ah,', '\"Ah,', '\"Ah,', '\"Ah,', '\"Ah,\"', '\"Ah,\"', '\"Ah,\"', '\"Ah,\"', '\"Ah,\"', '\"Ah,\"', '\"Ah,\"', '\"Ah,\"', '\"Ah,\"', '\"Ah,\"', '\"Ah,\"', '\"Ah,\"', '\"Ah,\"', '\"Ah,\"', '\"Ah,\"', '\"Ah,\"', '\"Ah,\"', '\"Ah,\"', '\"Ah,\"', '\"Ah,\"', '\"Ah.', '\"Ah.', '\"Ah.', '\"Ah.', '\"Ah.', '\"Ah.\"', '\"Ah.\"', '\"Ah.\"', '\"Ah.\"', '\"Ah.\"', '\"Ah...\"', '\"Aha,', '\"Aha,', '\"Ahm,', '\"Aliens.', '\"All', '\"All', '\"All', '\"All', '\"All', '\"All', '\"All', '\"All', '\"All', '\"All', '\"All', '\"All', '\"All', '\"All', '\"All', '\"All', '\"All', '\"All', '\"All', '\"All', '\"All', '\"All', '\"All', '\"All', '\"All', '\"All', '\"All', '\"all', '\"all', '\"all', '\"all', '\"all', '\"all', '\"all', '\"Almighty', '\"Alright', '\"Alright!\"', '\"Alright,', '\"Alright,', '\"Alright,', '\"Alright,', '\"Alright,', '\"alright,', '\"Alright,\"', '\"Alright,\"', '\"Alright,\"', '\"Alright,\"', '\"Alright,\"', '\"Alright,\"', '\"Alright,\"', '\"Alright,\"', '\"Alright,\"', '\"Alright,\"', '\"Alright,\"', '\"Alright,\"', '\"Alright,\"', '\"Alright,\"', '\"Alright,\"', '\"Alright,\"', '\"Alright,\"', '\"Alright,\"', '\"Alright,\"', '\"Alright.\"', '\"Always', '\"Am', '\"Am', '\"Am', '\"am', '\"Amazing', '\"Amazing', '\"American', '\"Among', '\"An', '\"An', '\"An', '\"An', '\"An', '\"An', '\"An', '\"An', '\"An', '\"An', '\"An', '\"An', '\"an', '\"an', '\"Ancient', '\"Ancient', '\"And', '\"And', '\"And', '\"And', '\"And', '\"And', '\"And', '\"And', '\"And', '\"And', '\"And', '\"And', '\"And', '\"And', '\"And', '\"And', '\"And', '\"And', '\"And', '\"And', '\"And', '\"And', '\"And', '\"And', '\"And', '\"And', '\"And', '\"And', '\"And', '\"And', '\"And', '\"And', '\"And', '\"And', '\"And', '\"And', '\"And', '\"And', '\"And', '\"And', '\"And', '\"And', '\"And', '\"And', '\"And', '\"And', '\"And', '\"And', '\"And', '\"And', '\"And', '\"And', '\"And', '\"And', '\"And', '\"And', '\"And', '\"And', '\"And', '\"And', '\"And', '\"And', '\"And', '\"And', '\"And', '\"And', '\"And', '\"And', '\"And', '\"And', '\"And', '\"And', '\"And', '\"And', '\"And', '\"And', '\"And', '\"And', '\"And', '\"And', '\"And', '\"And', '\"And', '\"And', '\"And', '\"And', '\"And', '\"And', '\"And', '\"And', '\"And', '\"And', '\"And', '\"And', '\"And', '\"And', '\"And', '\"And', '\"And', '\"And', '\"And', '\"And', '\"And', '\"And', '\"And', '\"And', '\"And', '\"And', '\"And', '\"And', '\"And', '\"And', '\"And', '\"And', '\"And', '\"And', '\"And', '\"And', '\"And', '\"And', '\"And']\n"
     ]
    }
   ],
   "source": [
    "#case-insensitive string comparison\n",
    "sorted_file_v3 = sorted(sorted_file, key = str.lower) #sorts all list elements as if they were lower-case versions of themselves\n",
    "print(sorted_file_v3[1:500])"
   ]
  },
  {
   "cell_type": "markdown",
   "id": "b5d97334",
   "metadata": {},
   "source": [
    "#### - Sorting dictionaries by key or value\n",
    "**Dictionaries** are mappings between keys and values. As such, they are **not intrinsically ordered**. However, sometimes we may want to **sort dictionaries into a sequence of ordered elements**, e.g., when trying to read out the mapping between students' names and grades by order of their first/last name (A-Z) or grade (1-6 in the German system). \n",
    "\n",
    "By default, when applying the ***sorted()*** function, dictionaries are **sorted by their keys**. In fact, just feeding a dictionary straight to the *sorted()* function will simply return a sorted list of its keys."
   ]
  },
  {
   "cell_type": "code",
   "execution_count": 7,
   "id": "f7cc4446",
   "metadata": {},
   "outputs": [],
   "source": [
    "#initialize dictionary (see session04)\n",
    "first_names = [\"Arthur\", \"Ford\", \"Zaphod\", \"Marvin\"]\n",
    "last_names = [\"Dent\", \"Prefect\", \"Beeblebrox\", \"\"]\n",
    "lifeform = [\"Human\", \"Betelgeusian\", \"Betelgeusian\", \"Android\"]\n",
    "feature = [\"Worried\",\"Endlessly broad-minded\",\"Two-headed\",\"Paranoid\"]\n",
    "\n",
    "notebook = {\"First name\" : first_names, \"Last name\" : last_names, \"Life form\" : lifeform, \"Distinct feature\" : feature}"
   ]
  },
  {
   "cell_type": "code",
   "execution_count": 13,
   "id": "141941f0",
   "metadata": {},
   "outputs": [
    {
     "name": "stdout",
     "output_type": "stream",
     "text": [
      "['Distinct feature', 'First name', 'Last name', 'Life form']\n"
     ]
    }
   ],
   "source": [
    "print(sorted(notebook)) #just returns sorted list of keys"
   ]
  },
  {
   "cell_type": "markdown",
   "id": "ebd0cf1e",
   "metadata": {},
   "source": [
    "**Option for sorting dictionary and returning a list sorted by key**: Using the dictionary method *items()*, we receive a dictionary view object, a list of tuples containing all key-value pairs (see also the methods *values()* and *keys()*, session 04). Calling *sorted()* on this object will return a list sorted by the dictionary's keys."
   ]
  },
  {
   "cell_type": "code",
   "execution_count": 14,
   "id": "f3ec6bec",
   "metadata": {},
   "outputs": [
    {
     "name": "stdout",
     "output_type": "stream",
     "text": [
      "[('Distinct feature', ['Worried', 'Endlessly broad-minded', 'Two-headed', 'Paranoid']), ('First name', ['Arthur', 'Ford', 'Zaphod', 'Marvin']), ('Last name', ['Dent', 'Prefect', 'Beeblebrox', '']), ('Life form', ['Human', 'Betelgeusian', 'Betelgeusian', 'Android'])]\n"
     ]
    }
   ],
   "source": [
    "print(sorted(notebook.items()))"
   ]
  },
  {
   "cell_type": "markdown",
   "id": "7cf01f21",
   "metadata": {},
   "source": [
    "**Option for sorting dictionary and retuning a list sorted by value**: To sort a dictionary by value, we need to use a *key* parameter in the *sorted()* function that specifies which value of the dictionary elements to sort over.\n",
    "\n",
    "- Remember that **the key parameter should be a function**. But there is no in-built function for getting dictionary values...\n",
    "\n",
    "- Instead, a **lambda function** may be used to specify the sort key. Lambda functions are *anonymous* functions, that is, functions that are never defined with a name. They are useful when the function is only required for a short time/single application.\n",
    "\n",
    "- Their syntax is:\n",
    "           \n",
    "           lambda arguments: expression\n",
    "    \n",
    "- This is akin to a function defined as:\n",
    "    \n",
    "        def function(arguments):\n",
    "            return expression\n",
    "    \n",
    "- Lambda functions can have **any number of arguments but only one expression**. That expression is **evaluated and returned**."
   ]
  },
  {
   "cell_type": "code",
   "execution_count": 9,
   "id": "e3e1d45f",
   "metadata": {},
   "outputs": [
    {
     "name": "stdout",
     "output_type": "stream",
     "text": [
      "[('First name', ['Arthur', 'Ford', 'Zaphod', 'Marvin']), ('Last name', ['Dent', 'Prefect', 'Beeblebrox', '']), ('Life form', ['Human', 'Betelgeusian', 'Betelgeusian', 'Android']), ('Distinct feature', ['Worried', 'Endlessly broad-minded', 'Two-headed', 'Paranoid'])]\n"
     ]
    }
   ],
   "source": [
    "#using a lambda function\n",
    "print(sorted(notebook.items(), key = lambda x: x[1]))#sorts by value ==> here, alphabetical order of the lists containing our dictionary values (by their first element)"
   ]
  },
  {
   "cell_type": "markdown",
   "id": "462c83b2",
   "metadata": {},
   "source": [
    "- Alternatively, **the *operator* module** has convenience functions to fetch items from an operand, which can be any sequence or collection of elements:"
   ]
  },
  {
   "cell_type": "code",
   "execution_count": 11,
   "id": "7d28a7d3",
   "metadata": {},
   "outputs": [
    {
     "name": "stdout",
     "output_type": "stream",
     "text": [
      "[('First name', ['Arthur', 'Ford', 'Zaphod', 'Marvin']), ('Last name', ['Dent', 'Prefect', 'Beeblebrox', '']), ('Life form', ['Human', 'Betelgeusian', 'Betelgeusian', 'Android']), ('Distinct feature', ['Worried', 'Endlessly broad-minded', 'Two-headed', 'Paranoid'])]\n"
     ]
    }
   ],
   "source": [
    "from operator import itemgetter\n",
    "\n",
    "print(sorted(notebook.items(), key = itemgetter(1)))#sorts by value, same as the lambda function above"
   ]
  },
  {
   "cell_type": "markdown",
   "id": "6b67a3fd",
   "metadata": {},
   "source": [
    "### ***While* loops, or \"Anything you can do, *for* can do better\"?**\n",
    "\n",
    "We saw in an earlier session that *for* loops and *while* loops can be used to achieve the same outcome. So how should you decide which loop to choose in the first place?  \n",
    "\n",
    "- *While* loops continue until a condition is False. *For* loops iterate over collections, iterable objects or generator functions.\n",
    "- As such, *for* loops are the natural choice for data structures that are already iterable.\n",
    "- *While* loops can be used on data structures that are not iterable. \n",
    "- *While* loops may also be prefered if you do not know the number of required iterations beforehand."
   ]
  },
  {
   "cell_type": "code",
   "execution_count": 17,
   "id": "9bb221b3",
   "metadata": {},
   "outputs": [
    {
     "name": "stdout",
     "output_type": "stream",
     "text": [
      "Please choose an  option: \n",
      " 'repeat' -- repeat current song \n",
      " 'stop' -- stop playback \n",
      " other/no input -- continue playback\n",
      "\n",
      "Now playing:  Let It Be\n",
      "quit\n",
      "Now playing:  Eleanor Rigby\n",
      "stop\n",
      "Playback stopped.\n"
     ]
    }
   ],
   "source": [
    "from random import randrange\n",
    "\n",
    "playlist = [\"Let It Be\",\"Hey Jude\",\"Here Comes The Sun\",\"Something\",\"Taxman\",\"Eleanor Rigby\",\"Yellow Submarine\",\"Love You Do\"]\n",
    "\n",
    "command = \"start\"\n",
    "\n",
    "print(\"Please choose an  option: \\n 'repeat' -- repeat current song \\n 'stop' -- stop playback \\n other/no input -- continue playback\\n\")\n",
    "\n",
    "while command !=\"stop\":\n",
    "    if command == \"repeat\":\n",
    "        print(\"Repeating song:\", current_song)\n",
    "    else:\n",
    "        current_song = playlist[randrange(7)] #on each execution, randrange picks a random integer from the specified range, here between 0 and 6\n",
    "        print(\"Now playing: \", current_song ) \n",
    "    command = input()\n",
    "print(\"Playback stopped.\")   "
   ]
  },
  {
   "cell_type": "markdown",
   "id": "24c1bd13",
   "metadata": {},
   "source": [
    "### Notes on code efficiency and maintainability\n",
    "\n",
    "#### Optimization\n",
    "For every **computable problem or task**, there are infinitely many programs which solve it; they will differ in **memory** and **time usage**. You may not care much about this for now, while working on toy examples with little computational demands. But if you **get used to writing reasonably efficient code** now, you will have a much easier time later!\n",
    "\n",
    "**What does it mean for code to be efficient?** Some principles:\n",
    "\n",
    "- **Avoid creating unnecessary objects**. *Do you really need that value stored in a variable?*\n",
    "- Conversely, **avoid computing the same thing twice** by storing the value in a variable. *Do you compute the same value on every execution of a loop? Why not save it in a variable?*\n",
    "- **Avoid running costly operations** (such as file I/O, search) multiple times. *Are you reading the same file at various places in your code? Why?*\n",
    "- **Use functions (and classes, see later sessions)** to generalize and modularize your code. Avoid declaring variables with global scope to prevent unnecessary clutter. *Will you really need that variable in your for loop again later on? Probably not...*\n",
    "\n",
    "An extreme example:"
   ]
  },
  {
   "cell_type": "code",
   "execution_count": 18,
   "id": "6f09dcd3",
   "metadata": {},
   "outputs": [
    {
     "name": "stdout",
     "output_type": "stream",
     "text": [
      "THE\n",
      "ULTIMATE\n"
     ]
    }
   ],
   "source": [
    "for i in range (2): #for i in range 0-1\n",
    "    unsorted_file = open(\"hitchhikers_guide_full.txt\", \"r\") #read in the file\n",
    "    x = unsorted_file.readline().split() #read the first line, split into list of words\n",
    "    global y #create global variable\n",
    "    y = x[i] #save i-th word in list x in variable y\n",
    "    print(y) #print variable"
   ]
  },
  {
   "cell_type": "markdown",
   "id": "62248051",
   "metadata": {},
   "source": [
    "The same thing, but more efficiently:"
   ]
  },
  {
   "cell_type": "code",
   "execution_count": 19,
   "id": "1c1148bc",
   "metadata": {},
   "outputs": [
    {
     "name": "stdout",
     "output_type": "stream",
     "text": [
      "THE\n",
      "ULTIMATE\n"
     ]
    }
   ],
   "source": [
    "for i in range (2): #for i in range 0-1\n",
    "    unsorted_file.seek(0) #reset file handle\n",
    "    print(unsorted_file.readline().split()[i]) #print i-th word in first line"
   ]
  },
  {
   "cell_type": "markdown",
   "id": "34595e3f",
   "metadata": {},
   "source": [
    "#### Maintainability\n",
    "\n",
    "While **code efficiency** is about reducing **computational complexity**, **code maintainability** is about reducing **complexity for (human) programmers**. \n",
    "\n",
    "**Principles for code maintainability** include:\n",
    "- **Comment your code**, explain user-defined functions' behaviors, and use informative variable + function names to ensure your code is understandable to others\n",
    "- **Don't copy and paste** code, use functions and loops.\n",
    "- **Encapsulate elements** that are subject to change (e.g., user input, file I/O) and those that stay the same (e.g., functions, classes). This makes it easier to identify adaptable components.\n",
    "- **Minimize coupling** between different code components. This makes your code more *changeable*."
   ]
  }
 ],
 "metadata": {
  "kernelspec": {
   "display_name": "Python 3 (ipykernel)",
   "language": "python",
   "name": "python3"
  },
  "language_info": {
   "codemirror_mode": {
    "name": "ipython",
    "version": 3
   },
   "file_extension": ".py",
   "mimetype": "text/x-python",
   "name": "python",
   "nbconvert_exporter": "python",
   "pygments_lexer": "ipython3",
   "version": "3.10.12"
  }
 },
 "nbformat": 4,
 "nbformat_minor": 5
}