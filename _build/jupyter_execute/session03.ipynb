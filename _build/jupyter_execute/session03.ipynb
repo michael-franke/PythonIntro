{
 "cells": [
  {
   "cell_type": "markdown",
   "id": "356b455a",
   "metadata": {},
   "source": [
    "# Functions and conditional execution \n",
    "\n",
    "In this session, you will learn about **functions** and **flow control statements**. These are essential concepts to any programming language and will allow you to write more complex programs that execute blocks of statements based on variables types of input and output values. \n",
    "\n",
    "## Preliminaries: Code structure\n",
    "\n",
    "Proper **formatting** of your code is essential to ensure that it runs in the intended order and is understandable to others (as well as your future self). Code readability is also improved by documentation in the form of **comments/annotations**, which, in addition, are a useful tool in debugging (cf. **rubber duck debugging**: https://en.wikipedia.org/wiki/Rubber_duck_debugging). \n",
    "\n",
    "\n",
    "### Indentation\n",
    "\n",
    "For advanced constructs, **lines of code are organised in blocks**. Blocks specify sequences of statements that are always executed together in the same order. Blocks are organised through levels of code indentation. There are three rules for blocks.  \n",
    "\n",
    "- Blocks begin when the indentation increases.\n",
    "- Blocks can contain other blocks.\n",
    "- Blocks end when the indentation decreases to zero or to a containing block’s indentation.  \n",
    "\n",
    "This will be easier to understand by way of example:"
   ]
  },
  {
   "cell_type": "code",
   "execution_count": 1,
   "id": "23d5292b",
   "metadata": {},
   "outputs": [
    {
     "name": "stdout",
     "output_type": "stream",
     "text": [
      "Forest runs and runs and runs.\n"
     ]
    }
   ],
   "source": [
    "x = 'Forest runs'\n",
    "\n",
    "while ('and runs and runs' not in x):\n",
    "    x += ' and runs'\n",
    "x+='.'\n",
    "print(x)\n",
    "    "
   ]
  },
  {
   "cell_type": "markdown",
   "id": "c26fbc42",
   "metadata": {},
   "source": [
    "Note that the period is only added once we have exited the inner block (or *loop*). We will lean more about loops later."
   ]
  },
  {
   "cell_type": "markdown",
   "id": "c65d40a3",
   "metadata": {},
   "source": [
    "### Commenting\n",
    "Comments are parts of the code that are ignored by the interpreter. Typical uses for comments include:\n",
    "\n",
    "- explaining in natural language what a segment of code does \n",
    "- describing what can be done with a user-defined function\n",
    "- adding authorship and version information to the beginning of a file\n",
    "- temporarily “de-activating” lines to test other parts of the code\n",
    "\n",
    "Single-line comments are preceded by a hash character (#). Multi-line comments start and end with three (single or double) quotation marks."
   ]
  },
  {
   "cell_type": "code",
   "execution_count": 2,
   "id": "23b7315b",
   "metadata": {},
   "outputs": [
    {
     "name": "stdout",
     "output_type": "stream",
     "text": [
      "Forest walks and runs and runs.\n"
     ]
    }
   ],
   "source": [
    "if 'runs' in x: #if variable x contains the string 'runs'\n",
    "    y = x.replace('runs','walks',1) #replace its first instance with the string 'walks'\n",
    "print(y) #then print the new variable    "
   ]
  },
  {
   "cell_type": "code",
   "execution_count": 3,
   "id": "f7537880",
   "metadata": {},
   "outputs": [
    {
     "data": {
      "text/plain": [
       "'\\nYou will often find multi-line comments like this providing authorship information at the beginning of code files.\\nYou may also place them before a new block of code in order to explain its functionality.\\n\\nAuthor: Juliane Schwab, 2022\\nversion: Python 3\\n'"
      ]
     },
     "execution_count": 3,
     "metadata": {},
     "output_type": "execute_result"
    }
   ],
   "source": [
    "\"\"\"\n",
    "You will often find multi-line comments like this providing authorship information at the beginning of code files.\n",
    "You may also place them before a new block of code in order to explain its functionality.\n",
    "\n",
    "Author: Juliane Schwab, 2022\n",
    "version: Python 3\n",
    "\"\"\""
   ]
  },
  {
   "cell_type": "markdown",
   "id": "dec62377",
   "metadata": {},
   "source": [
    "### Naming variables and functions\n",
    "\n",
    "Lastly, using meaningful labels for important variables and functions makes it easier for others to understand their purpuse. To reiterate from session 2:\n",
    "\n",
    "- Important variables should get meaningful names (e.g., city = \"Tübingen\").\n",
    "- Throwaway/Temporary variables get single-letter names (e.g., a, b, i, j, ...)."
   ]
  },
  {
   "cell_type": "markdown",
   "id": "d8962cf1",
   "metadata": {},
   "source": [
    "## Functions\n",
    "Functions are **reusable blocks of code that perform an action, like computing a value, on the basis of potentially changing parameters**. We have seen examples of (in-built) functions before: *print()* prints its argument to the standard output device, *float()* transforms its argument to a floating-point number.\n",
    "\n",
    "Functions are invaluable to programming for several reasons:\n",
    "\n",
    "- **generalization**: functions avoid code duplication due to controlled execution through parameters\n",
    "- **reusability**: functions can be transfered between programs without loss of functionality\n",
    "- **manageability**: functions split code into easy-to-read chunks/blocks\n",
    "- **encapsulation**: functions can be used by other programmers without requiring knowledge of the implementation\n",
    "\n",
    "Functions are defined by a **def statement**, which specifies the name and arguments of the function. The indented code inside of the function block is the **body of the function**. Functions are executed by calling them; **function calls** use the function's name followed by parentheses, possibly containing a number of arguments within the parentheses. Note that functions can only be called *after* they have been defined.\n",
    "\n",
    "Upon calling a function, executing of the code jumps into the function and returns to the line from which the function was called only after the execution of the function has ended."
   ]
  },
  {
   "cell_type": "code",
   "execution_count": 4,
   "id": "efb50038",
   "metadata": {},
   "outputs": [
    {
     "name": "stdout",
     "output_type": "stream",
     "text": [
      "Start\n",
      "Nothing has printed yet! Only now we're calling the function:\n",
      "Programming in Python. University of Tübingen. Winter term 2022\n",
      "Stop\n"
     ]
    }
   ],
   "source": [
    "print(\"Start\")\n",
    "\n",
    "def course_information(year): #def(inition) statement\n",
    "    print(\"Programming in Python. University of Tübingen. Winter term\", year)#function body\n",
    "    #the function ends here\n",
    "\n",
    "print(\"Nothing has printed yet! Only now we're calling the function:\")\n",
    "course_information(2022) #function call with parameter \"2022\"\n",
    "print(\"Stop\")"
   ]
  },
  {
   "cell_type": "markdown",
   "id": "5ef13cba",
   "metadata": {},
   "source": [
    "### Code optimisation through functions\n",
    "\n",
    "Suboptimal code contains unnecessary duplications that could be avoided by specifying a function to do the job. In general, this type of code if difficult to read and to de-bug because you'll have to remember to change the code everywhere you copied it.\n",
    "\n",
    "#### Example of suboptimal code:"
   ]
  },
  {
   "cell_type": "code",
   "execution_count": 5,
   "id": "52c92095",
   "metadata": {},
   "outputs": [
    {
     "name": "stdout",
     "output_type": "stream",
     "text": [
      "0.125\n",
      "0.1875\n",
      "0.6875\n"
     ]
    }
   ],
   "source": [
    "word1 = \"we\"\n",
    "word2 = \"are\"\n",
    "word3 = \"programming\"\n",
    "\n",
    "combined_length = len(word1) +len(word2) + len(word3)\n",
    "\n",
    "w1_percentage = len(word1) / combined_length\n",
    "w2_percentage = len(word2) / combined_length\n",
    "w3_percentage = len(word3) / combined_length\n",
    "\n",
    "print(w1_percentage)\n",
    "print(w2_percentage)\n",
    "print(w3_percentage)"
   ]
  },
  {
   "cell_type": "markdown",
   "id": "ba608bd0",
   "metadata": {},
   "source": [
    "#### Example of optimized code"
   ]
  },
  {
   "cell_type": "code",
   "execution_count": 6,
   "id": "884a82b1",
   "metadata": {},
   "outputs": [
    {
     "name": "stdout",
     "output_type": "stream",
     "text": [
      "0.125\n",
      "0.1\n",
      "0.2\n"
     ]
    }
   ],
   "source": [
    "def string_percentage(word,length):\n",
    "    print(len(word)/length)\n",
    "\n",
    "#flexible use of function with varying input:    \n",
    "string_percentage(word1,combined_length)\n",
    "string_percentage(word1, 20)\n",
    "string_percentage(\"love\",20)"
   ]
  },
  {
   "cell_type": "markdown",
   "id": "69f6eaf7",
   "metadata": {},
   "source": [
    "### Nested function calls\n",
    "\n",
    "Functions can be called within functions. Be wary of the order in which code blocks are executed, particularly for more complex programs with many nested function calls."
   ]
  },
  {
   "cell_type": "code",
   "execution_count": 7,
   "id": "2e62a823",
   "metadata": {},
   "outputs": [
    {
     "name": "stdout",
     "output_type": "stream",
     "text": [
      "0.3333333333333333\n",
      "0.25\n"
     ]
    }
   ],
   "source": [
    "def outer_function():\n",
    "    z = 3\n",
    "    global y \n",
    "    y = 4\n",
    "    string_percentage(\"a\",z)\n",
    "    string_percentage(\"a\",y)\n",
    "\n",
    "outer_function()"
   ]
  },
  {
   "cell_type": "markdown",
   "id": "4fdf7198",
   "metadata": {},
   "source": [
    "Note that variables that are only defined inside of a function body are **local variables** of that function. They do not exist once you exit the function.   \n",
    "You can create **global variables** inside a function by using the global keyword (see code block above)."
   ]
  },
  {
   "cell_type": "code",
   "execution_count": 8,
   "id": "49c78e41",
   "metadata": {},
   "outputs": [
    {
     "ename": "NameError",
     "evalue": "name 'z' is not defined",
     "output_type": "error",
     "traceback": [
      "\u001b[0;31m---------------------------------------------------------------------------\u001b[0m",
      "\u001b[0;31mNameError\u001b[0m                                 Traceback (most recent call last)",
      "Cell \u001b[0;32mIn [8], line 1\u001b[0m\n\u001b[0;32m----> 1\u001b[0m \u001b[38;5;28mprint\u001b[39m(\u001b[43mz\u001b[49m)\n",
      "\u001b[0;31mNameError\u001b[0m: name 'z' is not defined"
     ]
    }
   ],
   "source": [
    "print(z)"
   ]
  },
  {
   "cell_type": "code",
   "execution_count": 25,
   "id": "ce3547f6",
   "metadata": {},
   "outputs": [
    {
     "name": "stdout",
     "output_type": "stream",
     "text": [
      "4\n"
     ]
    }
   ],
   "source": [
    "print(y)"
   ]
  },
  {
   "cell_type": "markdown",
   "id": "40784d7f",
   "metadata": {},
   "source": [
    "### Return statements\n",
    "\n",
    "A **return statement immediately terminates the function call**, causing program flow to revert to the\n",
    "place where function was called.\n",
    "\n",
    "Return statements can have arguments which define the object that the function call will evaluate to. These arguments can be assigned to a variable like any other object. Return statements thus often serve to get information back from the inside of the function (without use of global variables). You can return expressions (see code block [10]) or variables (see code block [11]).  \n",
    "\n",
    "**Python also supports the use of multiple return values**, separated by commas. The result of the function call needs to be assigned to the same number of variables, also separated by commas"
   ]
  },
  {
   "cell_type": "code",
   "execution_count": 26,
   "id": "ac657749",
   "metadata": {},
   "outputs": [
    {
     "name": "stdout",
     "output_type": "stream",
     "text": [
      "0.3\n"
     ]
    }
   ],
   "source": [
    "def string_percentage(word,length):\n",
    "    return(len(word)/length)\n",
    "\n",
    "x = string_percentage(\"return\",20)\n",
    "print(x)"
   ]
  },
  {
   "cell_type": "code",
   "execution_count": 27,
   "id": "e554c869",
   "metadata": {},
   "outputs": [
    {
     "name": "stdout",
     "output_type": "stream",
     "text": [
      "return (length:6, percentage: 0.3)\n"
     ]
    }
   ],
   "source": [
    "def get_word_statistics(word , length):\n",
    "    word_percentage = (len(word)/length)\n",
    "    return word , len(word), word_percentage\n",
    "\n",
    "w, wlen , wperc = get_word_statistics(\"return\" ,20)\n",
    "print(w + \" (length:\" + str(wlen) + \", percentage: \" + str(wperc) + \")\")"
   ]
  },
  {
   "cell_type": "markdown",
   "id": "632e3910",
   "metadata": {},
   "source": [
    "**What happens if nothing is returned?**  \n",
    "\n",
    "Python has a *None* value, which represents the absence of a value. None must be typed with a capital N.\n",
    "\n",
    "Internally, Python adds *return None* to the end of any function body with no return statement. If you assign the result of a function call without return value to a variable, that variable will also have the *None* value (see code block below)."
   ]
  },
  {
   "cell_type": "code",
   "execution_count": 28,
   "id": "59f70bd4",
   "metadata": {},
   "outputs": [
    {
     "name": "stdout",
     "output_type": "stream",
     "text": [
      "None\n"
     ]
    }
   ],
   "source": [
    "def string_percentage(word,length):\n",
    "    return #function execution ends here!\n",
    "    return(len(word)/length) #never reached\n",
    "\n",
    "x = string_percentage(\"return\",20)\n",
    "print(x)"
   ]
  },
  {
   "cell_type": "markdown",
   "id": "ce9120e7",
   "metadata": {},
   "source": [
    "## Conditional execution\n",
    "Conditional execution is an extremely important concept in any programming language. So far, most of our little programs were just lists of instructions that are executed in serial order. One of the strengths of programming, however, is that we can specify the conditions under which certain statements are to be executed, repeated, skipped, and so on.  \n",
    "\n",
    "Like most programming languages, Python offers a range of such **flow control statements**.\n",
    "\n",
    "\n",
    "### if\n",
    "The most basic flow control statement is the *if*-clause. It will execute the code block in its body *iff* (if and only if) the statement's condition is *True*. Its execution is skipped whenever the condition is *False*. We have seen an *if* statement before:"
   ]
  },
  {
   "cell_type": "code",
   "execution_count": 2,
   "id": "ddeb3d24",
   "metadata": {},
   "outputs": [
    {
     "name": "stdout",
     "output_type": "stream",
     "text": [
      "Forest walks\n"
     ]
    }
   ],
   "source": [
    "x = 'Forest runs'\n",
    "\n",
    "if 'runs' in x: #if variable x contains the string 'runs'\n",
    "    y = x.replace('runs','walks',1) #replace its first instance with the string 'walks'\n",
    "print(y) #then print the new variable"
   ]
  },
  {
   "cell_type": "markdown",
   "id": "1ba246fa",
   "metadata": {},
   "source": [
    "#### if...else\n",
    "*If* statements can be optionally followed by *else* statements, which are executed *iff* the statement's condition is *False*."
   ]
  },
  {
   "cell_type": "code",
   "execution_count": 3,
   "id": "3237c4b0",
   "metadata": {},
   "outputs": [
    {
     "name": "stdout",
     "output_type": "stream",
     "text": [
      "Natasha walks\n"
     ]
    }
   ],
   "source": [
    "if 'runs' in y: #if variable x contains the string 'runs'\n",
    "    z = y.replace('runs','walks',1) #replace its first instance with the string 'walks'\n",
    "else:\n",
    "    z = y.replace('Forest','Natasha')\n",
    "print(z) #then print the new variable"
   ]
  },
  {
   "cell_type": "markdown",
   "id": "33563e59",
   "metadata": {},
   "source": [
    "#### elif\n",
    "*If...else* statements will only execute one of two possible clauses. In cases with (many) more possible options, however, we can use the *elif* (\"else if\") statement instead. This statement has to follow another *if* or *elif* statement and provides a condition that is checked *iff* the conditions of the previous statements were *False*.  \n",
    "\n",
    "*If* + *elif* statements can be (almost) arbitrarily long. Note, though, that **if multiple *elif* statements are provided, only the first one that evaluates to *True* will be executed.**  \n",
    "\n",
    "Thus, given that z = *Natasha walks*, what will be the output of the following statement?"
   ]
  },
  {
   "cell_type": "code",
   "execution_count": 4,
   "id": "2b932db6",
   "metadata": {},
   "outputs": [
    {
     "name": "stdout",
     "output_type": "stream",
     "text": [
      "Natasha runs\n"
     ]
    }
   ],
   "source": [
    "if 'runs' in z: #if variable x contains the string 'runs'\n",
    "    z = z.replace('runs','walks',1) #replace its first instance with the string 'walks'\n",
    "elif 'walks' in z: #otherwise, if z contains 'walks'...\n",
    "    z = z.replace('walks','runs') #...and so on\n",
    "elif 'Forest' in z:\n",
    "    z = z.replace('Forest','Natasha')\n",
    "elif 'Natasha' in z:\n",
    "    z = z.replace('Natasha', 'Forest')\n",
    "else:\n",
    "    print(\"String does not contain any of these words.\")\n",
    "    \n",
    "print(z) #then print the variable"
   ]
  },
  {
   "cell_type": "markdown",
   "id": "0f4bcbfd",
   "metadata": {},
   "source": [
    "With an *else* statement at the end of an *if...elif* expression you can make sure that something is returned if all conditions evaluate to *False* (see code block [20]). \n",
    "\n",
    "Finally, **flow control statements can be nested**:"
   ]
  },
  {
   "cell_type": "code",
   "execution_count": 5,
   "id": "4e439ff4",
   "metadata": {},
   "outputs": [
    {
     "name": "stdout",
     "output_type": "stream",
     "text": [
      "Forest walks\n"
     ]
    }
   ],
   "source": [
    "if 'runs' in z: #if variable z contains the string 'runs'\n",
    "    if 'Natasha' in z: #and contains the string 'Natasha'\n",
    "        z = z.replace('Natasha runs', 'Forest walks')\n",
    "    elif 'Forest' in z: \n",
    "        z = z.replace('Forest runs', 'Natasha walks')\n",
    "else:\n",
    "    print(\"String does not contain 'runs'.\")\n",
    "    \n",
    "print(z) #then print the variable"
   ]
  },
  {
   "cell_type": "markdown",
   "id": "3ccb300c",
   "metadata": {},
   "source": [
    "### Intermezzo: Complex Boolean Expressions\n",
    "\n",
    "All of the conditions for *if* statements specified so far used a single Boolean operator: **in**. We can also specify more complex conditions for conditional execution by:\n",
    "\n",
    "- using the **comparison operators** introduced in Session 02 (*==*, *!=*, *</>*, *<=/>=*, *is*)\n",
    "- and combining them with **Boolean operators** (*and*, *or*, *not*)\n",
    "\n",
    "Boolean operators follow the rules known from logic:\n",
    "\n",
    "- *A and B* is true *iff* A is true and B is true\n",
    "- *A or B* is true *iff* A is true or B is true or both A and B are true\n",
    "- *not A* is true *iff* A is false"
   ]
  },
  {
   "cell_type": "code",
   "execution_count": 9,
   "id": "3238ef29",
   "metadata": {},
   "outputs": [
    {
     "name": "stdout",
     "output_type": "stream",
     "text": [
      "Forest walks for a long time. What is Ming doing now?. What is Ming doing now?. What is Ming doing now?\n"
     ]
    }
   ],
   "source": [
    "if 'walks' in z and len(z) < 20:\n",
    "    z = z + ' for a long time'\n",
    "elif 'walks' in z and (z.startswith('Forest') or \n",
    "                       z.startswith('Natasha')):\n",
    "    z = z + '. What is Ming doing now?'\n",
    "print(z)"
   ]
  },
  {
   "cell_type": "markdown",
   "id": "9bd32f6f",
   "metadata": {},
   "source": [
    "### <span style=\"color:red\">End of lecture 3 (November 15, 2022).</span>\n",
    "\n",
    "### *while* loops\n",
    "Loops introduce a central feature of programming language, iterating over the same sequence of statements multiple times. While an *if* statement just executes once if its condition is met, loops keep executing for as long as their condition holds. Loops **reduce the need for code duplication** and are **quite flexible at runtime** (e.g., when the number of times we'll have to run a sequence of statements depends on varying parameter values such as the length of a string).  \n",
    "\n",
    "Note, however, that **loops may continue forever** unless a terminating criterion is reached.  \n",
    "\n",
    "We have already seen one example for a loop, the **while** loop. This loop repeats executing the code in its body as long as its condition is met."
   ]
  },
  {
   "cell_type": "code",
   "execution_count": 34,
   "id": "3d2df4bc",
   "metadata": {},
   "outputs": [
    {
     "name": "stdout",
     "output_type": "stream",
     "text": [
      "Forest runs and runs and runs.\n"
     ]
    }
   ],
   "source": [
    "x = 'Forest runs'\n",
    "\n",
    "while ('and runs and runs' not in x): #while this is the case\n",
    "    x += ' and runs' #do this\n",
    "#terminates as soon as the string includes 'and runs and runs'    \n",
    "x+='.'\n",
    "print(x)"
   ]
  },
  {
   "cell_type": "markdown",
   "id": "4f314b3c",
   "metadata": {},
   "source": [
    "Non-terminating loops often happen out of carelessness. To avoid them:\n",
    "\n",
    "- be very careful to cover boundary cases\n",
    "- define additional exit points using *break* statements (see below)\n",
    "- ensure that the test condition changes in each iteration (as in code block [10], but not always possible)"
   ]
  },
  {
   "cell_type": "code",
   "execution_count": 11,
   "id": "6f642b64",
   "metadata": {},
   "outputs": [
    {
     "name": "stdout",
     "output_type": "stream",
     "text": [
      "Knock knock\n",
      "Yes?\n",
      "Yes?\n",
      "Knock knock\n",
      "Yes?\n",
      "Who's there?\n",
      "Stop asking questions and let me in.\n"
     ]
    }
   ],
   "source": [
    "#**Example of a non-terminating loop**:\n",
    "    \n",
    "reply = \"\"\n",
    "while (reply != \"Who's there?\"):\n",
    "    print(\"Knock knock\")\n",
    "    reply = \"Yes?\"\n",
    "    print(reply)\n",
    "    reply = input() #allowing user input would enable changing the value of reply on every iteration\n",
    "print(\"Stop asking questions and let me in.\")"
   ]
  },
  {
   "cell_type": "markdown",
   "id": "1cd6f671",
   "metadata": {},
   "source": [
    "#### Exiting the loop with 'break' or 'continue'\n",
    "*Break* causes the loop to stop at the point at which it appears, without completing the current iteration. This is useful to ensure termination for certain cases.  \n",
    "\n",
    "*Continue* statements end the current iteration of the loop and cause it to repeat from the top. This is useful if there are cases you'd like to skip or ignore."
   ]
  },
  {
   "cell_type": "code",
   "execution_count": null,
   "id": "37b26c1e",
   "metadata": {},
   "outputs": [
    {
     "name": "stdout",
     "output_type": "stream",
     "text": [
      "Knock knock\n",
      "What's your reply?\n",
      "aa\n",
      "Try again:\n",
      "ggg\n",
      "Knock knock\n",
      "What's your reply?\n"
     ]
    }
   ],
   "source": [
    "reply = \"\"\n",
    "while (reply != \"Who's there?\"):\n",
    "    print(\"Knock knock\")\n",
    "    print(\"What's your reply?\")\n",
    "    reply = input() #user can input their reply\n",
    "    if reply == \"Yes?\":\n",
    "        break #exits loop immediately\n",
    "    elif reply == \"Who's there?\":\n",
    "        continue #causes the loop to end and starts again from the top by evaluation whether reply != \"Who's there\".\n",
    "    else:\n",
    "        print(\"Try again:\") \n",
    "        reply = input() #otherwise, allow user to enter new reply\n",
    "print(\"Stop asking questions and let me in.\")"
   ]
  },
  {
   "cell_type": "markdown",
   "id": "76c71b82",
   "metadata": {},
   "source": [
    "### *for* loops\n",
    "*While* loops execute a statement for as long as their condition is true, but often we only want to **execute the code block in the loop's body a certain number of times or for a certain range of variable values**. The *for* loop does just that: it executes the code in its body **for all x in y**, where **x is a variable** and **y is an iterable**. The variable x need not have a value assigned to it before entering the loop. It will automatically iterate over all elements of y.\n",
    "\n",
    "**Iterables** can have various types:\n",
    "\n",
    "- *strings*: variable is assigned each character of the string in turn\n",
    "- *ranges*: variable is assigned to iterable sequence of numbers, see details below\n",
    "- *lists*,*tuples*,*sets*,*dictionairies*: next week"
   ]
  },
  {
   "cell_type": "code",
   "execution_count": 36,
   "id": "34ead145",
   "metadata": {},
   "outputs": [
    {
     "name": "stdout",
     "output_type": "stream",
     "text": [
      "The letter at position 1 is F\n",
      "The letter at position 2 is a\n",
      "The letter at position 3 is r\n",
      "The letter at position 4 is  \n",
      "The letter at position 5 is o\n",
      "The letter at position 6 is u\n",
      "The letter at position 7 is t\n",
      "The letter at position 8 is  \n",
      "The letter at position 9 is i\n",
      "The letter at position 10 is n\n",
      "The letter at position 11 is  \n",
      "The letter at position 12 is t\n",
      "The letter at position 13 is h\n",
      "The letter at position 14 is e\n",
      "The letter at position 15 is  \n",
      "The letter at position 16 is u\n",
      "The letter at position 17 is n\n",
      "The letter at position 18 is c\n",
      "The letter at position 19 is h\n",
      "The letter at position 20 is a\n",
      "The letter at position 21 is r\n",
      "The letter at position 22 is t\n",
      "The letter at position 23 is e\n",
      "The letter at position 24 is d\n",
      "The letter at position 25 is  \n",
      "The letter at position 26 is b\n",
      "The letter at position 27 is a\n",
      "The letter at position 28 is c\n",
      "The letter at position 29 is k\n",
      "The letter at position 30 is w\n",
      "The letter at position 31 is a\n",
      "The letter at position 32 is t\n",
      "The letter at position 33 is e\n",
      "The letter at position 34 is r\n",
      "The letter at position 35 is s\n",
      "The letter at position 36 is  \n",
      "The letter at position 37 is o\n",
      "The letter at position 38 is f\n",
      "The letter at position 39 is  \n",
      "The letter at position 40 is t\n",
      "The letter at position 41 is h\n",
      "The letter at position 42 is e\n",
      "The letter at position 43 is  \n",
      "The letter at position 44 is u\n",
      "The letter at position 45 is n\n",
      "The letter at position 46 is f\n",
      "The letter at position 47 is a\n",
      "The letter at position 48 is s\n",
      "The letter at position 49 is h\n",
      "The letter at position 50 is i\n",
      "The letter at position 51 is o\n",
      "The letter at position 52 is n\n",
      "The letter at position 53 is a\n",
      "The letter at position 54 is b\n",
      "The letter at position 55 is l\n",
      "The letter at position 56 is e\n",
      "The letter at position 57 is  \n",
      "The letter at position 58 is e\n",
      "The letter at position 59 is n\n",
      "The letter at position 60 is d\n",
      "The letter at position 61 is  \n",
      "The letter at position 62 is o\n",
      "The letter at position 63 is f\n",
      "The letter at position 64 is  \n",
      "The letter at position 65 is t\n",
      "The letter at position 66 is h\n",
      "The letter at position 67 is e\n",
      "The letter at position 68 is  \n",
      "The letter at position 69 is w\n",
      "The letter at position 70 is e\n",
      "The letter at position 71 is s\n",
      "The letter at position 72 is t\n",
      "The letter at position 73 is e\n",
      "The letter at position 74 is r\n",
      "The letter at position 75 is n\n",
      "The letter at position 76 is  \n",
      "The letter at position 77 is s\n",
      "The letter at position 78 is p\n",
      "The letter at position 79 is i\n",
      "The letter at position 80 is r\n",
      "The letter at position 81 is a\n",
      "The letter at position 82 is l\n",
      "The letter at position 83 is  \n",
      "The letter at position 84 is a\n",
      "The letter at position 85 is r\n",
      "The letter at position 86 is m\n",
      "The letter at position 87 is  \n",
      "The letter at position 88 is o\n",
      "The letter at position 89 is f\n",
      "The letter at position 90 is  \n",
      "The letter at position 91 is t\n",
      "The letter at position 92 is h\n",
      "The letter at position 93 is e\n",
      "The letter at position 94 is  \n",
      "The letter at position 95 is G\n",
      "The letter at position 96 is a\n",
      "The letter at position 97 is l\n",
      "The letter at position 98 is a\n",
      "The letter at position 99 is x\n",
      "The letter at position 100 is y\n",
      "The letter at position 101 is  \n",
      "The letter at position 102 is l\n",
      "The letter at position 103 is i\n",
      "The letter at position 104 is e\n",
      "The letter at position 105 is s\n",
      "The letter at position 106 is  \n",
      "The letter at position 107 is a\n",
      "The letter at position 108 is  \n",
      "The letter at position 109 is s\n",
      "The letter at position 110 is m\n",
      "The letter at position 111 is a\n",
      "The letter at position 112 is l\n",
      "The letter at position 113 is l\n",
      "The letter at position 114 is  \n",
      "The letter at position 115 is u\n",
      "The letter at position 116 is n\n",
      "The letter at position 117 is r\n",
      "The letter at position 118 is e\n",
      "The letter at position 119 is g\n",
      "The letter at position 120 is a\n",
      "The letter at position 121 is r\n",
      "The letter at position 122 is d\n",
      "The letter at position 123 is e\n",
      "The letter at position 124 is d\n",
      "The letter at position 125 is  \n",
      "The letter at position 126 is y\n",
      "The letter at position 127 is e\n",
      "The letter at position 128 is l\n",
      "The letter at position 129 is l\n",
      "The letter at position 130 is o\n",
      "The letter at position 131 is w\n",
      "The letter at position 132 is  \n",
      "The letter at position 133 is s\n",
      "The letter at position 134 is u\n",
      "The letter at position 135 is n\n",
      "The letter at position 136 is .\n"
     ]
    }
   ],
   "source": [
    "#for loop on strings\n",
    "char_num = 1\n",
    "example_string = \"Far out in the uncharted backwaters of the unfashionable end of the western spiral arm of the Galaxy lies a small unregarded yellow sun.\"\n",
    "for i in example_string: #for each character in the example string\n",
    "    print(\"The letter at position\",char_num,\"is\",i) #print this\n",
    "    char_num += 1 #then iterate the character number by 1\n",
    "#terminates at the end of the string"
   ]
  },
  {
   "cell_type": "markdown",
   "id": "72053f34",
   "metadata": {},
   "source": [
    "#### Ranges\n",
    "\n",
    "The *range* function generates iterable sequences of numbers based on upto 3 input parameters:\n",
    "\n",
    "- *range(n)* generates a sequence of integers from 0 to n-1. For instance, *range(10)* generates 0,1,2,3,4,5,6,7,8,9\n",
    "- *range(i,n)* generates a sequence of integers from i to n-1. For instance *range(10,20)* generates 10,11,12,13,14,15,16,17,18,19\n",
    "- *range(i,n,k)* generates sequences of integers from i to n-1, but only generates every *k*th integer in that sequence. For instance *range(1,20,5)* generates 1,6,11,16"
   ]
  },
  {
   "cell_type": "code",
   "execution_count": 37,
   "id": "ab1ebff5",
   "metadata": {},
   "outputs": [
    {
     "name": "stdout",
     "output_type": "stream",
     "text": [
      "The letter at position 1 is F\n",
      "The letter at position 6 is u\n",
      "The letter at position 11 is  \n",
      "The letter at position 16 is u\n"
     ]
    }
   ],
   "source": [
    "#for loop on numbers\n",
    "example_string = \"Far out in the uncharted backwaters of the unfashionable end of the western spiral arm of the Galaxy lies a small unregarded yellow sun.\"\n",
    "for i in range(1,20,5): #for each character in the example string\n",
    "    print(\"The letter at position\",i,\"is\",example_string[i-1]) #print this\n",
    "#terminates at the end of the string"
   ]
  },
  {
   "cell_type": "code",
   "execution_count": null,
   "id": "c359024e",
   "metadata": {},
   "outputs": [],
   "source": []
  },
  {
   "cell_type": "code",
   "execution_count": null,
   "id": "346c5891",
   "metadata": {},
   "outputs": [],
   "source": []
  }
 ],
 "metadata": {
  "kernelspec": {
   "display_name": "Python 3 (ipykernel)",
   "language": "python",
   "name": "python3"
  },
  "language_info": {
   "codemirror_mode": {
    "name": "ipython",
    "version": 3
   },
   "file_extension": ".py",
   "mimetype": "text/x-python",
   "name": "python",
   "nbconvert_exporter": "python",
   "pygments_lexer": "ipython3",
   "version": "3.10.12"
  }
 },
 "nbformat": 4,
 "nbformat_minor": 5
}