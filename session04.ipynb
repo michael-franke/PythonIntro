{
 "cells": [
  {
   "cell_type": "markdown",
   "id": "7fd5ba84",
   "metadata": {},
   "source": [
    "## Advanced data types: lists, tuples, sets, dictionaries \n",
    "\n",
    "So far, we have dealt with data types that encode a single value -- a number, a string, or a Boolean value. In this session, we will learn about **data types that can contain multiple values**, which is essential when you are handling large amounts of data. At the end of this session, you should know the distinctions between four such data types, namely *lists*, *tuples*, *dictionaries*, and *sets*, and you should be able to write simple programs in which you create and modify these data types."
   ]
  },
  {
   "cell_type": "markdown",
   "id": "826f58bc",
   "metadata": {},
   "source": [
    "### Lists\n",
    "\n",
    "Lists are the most elementary of the above-mentioned data types. They contain an **ordered sequence of values of any data type**, and can even contain other lists, allowing for the representation of hierarchically structured data.  \n",
    "\n",
    "- Lists begin and end with square brackets \n",
    "- Values inside of a list are called *elements* or *items* and are comma-delimited\n",
    "- Lists can contain the same element multiple times (unlike for sets, see below)\n",
    "- Lists are *mutable*, meaning that their items can be changed in place (unlike for strings)"
   ]
  },
  {
   "cell_type": "code",
   "execution_count": 1,
   "id": "2a78d50f",
   "metadata": {},
   "outputs": [
    {
     "name": "stdout",
     "output_type": "stream",
     "text": [
      "['string', 1, True, 3.15, ['dog', 'chimpanzee', 'whale', 'platypus']]\n"
     ]
    }
   ],
   "source": [
    "list_of_mammals = [\"dog\",\"chimpanzee\",\"whale\",\"platypus\"]\n",
    "\n",
    "random_collection = [\"string\",1,True,3.15,list_of_mammals] #lists can contain any other data type\n",
    "\n",
    "print(random_collection)"
   ]
  },
  {
   "cell_type": "markdown",
   "id": "024dec58",
   "metadata": {},
   "source": [
    "#### Operating on lists\n",
    "Many **list operations** are already known from strings:\n",
    "\n",
    "- *list[k]* retrieves the *k*th item in the list\n",
    "- *len(list)* returns the number of items in the list\n",
    "- *list + list* concatenates two lists\n",
    "- *list * int* replicates the list *n* times\n",
    "- *list[i:k]* returns the *i*th to *k*th element of the list (see slicing for strings)"
   ]
  },
  {
   "cell_type": "code",
   "execution_count": 2,
   "id": "ddfff18d",
   "metadata": {},
   "outputs": [
    {
     "data": {
      "text/plain": [
       "2"
      ]
     },
     "execution_count": 2,
     "metadata": {},
     "output_type": "execute_result"
    }
   ],
   "source": [
    "len(list_of_mammals[2:]) #returns the length of the list from index position 2 until the end of the list"
   ]
  },
  {
   "cell_type": "markdown",
   "id": "99c105d0",
   "metadata": {},
   "source": [
    "If your list contains other lists, you can retrieve its elements using **multiple indexes**:"
   ]
  },
  {
   "cell_type": "code",
   "execution_count": 3,
   "id": "8c745400",
   "metadata": {},
   "outputs": [
    {
     "data": {
      "text/plain": [
       "'platypus'"
      ]
     },
     "execution_count": 3,
     "metadata": {},
     "output_type": "execute_result"
    }
   ],
   "source": [
    "random_collection[4][3] #returns the 3rd item of the list that is the 4th item of random_collection"
   ]
  },
  {
   "cell_type": "markdown",
   "id": "eea6510b",
   "metadata": {},
   "source": [
    "As mentioned above, **lists are mutable**. This means that we can we can directly add, remove, or change the values of a list without creating a new list."
   ]
  },
  {
   "cell_type": "code",
   "execution_count": 4,
   "id": "6275340a",
   "metadata": {},
   "outputs": [
    {
     "name": "stdout",
     "output_type": "stream",
     "text": [
      "['my value has changed', 1, True, 3.15, ['dog', 'chimpanzee', 'whale', 'platypus']]\n"
     ]
    }
   ],
   "source": [
    "random_collection[0] = \"my value has changed\" #replace item at index 0 with a new item\n",
    "print(random_collection)"
   ]
  },
  {
   "cell_type": "markdown",
   "id": "cf3e59bf",
   "metadata": {},
   "source": [
    "This property allows us to use of a number of **new methods**:\n",
    "\n",
    "| Method |Operation |Example | Evaluates to|\n",
    "|---|---|---|---|\n",
    "| *in* / *not in* | tests for list membership | \"platypus\" in list_of_mammals | True|\n",
    "|*list.append(obj)*| adds object to the end of the list|list_of_mammals.append(\"horse\")|['dog', 'chimpanzee', 'whale', 'platypus', 'horse']|\n",
    "|*list.insert(k,obj)*| adds object in front of the *k*th element|list_of_mammals.insert(2,\"horse\")|['dog', 'chimpanzee', 'horse', 'whale', 'platypus', 'horse']|\n",
    "|*list.index(obj)*| returns the index of the first occurence of obj on the list|list_of_mammals.index(\"horse\")| 2|\n",
    "|*list.pop()*| deletes and returns the rightmost element|list_of_mammals.pop()| \"horse\"|\n",
    "|*list.pop(k)*| deletes and returns the *k*th element|list_of_mammals.pop(2)| \"horse\"|\n",
    "|*list.remove(obj)*| removes the first instance of obj on the list|list_of_mammals.remove(\"dog\")| ['chimpanzee', 'whale', 'platypus']|\n",
    "|*list.reverse()*| reverses the list in place|list_of_mammals.reverse()| ['platypus', 'whale','chimpanzee']|\n",
    "|*list.sort()*| sorts the list in place|list_of_mammals.sort()| ['chimpanzee','platypus', 'whale']|"
   ]
  },
  {
   "cell_type": "markdown",
   "id": "1df33574",
   "metadata": {},
   "source": [
    "#### Creating lists\n",
    "\n",
    "Lists can be created in a number of ways:\n",
    "\n",
    "- direct assignment: *list = [a,b,c]*\n",
    "- starting from an empty list: *list = []*\n",
    "- the *split* method\n",
    "- list comprehensions\n",
    "\n",
    "The latter two require some explaining:  \n",
    "\n",
    "(1) **The *split* method** is a string method we have so far ignored. It allows us to split a string into a list of its part. By default, it splits the string at whitespaces. However, two optional arguments can be used to (a) specify other splitting criteria and (b) specify the number of splits to be executed:  "
   ]
  },
  {
   "cell_type": "code",
   "execution_count": 5,
   "id": "6759c508",
   "metadata": {},
   "outputs": [
    {
     "name": "stdout",
     "output_type": "stream",
     "text": [
      "['Orbiting', 'this', 'at', 'a', 'distance', 'of', 'roughly', 'ninety-two', 'million', 'miles', 'is', 'an', 'utterly', 'insignificant', 'little', 'blue', 'green', 'planet', 'whose', 'ape-descended', 'life', 'forms', 'are', 'so', 'amazingly', 'primitive', 'that', 'they', 'still', 'think', 'digital', 'watches', 'are', 'a', 'pretty', 'neat', 'idea.']\n"
     ]
    }
   ],
   "source": [
    "long_string = \"Orbiting this at a distance of roughly ninety-two million miles is an utterly insignificant little blue green planet whose ape-descended life forms are so amazingly primitive that they still think digital watches are a pretty neat idea.\"\n",
    "\n",
    "string_list = long_string.split()\n",
    "print(string_list)"
   ]
  },
  {
   "cell_type": "code",
   "execution_count": 6,
   "id": "8efccd82",
   "metadata": {},
   "outputs": [
    {
     "name": "stdout",
     "output_type": "stream",
     "text": [
      "['Orbiting this at a distance of roughly ninety', 'two million miles is an utterly insignificant little blue green planet whose ape', 'descended life forms are so amazingly primitive that they still think digital watches are a pretty neat idea.']\n"
     ]
    }
   ],
   "source": [
    "hyphen_split_string = long_string.split(\"-\") #split at hyphens\n",
    "print(hyphen_split_string)"
   ]
  },
  {
   "cell_type": "code",
   "execution_count": 7,
   "id": "142a8f08",
   "metadata": {},
   "outputs": [
    {
     "name": "stdout",
     "output_type": "stream",
     "text": [
      "['Orbiting this at a distance of roughly ninety', 'two million miles is an utterly insignificant little blue green planet whose ape-descended life forms are so amazingly primitive that they still think digital watches are a pretty neat idea.']\n"
     ]
    }
   ],
   "source": [
    "single_hyphen_split_string = long_string.split(\"-\",1) #only split once\n",
    "print(single_hyphen_split_string)"
   ]
  },
  {
   "cell_type": "markdown",
   "id": "4a777f6b",
   "metadata": {},
   "source": [
    "**As an aside: The reverse of the *split* method is the *join* method, which creates a string from a list of string elements, joining them by the string provided as its first argument.**"
   ]
  },
  {
   "cell_type": "code",
   "execution_count": 8,
   "id": "5a340b42",
   "metadata": {},
   "outputs": [
    {
     "data": {
      "text/plain": [
       "'Orbiting this at a distance of roughly ninety-two million miles is an utterly insignificant little blue green planet whose ape-descended life forms are so amazingly primitive that they still think digital watches are a pretty neat idea.'"
      ]
     },
     "execution_count": 8,
     "metadata": {},
     "output_type": "execute_result"
    }
   ],
   "source": [
    "\" \".join(string_list)"
   ]
  },
  {
   "cell_type": "markdown",
   "id": "659aaff7",
   "metadata": {},
   "source": [
    "(2) **List comprehensions** are short-form syntax for a *for* loop over list elements. \n",
    "\n",
    "General syntax: *new list = [expression for item in iterable (if condition == True)]*\n",
    "\n",
    "Let's look at some examples:"
   ]
  },
  {
   "cell_type": "code",
   "execution_count": 9,
   "id": "594f63b7",
   "metadata": {},
   "outputs": [
    {
     "name": "stdout",
     "output_type": "stream",
     "text": [
      "[1, 4, 9, 16, 25, 36, 49, 64, 81]\n"
     ]
    }
   ],
   "source": [
    "#Example 1: Square Numbers\n",
    "squared_numbers = [x*x for x in range(1,10)] #for all x in range(1,10) add x*x to the new list squared_numbers\n",
    "print(squared_numbers)"
   ]
  },
  {
   "cell_type": "code",
   "execution_count": 10,
   "id": "6b5afcee",
   "metadata": {},
   "outputs": [
    {
     "name": "stdout",
     "output_type": "stream",
     "text": [
      "['AT', 'A', 'DISTANCE', 'AN', 'INSIGNIFICANT', 'PLANET', 'APE-DESCENDED', 'ARE', 'AMAZINGLY', 'THAT', 'DIGITAL', 'WATCHES', 'ARE', 'A', 'NEAT', 'IDEA.']\n"
     ]
    }
   ],
   "source": [
    "#Example 2: Capitalize and return all words containing the vowels 'a' or 'e' from a longer list of words \n",
    "upper_a_or_e_words = [x.upper() for x in string_list if ('a' or 'e') in x]\n",
    "print(upper_a_or_e_words)"
   ]
  },
  {
   "cell_type": "markdown",
   "id": "af8a2397",
   "metadata": {},
   "source": [
    "#### Processing lists\n",
    "**(1) Loops**  \n",
    "\n",
    "What the example above already showed you is that lists are **iterable**, meaning that we can process them element by element using a *for* loop.\n",
    "\n",
    "Let's do the same thing as in Example 2 above, only using a *for* loop:"
   ]
  },
  {
   "cell_type": "code",
   "execution_count": 11,
   "id": "6911ba87",
   "metadata": {},
   "outputs": [
    {
     "name": "stdout",
     "output_type": "stream",
     "text": [
      "['AT', 'A', 'DISTANCE', 'AN', 'INSIGNIFICANT', 'PLANET', 'APE-DESCENDED', 'ARE', 'AMAZINGLY', 'THAT', 'DIGITAL', 'WATCHES', 'ARE', 'A', 'NEAT', 'IDEA.']\n"
     ]
    }
   ],
   "source": [
    "upper_a_or_e_words_2 = []\n",
    "for x in string_list:\n",
    "    if ('a' or 'e') in x:\n",
    "        upper_a_or_e_words_2.append(x.upper())\n",
    "        \n",
    "print(upper_a_or_e_words_2)"
   ]
  },
  {
   "cell_type": "markdown",
   "id": "ba552e3d",
   "metadata": {},
   "source": [
    "**(2) Aggregation functions**\n",
    "\n",
    "There are some simple and frequently used functions that process list elements:\n",
    "\n",
    "- *sum()* on a list of numbers returns their sum: *sum([2,15,67]) = 84 *\n",
    "- *min()* and *max()* on a list of numbers return the minimum and the maximum value, respectively\n",
    "- on a list of strings, *min()* and *max()* return the string that is first and last in alphabetical order, respectively. "
   ]
  },
  {
   "cell_type": "markdown",
   "id": "e54f3d98",
   "metadata": {},
   "source": [
    "**(3) Advanced functions**\n",
    "\n",
    "Three extremely useful functions for processing lists are *enumerate(list)*, *zip(list1,..., listn)*, and *map(function, list)*.  \n",
    "\n",
    "- ***enumerate(list)*** allows us to loop over the elements in the list and and have an automatic counter. The result of that function is an *enumerate* object, which can be transformed back to a list of numbered tuples (see below for more on the tuple data type) or whose elements (both the list element and the counter) can be employed in *for* loops (see below)\n"
   ]
  },
  {
   "cell_type": "code",
   "execution_count": 12,
   "id": "0a69dc0c",
   "metadata": {},
   "outputs": [
    {
     "name": "stdout",
     "output_type": "stream",
     "text": [
      "[(0, 'dog'), (1, 'chimpanzee'), (2, 'whale'), (3, 'platypus')]\n"
     ]
    }
   ],
   "source": [
    "counter_list = list(enumerate(list_of_mammals)) #loop over the list elements and count them. Assign the result back to a list\n",
    "print(counter_list)"
   ]
  },
  {
   "cell_type": "code",
   "execution_count": 13,
   "id": "e9de8f80",
   "metadata": {},
   "outputs": [
    {
     "name": "stdout",
     "output_type": "stream",
     "text": [
      "The index of the list element 'whale' is  2\n",
      "The animal at list index  3  is  platypus\n"
     ]
    }
   ],
   "source": [
    "for i, animal in enumerate(list_of_mammals):\n",
    "    if i == 3:\n",
    "        print(\"The animal at list index \",i,\" is \",animal)\n",
    "    elif animal == 'whale':\n",
    "        print(\"The index of the list element 'whale' is \",i)"
   ]
  },
  {
   "cell_type": "markdown",
   "id": "38913c8c",
   "metadata": {},
   "source": [
    "- ***zip(list1,...listn)*** allows us to iterate over multiple lists at once. Just as for *enumerate*, the result of that function is a *zip* object, which can be transformed back to a list of paired tuples or whose elements can be iterated over in *for* loops (see below). "
   ]
  },
  {
   "cell_type": "code",
   "execution_count": 14,
   "id": "413c0cc7",
   "metadata": {},
   "outputs": [
    {
     "name": "stdout",
     "output_type": "stream",
     "text": [
      "[('dog', 'robin'), ('chimpanzee', 'duck'), ('whale', 'penguin'), ('platypus', 'pidgeon')]\n"
     ]
    }
   ],
   "source": [
    "list_of_birds = [\"robin\",\"duck\",\"penguin\",\"pidgeon\"]\n",
    "\n",
    "list_of_animals = list(zip(list_of_mammals,list_of_birds))\n",
    "print(list_of_animals)"
   ]
  },
  {
   "cell_type": "code",
   "execution_count": 15,
   "id": "d01043aa",
   "metadata": {},
   "outputs": [
    {
     "name": "stdout",
     "output_type": "stream",
     "text": [
      "a dog is a mammal, a robin is a bird\n",
      "a chimpanzee is a mammal, a duck is a bird\n",
      "a whale is a mammal, a penguin is a bird\n",
      "a platypus is a mammal, a pidgeon is a bird\n"
     ]
    }
   ],
   "source": [
    "for mammal , bird in zip(list_of_mammals ,list_of_birds):\n",
    "    print(\"a \" + mammal +\" is a mammal, a \"+ bird + \" is a bird\")"
   ]
  },
  {
   "cell_type": "markdown",
   "id": "7227bf13",
   "metadata": {},
   "source": [
    "- ***map(function, list)*** applies a function (in its first argument) to all elements of a sequence (in its second argument). The function returns a *map* object, which can be assigned back to a list or tuple."
   ]
  },
  {
   "cell_type": "code",
   "execution_count": 16,
   "id": "7065a46c",
   "metadata": {},
   "outputs": [
    {
     "data": {
      "text/plain": [
       "[3, 10, 5, 8]"
      ]
     },
     "execution_count": 16,
     "metadata": {},
     "output_type": "execute_result"
    }
   ],
   "source": [
    "word_lengths = list(map(len , list_of_mammals)) #applies the function len to each element on the list and returns the length of the animal names in a new list\n",
    "word_lengths"
   ]
  },
  {
   "cell_type": "markdown",
   "id": "f73b5c05",
   "metadata": {},
   "source": [
    "### <span style=\"color:red\">End of lecture 4 (November 22, 2022).</span>\n",
    "\n",
    "\n",
    "### Tuples\n",
    "Tuples are the little cousins of lists. They are best explained by how the two differ:\n",
    "\n",
    "- tuples are typed with parentheses () instead of square brackets []\n",
    "- tuples are immutable, that is, their values cannot be modified, appended, or removed without creating a new variable. For that reason, you can **use them for sequences of values that are meant to stay fixed**. \n",
    "\n",
    "Tuples have many uses, such as returning multiple values from a function or assigning objects to multiple variables (see session03). We have also already seen that **tuples and lists sometimes interact**, e.g., when using the *zip()* or *enumerate()* functions. Just as for integer and floating-point numbers, **lists can be converted to tuples and the other way around**."
   ]
  },
  {
   "cell_type": "code",
   "execution_count": 17,
   "id": "8f224837",
   "metadata": {},
   "outputs": [
    {
     "name": "stdout",
     "output_type": "stream",
     "text": [
      "('crocodile', 'lizard', 'iguana')\n",
      "['crocodile', 'lizard', 'iguana']\n"
     ]
    }
   ],
   "source": [
    "reptiles = \"crocodile\", \"lizard\", \"iguana\"\n",
    "print(reptiles)\n",
    "\n",
    "list_of_reptiles = list(reptiles)\n",
    "print(list_of_reptiles)"
   ]
  },
  {
   "cell_type": "markdown",
   "id": "4623dbbf",
   "metadata": {},
   "source": [
    "#### Itertools\n",
    "\n",
    "So far, we've used *for* loops to iterate over all elements of an iterable or over multiple iterables (as with *zip*). Some more complex iterators are predefined in the *itertools* module, which you can use after importing it to Python (more on modules in the next session).  \n",
    "\n",
    "**Itertools provides a range of predefined iterators to make your life easier**, see here: https://docs.python.org/3/library/itertools.html .\n",
    "\n",
    "For instance, *product(iterable1,....iterable n)* returns the Cartesian product of its arguments, which is equivalent to building a nested *for* loop.  \n",
    "\n",
    "Have a look at the documentation linked above for further helpful functions (**this may or may not be relevant to homeworks in the future...**)."
   ]
  },
  {
   "cell_type": "code",
   "execution_count": 18,
   "id": "cabaf1b6",
   "metadata": {},
   "outputs": [
    {
     "name": "stdout",
     "output_type": "stream",
     "text": [
      "('dog', 'robin')\n",
      "('dog', 'duck')\n",
      "('dog', 'penguin')\n",
      "('dog', 'pidgeon')\n",
      "('chimpanzee', 'robin')\n",
      "('chimpanzee', 'duck')\n",
      "('chimpanzee', 'penguin')\n",
      "('chimpanzee', 'pidgeon')\n",
      "('whale', 'robin')\n",
      "('whale', 'duck')\n",
      "('whale', 'penguin')\n",
      "('whale', 'pidgeon')\n",
      "('platypus', 'robin')\n",
      "('platypus', 'duck')\n",
      "('platypus', 'penguin')\n",
      "('platypus', 'pidgeon')\n",
      "\n",
      "This is equivalent to:\n",
      "\n",
      "('dog', 'robin')\n",
      "('dog', 'duck')\n",
      "('dog', 'penguin')\n",
      "('dog', 'pidgeon')\n",
      "('chimpanzee', 'robin')\n",
      "('chimpanzee', 'duck')\n",
      "('chimpanzee', 'penguin')\n",
      "('chimpanzee', 'pidgeon')\n",
      "('whale', 'robin')\n",
      "('whale', 'duck')\n",
      "('whale', 'penguin')\n",
      "('whale', 'pidgeon')\n",
      "('platypus', 'robin')\n",
      "('platypus', 'duck')\n",
      "('platypus', 'penguin')\n",
      "('platypus', 'pidgeon')\n"
     ]
    }
   ],
   "source": [
    "import itertools\n",
    "\n",
    "for entry in itertools.product(list_of_mammals,list_of_birds): #for each of the cartesian products\n",
    "    print(entry) #print the tuple\n",
    "\n",
    "print(\"\\nThis is equivalent to:\\n\")\n",
    "\n",
    "for entry1 in list_of_mammals:\n",
    "    for entry2 in list_of_birds:\n",
    "        entry = entry1, entry2 #create tuple of animals\n",
    "        print(entry) #print"
   ]
  },
  {
   "cell_type": "markdown",
   "id": "f31523bb",
   "metadata": {},
   "source": [
    "### Sets\n",
    "A final basic data type for collections of elements is the *set*. Unlike list and tuples, sets are **unordered** and **every element can only occur once**. Sets begin and end with curly brackets {}."
   ]
  },
  {
   "cell_type": "code",
   "execution_count": 19,
   "id": "68eb9df3",
   "metadata": {},
   "outputs": [],
   "source": [
    "lays_eggs = {\"platypus\",\"crocodile\",\"iguana\",\"lizard\"}\n",
    "produces_milk = {\"dog\",\"platypus\",\"horse\",\"chimpanzee\",\"whale\"}"
   ]
  },
  {
   "cell_type": "markdown",
   "id": "67f5050c",
   "metadata": {},
   "source": [
    "**Set methods**:\n",
    "\n",
    "| Method |Operation |Example | Evaluates to|\n",
    "|---|---|---|---|\n",
    "| *in* / *not in* | tests for set membership | \"platypus\" in lays_eggs | True|\n",
    "| *add(obj)* | adds a single element to the set| produces_milk.add(\"goat\")| produces_milk == {\"dog\",\"platypus\",\"horse\",\"chimpanzee\",\"whale\",\"goat\"}\n",
    "|*update(obj)* | adds multiple elements to the set|lays_eggs.update((\"robin\",\"penguin\"))| lays_eggs == {\"platypus\",\"crocodile\",\"iguana\",\"lizard\",\"robin\",\"penguin\"}|\n",
    "|*remove(obj)*| deletes an element from the set| lays_eggs.remove(\"penguin\") | lays_eggs == {\"platypus\",\"crocodile\",\"iguana\",\"lizard\",\"robin\"} |\n",
    "|*discard(obj)*| works like *remove()*, but does not throw exception if the object wasn't part of the set in the first place|lays_eggs.remove(\"dodo\") | lays_eggs == {\"platypus\",\"crocodile\",\"iguana\",\"lizard\",\"robin\"} |\n",
    "|*len(set)*| returns the number of elements in the set| len(produces_milk) | 6 |"
   ]
  },
  {
   "cell_type": "markdown",
   "id": "13c9f9b3",
   "metadata": {},
   "source": [
    "You can perform also perform a variety of **set operations** known from logics: \n",
    "\n",
    "- The **intersection** of two sets is written as *A & B*\n",
    "- The **union** of two sets if written as *A | B*\n",
    "- The **difference** between two sets if written as *A - B*\n",
    "\n",
    "See your logics classes for further set operations..."
   ]
  },
  {
   "cell_type": "code",
   "execution_count": 20,
   "id": "c66b69cb",
   "metadata": {},
   "outputs": [
    {
     "name": "stdout",
     "output_type": "stream",
     "text": [
      "{'platypus'}\n"
     ]
    }
   ],
   "source": [
    "print(lays_eggs & produces_milk)"
   ]
  },
  {
   "cell_type": "markdown",
   "id": "ab5261c6",
   "metadata": {},
   "source": [
    "### Dictionaries\n",
    "\n",
    "Dictionaries in Python function much like dictionaries in real life: they are used to organize data by key terms (capitals of countries, regions of Germany, English-German translations, ...) . Like lists, **dictionaries are mutable collections of many values**. Unlike lists, which are organized by their numerical index, however, **dictionaries can be organized (or indexed) by many different data types**. We call these indices *keys* and the association between a key and its values a *key-value pair*.  \n",
    "\n",
    "Dictionaries are...\n",
    "\n",
    "- **used for storing objects under keys and looking them up again** (hence the name)\n",
    "- a **universal data structure that can be used to represent any mapping**. Any immutable type can be a key (strings, numbers, tuples, but not lists or sets) and any object can be a value (even lists or sets)\n",
    "\n",
    "#### Basic features of dictionaries\n",
    "\n",
    "Like sets, dictionaries begin and end with curly brackets. Inside, they contain mappings between key and value, indicated as objects on the left-hand and ride-hand side of a colon, respectively."
   ]
  },
  {
   "cell_type": "code",
   "execution_count": 21,
   "id": "d2a5dbd6",
   "metadata": {},
   "outputs": [
    {
     "name": "stdout",
     "output_type": "stream",
     "text": [
      "The capital of Egypt is  Cairo\n"
     ]
    }
   ],
   "source": [
    "some_capital_cities_of_africa = {\"Algeria\" : \"Algiers\",\n",
    "                                 \"Botswana\": \"Gaborone\",\n",
    "                                 \"Chad\" : \"N'Djamena\",\n",
    "                                 \"Egypt\" : \"Cairo\",\n",
    "                                \"Kenya\" : \"Abc\"}\n",
    "print(\"The capital of Egypt is \",\n",
    "      some_capital_cities_of_africa[\"Egypt\"]) #retrieve dictionary entries by their key\n",
    "\n",
    "#adding new dictionary entries is easy....\n",
    "some_capital_cities_of_africa[\"Kenya\"] = \"Nairobi\""
   ]
  },
  {
   "cell_type": "markdown",
   "id": "48fe655f",
   "metadata": {},
   "source": [
    "#### Dictionary construction\n",
    "\n",
    "There are many more elegant ways of dictionary construction than hand-typing out all key-value pairs as in the example above.\n",
    "\n",
    "- Using **list comprehension** to create a list of pairs:"
   ]
  },
  {
   "cell_type": "code",
   "execution_count": 22,
   "id": "e31cf6b6",
   "metadata": {},
   "outputs": [
    {
     "name": "stdout",
     "output_type": "stream",
     "text": [
      "{'a': 'A', 'b': 'B', 'c': 'C', 'd': 'D', 'e': 'E', 'f': 'F', 'g': 'G', 'h': 'H', 'i': 'I', 'j': 'J', 'k': 'K', 'l': 'L', 'm': 'M', 'n': 'N', 'o': 'O', 'p': 'P', 'q': 'Q', 'r': 'R', 's': 'S', 't': 'T', 'u': 'U', 'v': 'V', 'w': 'W', 'x': 'X', 'y': 'Y', 'z': 'Z', ' ': ' '}\n"
     ]
    }
   ],
   "source": [
    "to_upper_dict = dict([(l.lower(),l) for l in \n",
    "                      \"ABCDEFGHIJKLMNOPQRSTUVWXYZ \"])\n",
    "print(to_upper_dict)"
   ]
  },
  {
   "cell_type": "markdown",
   "id": "ea8bb3d1",
   "metadata": {},
   "source": [
    "- Using two zipped sequences:"
   ]
  },
  {
   "cell_type": "code",
   "execution_count": 23,
   "id": "8bf1ab95",
   "metadata": {},
   "outputs": [
    {
     "name": "stdout",
     "output_type": "stream",
     "text": [
      "{'A': 'a', 'B': 'b', 'C': 'c', 'D': 'd', 'E': 'e', 'F': 'f', 'G': 'g', 'H': 'h'}\n"
     ]
    }
   ],
   "source": [
    "lower = [\"a\",\"b\",\"c\",\"d\",\"e\",\"f\",\"g\",\"h\"]\n",
    "upper = [\"A\",\"B\",\"C\",\"D\",\"E\",\"F\",\"G\",\"H\"]\n",
    "\n",
    "to_lower_dict = dict(zip(upper,lower))\n",
    "print(to_lower_dict)"
   ]
  },
  {
   "cell_type": "markdown",
   "id": "b64232dd",
   "metadata": {},
   "source": [
    "Remember that dictionaries can contain *any* object as values, even lists. Thus, they can be used to store large amounts of data at once.\n",
    "\n",
    "Let's imagine you want to keep score of important information about your friends. A dictionary easily allows you to represent the relevant information:"
   ]
  },
  {
   "cell_type": "code",
   "execution_count": 24,
   "id": "1bb3d417",
   "metadata": {},
   "outputs": [
    {
     "name": "stdout",
     "output_type": "stream",
     "text": [
      "I have the following information:  First name : Mohamed\n",
      "I have the following information:  Last name : bin Hamad\n",
      "I have the following information:  Age : 33\n",
      "I have the following information:  Phone number : 0176123456\n"
     ]
    }
   ],
   "source": [
    "first_names = [\"Mohamed\", \"Alina\", \"Tracy\", \"Sophia\"]\n",
    "last_names = [\"bin Hamad\", \"Schultz\", \"Sanchez\", \"Loren\"]\n",
    "ages = [33, 28, 41, 38]\n",
    "phone_numbers = [\"0176123456\", \"0176123456\", \"0176123456\", \"0176123456\"]\n",
    "\n",
    "notebook = {\"First name\" : first_names, \n",
    "            \"Last name\" : last_names, \n",
    "            \"Age\" : ages, \"Phone number\" : phone_numbers}\n",
    "\n",
    "for i in notebook:\n",
    "    print(\"I have the following information: \", \n",
    "          i ,\":\", notebook[i][0]) #for each key, returns the list element with index 0"
   ]
  },
  {
   "cell_type": "markdown",
   "id": "6613d89c",
   "metadata": {},
   "source": [
    "#### Modifying a dictionary\n",
    "\n",
    "- *len()* on a dictionary evaluates to the number of key-value pairs\n",
    "- *in* checks for the presence of a key\n",
    "- *dict.keys()* returns a list of all keys in the dictionary\n",
    "- *dict.values()* returns a list of all values in the dictionary\n",
    "- *dict.items()* returns a list of all key-value pairs \n",
    "- *del* deletes a key-value pair, e.g., *del notebook[\"Phone_number\"]*\n",
    "- *dict.clear()* empties the dictionary\n",
    "\n",
    "#### Processing a dictionary\n",
    "\n",
    "Since dictionaries have both keys and values, we can use loops to iterate over either. Using the *values()* and *keys()* methods is essential here:"
   ]
  },
  {
   "cell_type": "code",
   "execution_count": 25,
   "id": "e1e13478",
   "metadata": {},
   "outputs": [
    {
     "name": "stdout",
     "output_type": "stream",
     "text": [
      "Please add a new First name\n",
      "Tom\n",
      "Please add a new Last name\n",
      "Key\n",
      "Please add a new Age\n",
      "33\n",
      "Please add a new Phone number\n",
      "1234\n",
      "{'First name': ['Mohamed', 'Alina', 'Tracy', 'Sophia', 'Tom'], 'Last name': ['bin Hamad', 'Schultz', 'Sanchez', 'Loren', 'Key'], 'Age': [33, 28, 41, 38, '33'], 'Phone number': ['0176123456', '0176123456', '0176123456', '0176123456', '1234']}\n"
     ]
    }
   ],
   "source": [
    "#Adding a new friend to our notebook:\n",
    "key_list = list(notebook.keys())\n",
    "i = 0\n",
    "\n",
    "#a loop over dictionary values\n",
    "for entry in notebook.values(): \n",
    "    print(\"Please add a new\", key_list[i])\n",
    "    new_entry = input()\n",
    "    entry.append(new_entry)\n",
    "    i += 1\n",
    "print(notebook)"
   ]
  },
  {
   "cell_type": "markdown",
   "id": "92a91e54",
   "metadata": {},
   "source": [
    "In this particular case, the same result may also be achieved by looping over dictionary keys. Whether you should loop over keys or values will always depend on your application."
   ]
  },
  {
   "cell_type": "code",
   "execution_count": 26,
   "id": "ac97dec8",
   "metadata": {},
   "outputs": [
    {
     "name": "stdout",
     "output_type": "stream",
     "text": [
      "Please add a new First name\n",
      "Ming\n",
      "Please add a new Last name\n",
      "Xiang\n",
      "Please add a new Age\n",
      "40\n",
      "Please add a new Phone number\n",
      "1234\n",
      "{'First name': ['Mohamed', 'Alina', 'Tracy', 'Sophia', 'Tom', 'Ming'], 'Last name': ['bin Hamad', 'Schultz', 'Sanchez', 'Loren', 'Key', 'Xiang'], 'Age': [33, 28, 41, 38, '33', '40'], 'Phone number': ['0176123456', '0176123456', '0176123456', '0176123456', '1234', '1234']}\n"
     ]
    }
   ],
   "source": [
    "#a loop over dictionary keys\n",
    "for i in notebook.keys():\n",
    "    print(\"Please add a new\", i)\n",
    "    new_entry= input()\n",
    "    notebook[i].append(new_entry)\n",
    "\n",
    "print(notebook)"
   ]
  },
  {
   "cell_type": "markdown",
   "id": "8cb3938f",
   "metadata": {},
   "source": [
    "Note, crucially, that **we can't access dictionary entries by using a numeric index**, as we would for lists. The following command raises a *key error*:"
   ]
  },
  {
   "cell_type": "code",
   "execution_count": 27,
   "id": "a3362b65",
   "metadata": {
    "scrolled": true
   },
   "outputs": [
    {
     "ename": "KeyError",
     "evalue": "1",
     "output_type": "error",
     "traceback": [
      "\u001b[1;31m---------------------------------------------------------------------------\u001b[0m",
      "\u001b[1;31mKeyError\u001b[0m                                  Traceback (most recent call last)",
      "\u001b[1;32m~\\AppData\\Local\\Temp\\ipykernel_14660\\2738667397.py\u001b[0m in \u001b[0;36m<module>\u001b[1;34m\u001b[0m\n\u001b[1;32m----> 1\u001b[1;33m \u001b[0mprint\u001b[0m\u001b[1;33m(\u001b[0m\u001b[0mnotebook\u001b[0m\u001b[1;33m[\u001b[0m\u001b[1;36m1\u001b[0m\u001b[1;33m]\u001b[0m\u001b[1;33m)\u001b[0m\u001b[1;33m\u001b[0m\u001b[1;33m\u001b[0m\u001b[0m\n\u001b[0m",
      "\u001b[1;31mKeyError\u001b[0m: 1"
     ]
    }
   ],
   "source": [
    "print(notebook[1])"
   ]
  },
  {
   "cell_type": "markdown",
   "id": "00c89420",
   "metadata": {},
   "source": [
    "This is because **although it looks like a numeric index, it is not**. As specified earlier, any immutable type can be a dictionary key, including integer numbers. Therefore, *notebook[1]* is understood as command to look up the values paired with the key *1* (and we never defined such a key in this dictionary).\n",
    "\n",
    "**Dictionaries are not inherently ordered, therefore accessing its items always relies on referring to their keys and/or values.** Although Python does guarantee that the order of items in a dictionary is preserved when displayed or iterated over, this is only the case since very recently. It has been added as a part of the Python language specification in version 3.7 (released in 2018)."
   ]
  },
  {
   "cell_type": "markdown",
   "id": "a67bf228",
   "metadata": {},
   "source": [
    "### Hierarchical structure\n",
    "\n",
    "Remember that all data types that encode collections of elements (lists, tuples, sets, dictionaries) can be nested! A more elegant way of representing our little notebook of friends uses **nested dictionaries**:"
   ]
  },
  {
   "cell_type": "code",
   "execution_count": 28,
   "id": "97c30cb3",
   "metadata": {},
   "outputs": [
    {
     "name": "stdout",
     "output_type": "stream",
     "text": [
      "\n",
      " {'First name': 'Mohamed', 'Last name': 'bin Hamad', 'Age': 33, 'Phone number': '0176123456'}\n"
     ]
    }
   ],
   "source": [
    "revised_notebook = dict()\n",
    "\n",
    "for i in range(1,len(first_names)):\n",
    "    revised_notebook[\"Friend \"+ str(i)] = {\"First name\" : first_names[i-1], \n",
    "     \"Last name\" : last_names[i-1], \n",
    "     \"Age\" : ages[i-1], \n",
    "     \"Phone number\" : phone_numbers[i-1]}\n",
    "\n",
    "print(\"\\n\",revised_notebook[\"Friend 1\"])"
   ]
  },
  {
   "cell_type": "markdown",
   "id": "41a846e6",
   "metadata": {},
   "source": [
    "Similarly, lists can be nested into arbitrarily complex hierarchical list structures. **It is very common to represent matrices as nested lists**, for instance: "
   ]
  },
  {
   "cell_type": "code",
   "execution_count": 34,
   "id": "f3db6c0a",
   "metadata": {},
   "outputs": [
    {
     "name": "stdout",
     "output_type": "stream",
     "text": [
      "[[1, 2, 0.3, 4], [5, 6, 7, 0.1]]\n",
      "The sum of the rows is: [7.3, 18.1]\n",
      "The sum of the columns is: [6, 8, 7.3, 4.1]\n"
     ]
    }
   ],
   "source": [
    "#initializing a matrix with m rows and n columns:\n",
    "matrix = [[1,2,3,4], [5,6,7,8]]\n",
    "\n",
    "#modifying the values in row 1 and 2, columns 3 and 4 respectively:\n",
    "matrix[0][2] = 0.3; matrix[1][3] = 0.1\n",
    "print(matrix)\n",
    "\n",
    "#summing up the rows\n",
    "print(\"The sum of the rows is:\",list(map(sum , matrix)))\n",
    "\n",
    "#Question: How would you sum up the columns?\n",
    "print(\"The sum of the columns is:\", list(map(sum,zip(matrix[0],matrix[1]))) )\n",
    "\n"
   ]
  },
  {
   "cell_type": "code",
   "execution_count": null,
   "id": "3081ab4b",
   "metadata": {},
   "outputs": [],
   "source": []
  }
 ],
 "metadata": {
  "kernelspec": {
   "display_name": "Python 3 (ipykernel)",
   "language": "python",
   "name": "python3"
  },
  "language_info": {
   "codemirror_mode": {
    "name": "ipython",
    "version": 3
   },
   "file_extension": ".py",
   "mimetype": "text/x-python",
   "name": "python",
   "nbconvert_exporter": "python",
   "pygments_lexer": "ipython3",
   "version": "3.9.12"
  }
 },
 "nbformat": 4,
 "nbformat_minor": 5
}
