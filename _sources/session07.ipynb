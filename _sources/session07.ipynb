{
 "cells": [
  {
   "cell_type": "markdown",
   "id": "c1000e3f",
   "metadata": {},
   "source": [
    "## For efficiency's sake: structured programs, packages, regular expressions \n",
    "\n",
    "Efficiency is key. Therefore, in this session, you will learn more about advanced aspects of efficient programming. We have already discussed how to improve code efficiency and maintainability in small programs. Sooner or later, however, additional questions may emerge: How should you **distribute code over a main program and importable modules**? Where can time and effort be saved by **relying on already available modules and packages**? Can **repeating patterns** in the task at hand be detected and exploited for further automization? \n"
   ]
  },
  {
   "cell_type": "markdown",
   "id": "b2eb41f2",
   "metadata": {},
   "source": [
    "### Structured programs\n",
    "Python code (in .py files) can be used in two ways:\n",
    "- as a standalone program (e.g., the code file that you run from within Spyder)\n",
    "- as a module that is imported and used from inside another program\n",
    "\n",
    "**Recap**: Any .py file can be loaded as a module. As such, modules allow us (a) to distribute code across multiple files (which is convenient for bigger coding projects). Modules are loaded with an *import* statement. \n",
    "\n",
    "**Larger projects should make use of the distinction between standalone programs and modules.**\n",
    "- package the main functionality in different Python files\n",
    "- import these files as modules from a main file where the execution code resides\n",
    "- this main code should only be executed when the code is run as a standalone program\n",
    "\n",
    "#### Introducing the *main* block\n",
    "\n",
    "Upon importing a module, **all statements in the imported module are executed**. This may be fine if the module is explicitly designed with the singular function to be imported by other .py files. But **sometimes you may want to be able to use a script as both a module and an executable standalone program in and of itself**. This is where the *main* block comes in handy.\n",
    "\n",
    "Why would you want this functionality?\n",
    "- Your code's **main function may be for use as module**, but you still want to include a script mode where it runs some **unit tests or a demo**.\n",
    "- Your code's **main function may be for use as standalone program**, but you still want to **make some of its functionalities available to other programs**, without needing to create a new .py file.\n",
    "- Finally, your code may be for **use as standalone program (by you)**, but may have some unit tests and the **testing framework (by your teachers)** works by importing .py files like your script and running special test functions. This is the case for your homework exercises."
   ]
  },
  {
   "cell_type": "code",
   "execution_count": 9,
   "id": "11de510b",
   "metadata": {},
   "outputs": [
    {
     "name": "stdout",
     "output_type": "stream",
     "text": [
      "a\n"
     ]
    }
   ],
   "source": [
    "#Example from homework exercise 01\n",
    "def pig_latin_name(name):\n",
    "    \"\"\"\n",
    "    Transform a name to the Pig Latin variant (paying attention to capital letters).\n",
    "    \"\"\"\n",
    "    pass\n",
    "\n",
    "\n",
    "# paste your test code here (will not be tested)\n",
    "if __name__ == '__main__':\n",
    "    pass"
   ]
  },
  {
   "cell_type": "markdown",
   "id": "d4bac7ec",
   "metadata": {},
   "source": [
    "In your homework exercises, **you can test your own code in the main block of your script**. This part of the code is **only exectued when the file runs as standalone program**. If it is instead imported as module (e.g., to our testing scripts), execution of the module's main block is skipped. "
   ]
  },
  {
   "cell_type": "markdown",
   "id": "5abd5fce",
   "metadata": {},
   "source": [
    "**But how does this work, exactly?**\n",
    "\n",
    "Upon initializing a script, the Python interpreter will...\n",
    "1. read the source files and **assign certain special variable names**\n",
    "2. execute all code\n",
    "\n",
    "Special variables are preceded and followed by \\_\\_ . Here, we care in particular about the **\\_\\_name\\__** variable. \n",
    "\n",
    "If you are **running a source file as the main program**, the interpreter will assign the hard-coded string \"\\_\\_main\\_\\_\" to the \\_\\_name\\_\\_ variable. It's as if the interpreter inserts this at the top of your code (you don't actually have to add this to your code):\n",
    "\n",
    "    __name__ = \"__main__\" \n",
    "    \n",
    "If you want to convince yourself of this, try and print out the variable's value on your next homework exercise:"
   ]
  },
  {
   "cell_type": "code",
   "execution_count": 1,
   "id": "16bd603a",
   "metadata": {},
   "outputs": [
    {
     "name": "stdout",
     "output_type": "stream",
     "text": [
      "__main__\n"
     ]
    }
   ],
   "source": [
    "print (__name__)"
   ]
  },
  {
   "cell_type": "markdown",
   "id": "e91ac347",
   "metadata": {},
   "source": [
    "If you are **importing a source file as module to another program**, the interpreter will search for the respective .py file and will assign the name from the import statement as value of its \\_\\_name\\_\\_ variable.\n",
    "\n",
    "For instance, if we are importing the module *math*, it's as if the interpreter inserts this at the top of the *math.py* file:\n",
    "\n",
    "    __name__ = \"math\"\n",
    "    \n",
    "Note that the name of your main program remains \\_\\_main\\_\\_:"
   ]
  },
  {
   "cell_type": "code",
   "execution_count": 6,
   "id": "940d28db",
   "metadata": {},
   "outputs": [
    {
     "name": "stdout",
     "output_type": "stream",
     "text": [
      "the live script's name remains:  __main__\n",
      "the imported module's name is: math\n"
     ]
    }
   ],
   "source": [
    "import math\n",
    "print(\"the live script's name remains: \",__name__)\n",
    "print(\"the imported module's name is:\",math.__name__)"
   ]
  },
  {
   "cell_type": "markdown",
   "id": "95b6feae",
   "metadata": {},
   "source": [
    "Coming back to the question as to **how this is useful**, note that we can **conditionalize the execution of certain statements on whether the file is executed as main file or as module**. Code that is embedded under the *if* statement will only be executed if the \\_\\_name\\_\\_ variable is assigned the \"\\_\\_main\\_\\_\" value at runtime:"
   ]
  },
  {
   "cell_type": "code",
   "execution_count": 7,
   "id": "0a73fa08",
   "metadata": {},
   "outputs": [
    {
     "name": "stdout",
     "output_type": "stream",
     "text": [
      "This is now running as standalone program!\n"
     ]
    }
   ],
   "source": [
    "if __name__ == '__main__':\n",
    "    print(\"This is now running as standalone program!\")\n",
    "    \n",
    "if __name__ == '__math__':\n",
    "    print(\"We never get here from the main program.\")"
   ]
  },
  {
   "cell_type": "markdown",
   "id": "a309094e",
   "metadata": {},
   "source": [
    "#### Using the main block to separate functionality from function\n",
    "\n",
    "It is efficient, and good practice, in programming to **separate code functionality (the function definitions) from code function (the executable program code)**. You are already using this pattern in your homeworks!\n",
    "\n",
    "The following program provides an **example of well-packaged code** that could readily be imported as module to other programs, which would provide them with the specified functions' functionalities:"
   ]
  },
  {
   "cell_type": "code",
   "execution_count": 8,
   "id": "e2b34dc6",
   "metadata": {},
   "outputs": [
    {
     "name": "stdout",
     "output_type": "stream",
     "text": [
      "Sum of both lists: 101143.70000000001\n"
     ]
    }
   ],
   "source": [
    "def sum_lists(list1 , list2):    #functionalities are defined for generalized usability and can be imported into other files\n",
    "    return sum(list1) + sum(list2)\n",
    "\n",
    "def read_floats_from_file(filename):\n",
    "    with open(filename , \"r\") as in_file:\n",
    "         lines = in_file.readlines ()\n",
    "    float_list = []\n",
    "    for line in lines:\n",
    "        float_list.append(float(line.strip ()))\n",
    "    return float_list\n",
    "\n",
    "if __name__ == \"__main__\": #input is read in only here, that is, when executing the source file as standalone program.\n",
    "    l1 = read_floats_from_file(\"test1.txt\")\n",
    "    l2 = read_floats_from_file(\"test2.txt\")\n",
    "    print(\"Sum of both lists: \" + str(sum_lists(l1 ,l2)))"
   ]
  },
  {
   "cell_type": "markdown",
   "id": "689e9314",
   "metadata": {},
   "source": [
    "### Packages\n",
    "\n",
    "Some functionality is needed by many different programs, but isn't part of the core language (like built in string methods) or the built-in modules/libraries (like *math* or *itertools*).\n",
    "\n",
    "**Linguistic examples:**\n",
    "- visualization of objects likes trees and graphs\n",
    "- efficient natural language parsing\n",
    "- multilingual text processing and conversion between alphabets\n",
    "\n",
    "You don't need to reinvent the wheel. Focus on the novel functionality of your program while relying on stable code used (and tested) by other programmers for common tasks.\n",
    "\n",
    "**Python packages** are shared by programmers via package management systems, from which they can be installed via automated tools.\n",
    "\n",
    "#### How to find and install a package:\n",
    "\n",
    "- Google for packages that might provide the functionality you want.\n",
    "- If you are using the configuration that was recommended at the outset of this course, try installing it via *conda* first:\n",
    "\n",
    "        conda install the-package   \n",
    "        (the-package is our dummy name, replace it by the package's name)\n",
    "- If it says *package not found*, access the Python Package Index (PyPI) via pip:\n",
    "                        \n",
    "       pip install the-package\n",
    "      \n",
    "- For the latter option, you might need to install pip first:\n",
    "\n",
    "        conda install pip\n",
    "        \n",
    "#### How to use an installed package:\n",
    "\n",
    "**Installed packages are available as importable modules.** Take a look at the examples on the package’s website to figure out what modules can be imported. Try out some of the code provided on the package's website to test that everything works as expected.\n",
    "\n",
    "Not sure about what one of the functions or variables in the module’s namespace does? **Many packages provide good documentation online!**\n",
    "\n",
    "##### Many packages define their own classes (data types):\n",
    "- Class names are conventionally written with an uppercase letter (example: Text)\n",
    "- Classes are similar to the built-in complex datatypes like lists and dictionaries: they define the behavior of objects of their type (e.g., what properties should Text objects have)\n",
    "- creating an instance of a class (an object of its type) works by calling its constructor, like you used dict() to create a new dictionary:\n",
    "\n",
    "        my_text = Text(str)\n",
    "\n",
    "- Classes provide methods, i.e. functions which take an instance of the class as their first argument, and calls to which are written as *instance.method(additional arguments)*\n",
    "\n",
    "        my_text.words\n",
    "        \n",
    "- You will learn how to create your own classes in the next session.\n",
    "\n",
    "#### Example: The *polyglot* package\n",
    "\n",
    "The *polyglot* package is a natural language processing toolbox specialized on multilingual language applications. It offers tools for tokenization, language detection, morphological analysis and more in 150+ languages."
   ]
  },
  {
   "cell_type": "code",
   "execution_count": 26,
   "id": "68c1d819",
   "metadata": {},
   "outputs": [
    {
     "name": "stdout",
     "output_type": "stream",
     "text": [
      "['Merry', 'Christmas', 'and', 'Neues', 'Jahr', '!']\n"
     ]
    }
   ],
   "source": [
    "import polyglot #import the polyglot package\n",
    "from polyglot.text import Detector, Text, Word #imports the Text and Word classes\n",
    "\n",
    "text_en = Text(\"Enjoy the Christmas break and have a happy new year!\")\n",
    "text_ar = Text(\"عيد ميلاد مجيد وكل عام وانتم بخير\")\n",
    "print(text_en.words)"
   ]
  },
  {
   "cell_type": "code",
   "execution_count": 27,
   "id": "32c2f5eb",
   "metadata": {},
   "outputs": [
    {
     "name": "stdout",
     "output_type": "stream",
     "text": [
      "\n",
      "Language Detected: Name=English\n"
     ]
    }
   ],
   "source": [
    "print(\"\\nLanguage Detected: Name={}\".\n",
    "      format(text_en.language.name))"
   ]
  },
  {
   "cell_type": "code",
   "execution_count": 6,
   "id": "dc18c920",
   "metadata": {},
   "outputs": [
    {
     "name": "stdout",
     "output_type": "stream",
     "text": [
      "['عيد', 'ميلاد', 'مجيد', 'وكل', 'عام', 'وانتم', 'بخير']\n"
     ]
    }
   ],
   "source": [
    "print(text_ar.words)"
   ]
  },
  {
   "cell_type": "code",
   "execution_count": 7,
   "id": "b8633934",
   "metadata": {
    "scrolled": true
   },
   "outputs": [
    {
     "name": "stdout",
     "output_type": "stream",
     "text": [
      "\n",
      "Language Detected: Name=Arabic\n"
     ]
    }
   ],
   "source": [
    "print(\"\\nLanguage Detected: Name={}\".format(text_ar.language.name))"
   ]
  },
  {
   "cell_type": "code",
   "execution_count": 8,
   "id": "8998d091",
   "metadata": {},
   "outputs": [
    {
     "name": "stdout",
     "output_type": "stream",
     "text": [
      "ينجوي\n",
      "ثي\n",
      "كريستماس\n",
      "برياك\n",
      "اند\n",
      "هافي\n",
      "ا\n",
      "هاببي\n",
      "نيو\n",
      "يير\n",
      "\n"
     ]
    }
   ],
   "source": [
    "from polyglot.transliteration import Transliterator\n",
    "\n",
    "#english-arabic transliteration\n",
    "for x in text_en.transliterate(\"ar\"):\n",
    "  print(x)"
   ]
  },
  {
   "cell_type": "markdown",
   "id": "34fc7134",
   "metadata": {},
   "source": [
    "### Pattern detection via regular expressions\n",
    "\n",
    "In many applications, we need to **find strings matching a pattern**:\n",
    "- find all documents containing a given name\n",
    "- find example sentences for the usage of some word in a corpus\n",
    "- find the places in your code where you used some variable\n",
    "\n",
    "Also, we often need to **extract parts of a string matching a pattern**:\n",
    "- extract everything that is formatted like a name\n",
    "- extract the words which can occur as arguments to a specific verb from a corpus\n",
    "\n",
    "**Regular expressions** are sequences of strings and special operators that define a regular language (in the Chomskian sense). They allow you to specify search patterns for text data.\n",
    "\n",
    "#### Regular expressions as regular language\n",
    "\n",
    "Regular languages, in general, are characterized as follows: \n",
    "\n",
    "**Given a finite alphabet Σ** (e.g., a collection of characters),...\n",
    "\n",
    "- the **empty language Ø** is a regular language.\n",
    "- for each a ∈ Σ, the **singleton language {a}** is a regular language.\n",
    "- If A is a regular language, **A&ast; (Kleene star, more below)** is a regular language. That means the empty string language {ε} is also regular.\n",
    "- If A and B are regular languages, then **A ∪ B (union)** and **A • B (concatenation)** are regular languages.\n",
    "- **No other languages over Σ are regular.**\n",
    "- In particular, that means that A<sup>n</sup>B<sup>n</sup> does not describe a regular language (because there is no memory for the value of *n*)\n",
    "\n",
    "All regular languages are describable by regular expressions. Let's assume a language with alphabet Σ = {a, b, c}. Regular expressions over this alphabet can use any of its constants (characters) as well as the three basic operations admittable by the definition of regular languages:\n",
    "\n",
    "- **Concatenation**: in linear order, combine two elements of the alphabet: *ab, aab, aaabb, aacbbb, ...* \n",
    "- **Alternation**: free choice of either the (potentially multi-character) expressions on the left or right of the pipe symbol: *a|b, (ab)|(bc), (accc)|b,...*\n",
    "- **Kleene star**: denotes the smallest superset of the set described by the expression it is applied to that contains ε and is closed under string concatenation: *a&ast; = {ε, a, aa, aaa, aaaa,...}*, *(ab)&ast; = {ε, ab, abab, ababab,...}*\n",
    "\n",
    "#### Finite state automata\n",
    "\n",
    "Regular languages (and thus regular expressions) can also be represented visually in (deterministic or nondeterministic) *finite state automata* (FSA). These consist of:\n",
    "\n",
    "- a finite number of states Z = {Z<sub>1</sub>, Z<sub>2</sub>, ..., Z<sub>k</sub>}\n",
    "- a starting state Z<sub>start</sub> ∈ Z\n",
    "- one (or possibly several) final states Z<sub>end</sub> ⊆ Z\n",
    "- a transition function to move from Z<sub>i</sub> to Z<sub>j</sub> depending on an input symbol from the alphabet Σ. δ : Z × Σ → Z \n",
    "\n",
    "Determinisitic FSA need to specify exactly one possible transition per input symbol on each state. Nondeterministic FSA can have multiple transition options for an input symbol (e.g., for *a* on Z<sub>1</sub> below).\n",
    "\n",
    "<img src=\"https://www.dropbox.com/s/sbye5rzzqoxa0lw/automata_regex.png?raw=1\" width=\"500\" height=\"500\" />\n",
    "\n",
    "\n"
   ]
  },
  {
   "cell_type": "markdown",
   "id": "5bcf9696",
   "metadata": {},
   "source": [
    "#### So what's the use of this again?\n",
    "\n",
    "Using just the set of operations defined above, we can significantly improve pattern detection for various types of text input.\n",
    "\n",
    "**Side note: regular expressions can be used in Google**: e.g., *\"(parties|concerts) in Tübingen on (Friday|Saturday)\"*.\n",
    "\n",
    "#### The *re* module\n",
    "Using the **Python module *re***, we can find and extract text patterns by matching them against specified regular expressions. Note that the package's syntax is a bit differnt from the notation introduced above and introduces a few extra operators:\n",
    "\n",
    "|Operator|Meaning|Example|\n",
    "|---|---|---|\n",
    "| &ast; | zero or more repetitions | *b&ast;t* matches *t, bt, bbt, ...* |\n",
    "| + | at least one repetition | *b+t* matches *bt, bbt, ...*|\n",
    "| ? | optional items (zero or one repetition) | *b?t* matches *t* and *bt*|\n",
    "| [] | alternation between single characters | *b[aeiou]t* matches *bat, bet, bit, bot, but*, but not *beet*|\n",
    "| [^...] | the hat symbol inside square brackets serves to negate the characters therein | *b[^aeiou]t* matches bbt, bct, ...*, but not *bat, bet, bit, bot, but*|\n",
    "| {min, max} | more general quantification | *a{4,6}* matches *aaaa, aaaaa*, and *aaaaaa*|\n",
    "| . (dot) | wildcard symbol that matches any character except the new-line character | *b.t* matches *bat, bbt, bct, bdt, bet,...*|\n",
    "| () | grouping metacharacter as above | *(ab)+* matches *ab, abab, ababab,...*|\n",
    "| \\| | alternation as above | *apple\\|banana* matches *apple, banana*|\n",
    "\n",
    "Further useful shorthand notations:\n",
    "\n",
    "- [A-Z] matches any uppercase letter of the alphabet\n",
    "- [0-9] matches any digit\n",
    "- \\d stands for digits (= [0-9])\n",
    "- \\w stands for word characters (= [a-z A-Z 0-9])\n",
    "- \\s stands for whitespaces (= [\\t\\r\\n])\n",
    "\n",
    "**Re** requires you to specify an expression against which to match the designated string. You can set this using *re.compile(regex)*. **Simple pattern matching operations on that basis include**:\n",
    "\n",
    "- *regex.match(str)*: matches the regex pattern **for its appearance at the beginning of the string**.\n",
    "- *regex.search(str)*: matches the regex pattern **for its appearance anywhere in the string**. Only returns the first match.\n",
    "- *regex.findall(str)*: matches the regex pattern **for its appearance anywhere in the string** and returns all matches.\n",
    "- *regex.split(str)*: matches the regex pattern **for its appearance anywhere in the string** and splits the string into a list of substrings."
   ]
  },
  {
   "cell_type": "code",
   "execution_count": 9,
   "id": "66953a10",
   "metadata": {},
   "outputs": [
    {
     "name": "stdout",
     "output_type": "stream",
     "text": [
      "[' fox', ' dog']\n",
      "['The quick brown', ' fox', ' jumps over the lazy', ' dog', '.']\n"
     ]
    }
   ],
   "source": [
    "import re\n",
    "\n",
    "sentence = \"The quick brown fox jumps over the lazy dog.\"\n",
    "\n",
    "matcher = re.compile(\"(\\s[d|f]o[^aeiou])\")\n",
    "\n",
    "print(matcher.findall(sentence)) #find all instances matching the regex\n",
    "print(matcher.split(sentence)) #split string around all instances matching the regex"
   ]
  },
  {
   "cell_type": "markdown",
   "id": "4f324248",
   "metadata": {},
   "source": [
    "The first two of these methods return a *match* object, which can be further processed using methods within the *Re* module (e.g., *start()* and *end()*, but check out the online documentation for more)."
   ]
  },
  {
   "cell_type": "code",
   "execution_count": 10,
   "id": "20958a74",
   "metadata": {},
   "outputs": [
    {
     "name": "stdout",
     "output_type": "stream",
     "text": [
      "<re.Match object; span=(15, 19), match=' fox'>\n"
     ]
    },
    {
     "data": {
      "text/plain": [
       "(15, 19)"
      ]
     },
     "execution_count": 10,
     "metadata": {},
     "output_type": "execute_result"
    }
   ],
   "source": [
    "match = matcher.search(sentence)\n",
    "print(match)\n",
    "\n",
    "match.start(), match.end()"
   ]
  },
  {
   "cell_type": "markdown",
   "id": "c1e8ee3a",
   "metadata": {},
   "source": [
    "You can replace matching substrings using the *sub(replacement, string)*:"
   ]
  },
  {
   "cell_type": "code",
   "execution_count": 11,
   "id": "2e699115",
   "metadata": {},
   "outputs": [
    {
     "data": {
      "text/plain": [
       "'The quick brown cat jumps over the lazy cat.'"
      ]
     },
     "execution_count": 11,
     "metadata": {},
     "output_type": "execute_result"
    }
   ],
   "source": [
    "matcher.sub(\" cat\", sentence)"
   ]
  }
 ],
 "metadata": {
  "kernelspec": {
   "display_name": "Python 3 (ipykernel)",
   "language": "python",
   "name": "python3"
  },
  "language_info": {
   "codemirror_mode": {
    "name": "ipython",
    "version": 3
   },
   "file_extension": ".py",
   "mimetype": "text/x-python",
   "name": "python",
   "nbconvert_exporter": "python",
   "pygments_lexer": "ipython3",
   "version": "3.9.12"
  }
 },
 "nbformat": 4,
 "nbformat_minor": 5
}
