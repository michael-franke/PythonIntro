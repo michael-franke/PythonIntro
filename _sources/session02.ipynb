{
 "cells": [
  {
   "cell_type": "markdown",
   "id": "a58a22ce",
   "metadata": {},
   "source": [
    "# Data types and statements \n",
    "\n",
    "In this session, you will learn about the different **data types** Python can handle, about **storing data in variables** and modifying their contents through **assignment operators**, and about some of the essential basic **functions** in Python. At the end of this session, you should be able to write simple programs that assign, manipulate and return different types of data.  \n",
    "\n",
    "## Data types\n",
    "\n",
    "When speaking of data types, we are refering to different **classes** that a value can belong to. Values always belong to exactly one data type, that is, if a value is of the *integer* type, for instance, it cannot simultaneously be of the *float* type. Integer values can be transformed into float values, however, as we will see below. \n",
    "\n",
    "### Boolean\n",
    "\n",
    "The Boolean data type only encodes the logical values *True* and *False*, encodable in bytes as 1 and 0, respectively. The Boolean data type is highly useful in programming. Many operators and functions return Boolean values to indicate whether a statement fulfills a certain condition (e.g., *is x bigger than y?*) "
   ]
  },
  {
   "cell_type": "code",
   "execution_count": 1,
   "id": "1cdf9162",
   "metadata": {},
   "outputs": [
    {
     "name": "stdout",
     "output_type": "stream",
     "text": [
      "<class 'bool'>\n"
     ]
    }
   ],
   "source": [
    "a = False\n",
    "print(type(a))"
   ]
  },
  {
   "cell_type": "code",
   "execution_count": 2,
   "id": "db44472b",
   "metadata": {},
   "outputs": [
    {
     "data": {
      "text/plain": [
       "True"
      ]
     },
     "execution_count": 2,
     "metadata": {},
     "output_type": "execute_result"
    }
   ],
   "source": [
    "3 > 2 #the 'bigger than' operator is an example for an operator return a Boolean value"
   ]
  },
  {
   "cell_type": "markdown",
   "id": "eb635719",
   "metadata": {},
   "source": [
    "**Question**: Why does the following not work? "
   ]
  },
  {
   "cell_type": "code",
   "execution_count": 3,
   "id": "38406fec",
   "metadata": {},
   "outputs": [],
   "source": [
    "false = 1\n",
    "print(a == 1)"
   ]
  },
  {
   "cell_type": "markdown",
   "id": "87813e47",
   "metadata": {},
   "source": [
    "**Capitalization matters!** Just as natural languages have rules on capitalization (e.g. requiring capitalization of nouns in German), Python will only recognize *True* and *False*, with capital T/F as boolean values.   \n",
    "\n",
    "Here, *false* is assumed to refer to a variable named *false*. However, as we haven't defined any such variable, Python returns a name error."
   ]
  },
  {
   "cell_type": "markdown",
   "id": "6151e6f9",
   "metadata": {},
   "source": [
    "### Numbers \n",
    "\n",
    "Values that are numbers can belong to three distinct categories: *integers*, *floating-point numbers*, or *complex* numbers.\n",
    "\n",
    "#### Integer\n",
    "\n",
    "Integer values are **whole numbers**, e.g. -300, 0, 300.  \n",
    "\n",
    "Integer values can be stored in bits. In a 32-bit encoding, integers up to the size of 2.147.483.648 can be respresented.  \n",
    "\n",
    "Binary encoding uses 2's complement. Let's take a look at binary encodings of integers in a 16-bit system:\n",
    "\n",
    "| decimal | 16-bit binary| | | | | | | | | | | | | | | |    \n",
    "| ------ | ------ | ------ |  ------ |------ |------ |------ |------ |------ |------ |------ |------ |------ |------ |------ |------ |------ |  \n",
    "| | 32768 | 16384 | 8192 | 4096 | 2048 | 1024 | 512 | 256 | 128 | 64 | 32 | 16 | $2^3$ = 8 | $2^2$ = 4 | $2^1$ = 2 | $2^0$ = 1|\n",
    "| 0 | 0|0|0|0| 0|0|0|0| 0|0|0|0| 0|0|0|0|  \n",
    "| 10 | 0|0|0|0 |0|0|0|0 |0|0|0|0 |1|0|1|0 |  \n",
    "| 150 | 0|0|0|0| 0|0|0|0| 1|0|0|1| 0|1|1|0| \n",
    "| 32000 | 0|1|1|1| 1|1|0|1| 0|0|0|0| 0|0|0|0| "
   ]
  },
  {
   "cell_type": "code",
   "execution_count": 4,
   "id": "ce7f773b",
   "metadata": {},
   "outputs": [
    {
     "name": "stdout",
     "output_type": "stream",
     "text": [
      "<class 'int'>\n"
     ]
    }
   ],
   "source": [
    "b = 300\n",
    "\n",
    "print(type(b))"
   ]
  },
  {
   "cell_type": "markdown",
   "id": "77af7a14",
   "metadata": {},
   "source": [
    "#### Float\n",
    "\n",
    "Positive and negative numbers with a decimal point are called *floating-point numbers*. Floating-point numbers are expressed by their **sign** (positive/negative), their **mantissa**, and their **exponent to the power of two**.  \n",
    "\n",
    "15.5 = +1.9375 $\\times$ $2^3$  \n",
    "\n",
    "This type of representation allows for efficient encoding and representations of very large numbers in binary form. Let's see how this is achieved:  \n",
    "\n",
    "In a 16-bit encoding, 1 bit is allocated to the sign (0 = positive, 1 = negative), 6 are allocated to the exponent (in binary encoding using 2's complement), and 9 are allocated to the mantissa (in binary encoding using 2's complement with negative exponent).   \n",
    "\n",
    "Since there may be multiple matching mantissa and exponents for representing a number like 15.5, we assume a **normalized mantissa** that always carries a 1 before its decimal point, i.e. *1 $\\leq$ mantissa < 2*. Since it is redundant to encode the 1 and decimal point, they are left out of the encoded form, but can always be understood to be present at the left of the mantissa (see below).  \n",
    "\n",
    "Given *x* = 15.5  \n",
    "\n",
    "1. Determine the sign: positive sign = 0  \n",
    "2. Determine the exponent: find the largest 2<sup>e</sup> $\\leq$ x \n",
    "3. Determine the mantissa: *m* = x / 2<sup>e</sup> with *e* according to step 2.\n",
    "4. Transform to binary encoding:\n",
    "\n",
    "| sign | (pre-decimal) | reduced mantissa | | | | | | | | | exponent | | | | | |\n",
    "| ---- | ---- | ---- | ---- | ---- | ---- | ---- | ---- | ---- | ---- | ---- | ---- | ---- | ---- | ---- | ---- | ---- |\n",
    "| pos. | (1.) | 2<sup>-1</sup> =  $\\frac{1}{2}$ | 2<sup>-2</sup> = $\\frac{1}{4}$ | 2<sup>-3</sup> | 2<sup>-4</sup> | 2<sup>-5</sup> | 2<sup>-6</sup> | 2<sup>-7</sup> | 2<sup>-8</sup> | 2<sup>-9</sup> | 32 | 16 | 8 | 4 | 2 | 1 |\n",
    "| 0 | | 1 | 1 | 1 | 1 | 0 | 0 | 0 | 0 | 0 | 0 | 0 | 0 | 0 | 1 | 1 |  "
   ]
  },
  {
   "cell_type": "code",
   "execution_count": 5,
   "id": "bd619706",
   "metadata": {},
   "outputs": [
    {
     "name": "stdout",
     "output_type": "stream",
     "text": [
      "c is of type <class 'float'>\n"
     ]
    }
   ],
   "source": [
    "c = 15.5\n",
    "\n",
    "print(\"c is of type\",type(c))"
   ]
  },
  {
   "cell_type": "code",
   "execution_count": 6,
   "id": "d5dfd9fe",
   "metadata": {},
   "outputs": [
    {
     "name": "stdout",
     "output_type": "stream",
     "text": [
      "d equals 300.0\n",
      "d is of type <class 'float'>\n"
     ]
    }
   ],
   "source": [
    "#Note that we can transform integer numbers into float numbers and the other way around.\n",
    "\n",
    "#1. We can transform our int variable b into type float as follows:\n",
    "\n",
    "d = float(b)\n",
    "print(\"d equals\",d)\n",
    "print(\"d is of type\",type(d))"
   ]
  },
  {
   "cell_type": "code",
   "execution_count": 7,
   "id": "1d4f035c",
   "metadata": {},
   "outputs": [
    {
     "name": "stdout",
     "output_type": "stream",
     "text": [
      "e equals 15\n",
      "CAREFUL! Note that tranforming floats into integers may change the value of your variable due to the loss of decimals. You will not receive a warning when this happens!\n"
     ]
    }
   ],
   "source": [
    "#2. We can transform our float variable c into an integer as follows:\n",
    "e =int(c)\n",
    "print(\"e equals\",e)\n",
    "print(\"CAREFUL! Note that tranforming floats into integers may change the value of your variable due to the loss of decimals. You will not receive a warning when this happens!\")"
   ]
  },
  {
   "cell_type": "markdown",
   "id": "5f8fb977",
   "metadata": {},
   "source": [
    "#### Complex\n",
    "As you may remember from maths classes, complex numbers employ the specific element *i*, called the imaginary unit, where i<sup>2</sup> = −1; every complex number can be expressed in the form *a + bi*, where a and b are real numbers.  \n",
    "\n",
    "For some reason (feel free to go down the rabbithole on that one...), Python uses *j* instead of *i* to represent the imaginary unit. Complex numbers can thus be written as *x = a + bj*."
   ]
  },
  {
   "cell_type": "code",
   "execution_count": 8,
   "id": "797a67ae",
   "metadata": {},
   "outputs": [
    {
     "name": "stdout",
     "output_type": "stream",
     "text": [
      "f is of type <class 'complex'>\n",
      "(1+2j)\n"
     ]
    }
   ],
   "source": [
    "f = 1 + 2j\n",
    "print(\"f is of type\",type(f))\n",
    "\n",
    "print(f)"
   ]
  },
  {
   "cell_type": "markdown",
   "id": "a96af08e",
   "metadata": {},
   "source": [
    "What happens if we leave out either the real or imaginary part of the numbers? Let's try it out:"
   ]
  },
  {
   "cell_type": "code",
   "execution_count": 9,
   "id": "26536c74",
   "metadata": {},
   "outputs": [
    {
     "name": "stdout",
     "output_type": "stream",
     "text": [
      "g is of type <class 'complex'>\n",
      "2j\n"
     ]
    }
   ],
   "source": [
    "g = 2j\n",
    "print(\"g is of type\",type(g))\n",
    "\n",
    "print(g)"
   ]
  },
  {
   "cell_type": "code",
   "execution_count": 10,
   "id": "1efe328b",
   "metadata": {},
   "outputs": [
    {
     "name": "stdout",
     "output_type": "stream",
     "text": [
      "h is of type <class 'complex'>\n",
      "(1+0j)\n"
     ]
    }
   ],
   "source": [
    "h = 1 + 0j\n",
    "print(\"h is of type\",type(h))\n",
    "\n",
    "print(h)"
   ]
  },
  {
   "cell_type": "markdown",
   "id": "3e5e803c",
   "metadata": {},
   "source": [
    "#### Maths operators\n",
    "\n",
    "We can perform a range of simple mathematical operations on numerical data types, such as subtraction, addition, multiplication, and so on...\n",
    "\n",
    "|Operator |Operation |Example |Evaluates to |\n",
    "|---|---|---|---|\n",
    "| - | Subtraction |5 - 2 | 3 |\n",
    "|+| Addition|2 + 2|4|\n",
    "|\\*|Multiplication|2 \\* 2|4|\n",
    "|/|Division|5 / 2|2.5|\n",
    "|\\*\\*|Exponent|2 ** 3|8|\n",
    "|%|Modulus/remainder|22 % 8|6|\n",
    "|//|Integer division/floored quotient|22 // 8|2|"
   ]
  },
  {
   "cell_type": "markdown",
   "id": "36c3520d",
   "metadata": {},
   "source": [
    "### <span style=\"color:red\">End of lecture 1 (October 25, 2022).</span>\n",
    "\n",
    "### Strings\n",
    "\n",
    "String values are sequences of characters (length $\\geq$ 0). Internally, they are stored as a sequence of letters, each of which has a specific bit encoding. Strings have to obey a number of rules:\n",
    "\n",
    " - must be surrounded by single ( 'string' ) or double quotes ( \"string\" )\n",
    "- only the other type of quotes is allowed inside a string:\n",
    "    - 'I am a \"string\"' is a string\n",
    "    - \"I am a ’string’\" is also a string\n",
    "    - \"I am a \"string\"\" is not a valid string\n",
    "- the backslash has special significance as an escape character, \"some\\time\\ago\" will look different from what you think\n",
    "- to produce an actual backslash, you need to have it twice: \"some\\\\\\time\\\\\\ago\"\n",
    "- Other common escape characters are:\n",
    "    - *\\b* - Backspace         \n",
    "    - *\\r* - Carriage Return                      \n",
    "    - *\\n* - New Line                 \n",
    "    - *\\’* - Single Quote    \n",
    "    - *\\t* - Tab   "
   ]
  },
  {
   "cell_type": "code",
   "execution_count": 11,
   "id": "f4a56065",
   "metadata": {},
   "outputs": [
    {
     "name": "stdout",
     "output_type": "stream",
     "text": [
      "Hello world!\n",
      "<class 'str'>\n"
     ]
    }
   ],
   "source": [
    "i = \"Hello world!\"\n",
    "\n",
    "print(i)\n",
    "print(type(i))"
   ]
  },
  {
   "cell_type": "markdown",
   "id": "812a2646",
   "metadata": {},
   "source": [
    "#### Simple string operations\n",
    "\n",
    "You cannot perform mathematical operations on strings, with two exceptions:\n",
    "\n",
    "1. The *+* operator represents concatenation of strings, not addition. Concatenation means joining two strings by their ends.\n",
    "2. Strings can be replicated by mutiplication with an integer number.\n"
   ]
  },
  {
   "cell_type": "code",
   "execution_count": 12,
   "id": "3efe7921",
   "metadata": {},
   "outputs": [
    {
     "name": "stdout",
     "output_type": "stream",
     "text": [
      "Hello world!\n",
      "Where\n",
      "are\n",
      "you?\n"
     ]
    }
   ],
   "source": [
    "j = \"\\nWhere\\nare\\nyou?\"\n",
    "\n",
    "print(i+j)"
   ]
  },
  {
   "cell_type": "code",
   "execution_count": 13,
   "id": "abe43066",
   "metadata": {},
   "outputs": [
    {
     "name": "stdout",
     "output_type": "stream",
     "text": [
      "\n",
      "Where\n",
      "are\n",
      "you?\n",
      "Where\n",
      "are\n",
      "you?\n"
     ]
    }
   ],
   "source": [
    "print(j*2)"
   ]
  },
  {
   "cell_type": "markdown",
   "id": "ec205d99",
   "metadata": {},
   "source": [
    "There are, however, a number of functions with specific functionalities for string operations.\n",
    "\n",
    "1. *len()* : returns the length of a string in number of characters. *len()* is an example of a **built-in function** which can also be applied to other objects representing sequences"
   ]
  },
  {
   "cell_type": "code",
   "execution_count": 14,
   "id": "f68f868d",
   "metadata": {},
   "outputs": [
    {
     "data": {
      "text/plain": [
       "12"
      ]
     },
     "execution_count": 14,
     "metadata": {},
     "output_type": "execute_result"
    }
   ],
   "source": [
    "len(i)"
   ]
  },
  {
   "cell_type": "markdown",
   "id": "0ea792ab",
   "metadata": {},
   "source": [
    "2. *startswith()* and *endswith()*: tests whether a string starts/ends with a specific string. \n",
    "    - Note that these are **methods** specific to string objects. They are therefore called on the object itself, typed as *str.startswith(\"x\")*.\n",
    "    - They are sensitive to capitalization.\n",
    "    - You can feed a string of arbitrary length into startswith()/endswith(), even the full string whose contents you are testing."
   ]
  },
  {
   "cell_type": "code",
   "execution_count": 15,
   "id": "35f0bca3",
   "metadata": {},
   "outputs": [
    {
     "name": "stdout",
     "output_type": "stream",
     "text": [
      "True\n"
     ]
    }
   ],
   "source": [
    "print(i.startswith(\"He\"))"
   ]
  },
  {
   "cell_type": "code",
   "execution_count": 16,
   "id": "649eeae0",
   "metadata": {},
   "outputs": [
    {
     "name": "stdout",
     "output_type": "stream",
     "text": [
      "False\n"
     ]
    }
   ],
   "source": [
    "print(i.startswith(\"he\"))"
   ]
  },
  {
   "cell_type": "code",
   "execution_count": 17,
   "id": "4caa36b1",
   "metadata": {},
   "outputs": [
    {
     "name": "stdout",
     "output_type": "stream",
     "text": [
      "False\n"
     ]
    }
   ],
   "source": [
    "print(j.endswith(\"!\"))"
   ]
  },
  {
   "cell_type": "code",
   "execution_count": 18,
   "id": "39fc4036",
   "metadata": {},
   "outputs": [
    {
     "name": "stdout",
     "output_type": "stream",
     "text": [
      "True\n"
     ]
    }
   ],
   "source": [
    "print(j.endswith(j))"
   ]
  },
  {
   "cell_type": "markdown",
   "id": "fb09eefa",
   "metadata": {},
   "source": [
    "3. *in* and *index*: *in* is an operator that asks whether an object is contained in a sequence, whereas *index()* is a method that returns the position of that object in a sequence\n",
    "    - *in* will only return True or False, but will not tell you how many times an object is contained within the sequence\n",
    "    - *index()* starts counting at 0"
   ]
  },
  {
   "cell_type": "code",
   "execution_count": 19,
   "id": "31c94554",
   "metadata": {},
   "outputs": [
    {
     "name": "stdout",
     "output_type": "stream",
     "text": [
      "True\n"
     ]
    }
   ],
   "source": [
    "print(\"mäh\" in \"Rasenmäher\")"
   ]
  },
  {
   "cell_type": "code",
   "execution_count": 20,
   "id": "06e63736",
   "metadata": {},
   "outputs": [
    {
     "name": "stdout",
     "output_type": "stream",
     "text": [
      "5\n"
     ]
    }
   ],
   "source": [
    "print(\"Rasenmäher\".index(\"mäh\"))"
   ]
  },
  {
   "cell_type": "markdown",
   "id": "f6ce43f8",
   "metadata": {},
   "source": [
    "4. *lower()* and *upper()*: methods than return lower- or uppercase copies of the strings they operate on"
   ]
  },
  {
   "cell_type": "code",
   "execution_count": 21,
   "id": "94fbec55",
   "metadata": {},
   "outputs": [
    {
     "name": "stdout",
     "output_type": "stream",
     "text": [
      "hello world!\n"
     ]
    }
   ],
   "source": [
    "print(i.lower())"
   ]
  },
  {
   "cell_type": "code",
   "execution_count": 22,
   "id": "f390d86c",
   "metadata": {},
   "outputs": [
    {
     "name": "stdout",
     "output_type": "stream",
     "text": [
      "\n",
      "WHERE\n",
      "ARE\n",
      "YOU?\n"
     ]
    }
   ],
   "source": [
    "print(j.upper())"
   ]
  },
  {
   "cell_type": "markdown",
   "id": "758e6fbd",
   "metadata": {},
   "source": [
    "5. *replace()*: method that replaces all instances of the first type with instances of the second\n",
    "   - an optional third argument can limit how many instances of the first type should be replaced"
   ]
  },
  {
   "cell_type": "code",
   "execution_count": 23,
   "id": "f0cd23d7",
   "metadata": {},
   "outputs": [
    {
     "name": "stdout",
     "output_type": "stream",
     "text": [
      "Far out in the uncharted backwaters of the unfashionable end of the western spiral arm of the Galaxy lies a small unregarded yellow sun.\n"
     ]
    }
   ],
   "source": [
    "k = \"Far out in the uncharted backwaters of the unfashionable end of the western spiral arm of the Galaxy lies a small unregarded yellow sun.\"\n",
    "\n",
    "print(k)"
   ]
  },
  {
   "cell_type": "code",
   "execution_count": 24,
   "id": "225fb828",
   "metadata": {},
   "outputs": [
    {
     "name": "stdout",
     "output_type": "stream",
     "text": [
      "Far_out_in_the_uncharted_backwaters_of_the_unfashionable_end_of_the_western_spiral_arm_of_the_Galaxy_lies_a_small_unregarded_yellow_sun.\n"
     ]
    }
   ],
   "source": [
    "print(k.replace(\" \",\"_\"))"
   ]
  },
  {
   "cell_type": "code",
   "execution_count": 25,
   "id": "1bf2d967",
   "metadata": {},
   "outputs": [
    {
     "name": "stdout",
     "output_type": "stream",
     "text": [
      "FAAAr out in the unchAAArted backwaters of the unfashionable end of the western spiral arm of the Galaxy lies a small unregarded yellow sun.\n"
     ]
    }
   ],
   "source": [
    "print(k.replace(\"a\",\"AAA\",2))"
   ]
  },
  {
   "cell_type": "markdown",
   "id": "49c6e53f",
   "metadata": {},
   "source": [
    "6. Slicing: To return just part of a string, you can indicate *which* part by way of its numerical indices\n",
    "    - *str[start : end]* will return a copy of the string starting with the character at *start* and ending with the character at *end*, where *start* and *end* are integer indices, respectively\n",
    "    - *str[start : ]* will return a copy of the string starting with the character at *start* \n",
    "    - *str[ : end]* will return a copy of the string ending with the character at *end*  \n",
    "    - a position *-x* will be interpreted as *len(string)-s*\n",
    "    - providing a third number *k* will return every *k*th letter: *str[start : end : k]*"
   ]
  },
  {
   "cell_type": "code",
   "execution_count": 26,
   "id": "18f808a3",
   "metadata": {},
   "outputs": [
    {
     "name": "stdout",
     "output_type": "stream",
     "text": [
      "Far out\n"
     ]
    }
   ],
   "source": [
    "print(k[0:7]) #returns letters 0-7"
   ]
  },
  {
   "cell_type": "code",
   "execution_count": 27,
   "id": "15172b26",
   "metadata": {},
   "outputs": [
    {
     "name": "stdout",
     "output_type": "stream",
     "text": [
      "Far out\n"
     ]
    }
   ],
   "source": [
    "print(k[:7]) #returns letters 0-7"
   ]
  },
  {
   "cell_type": "code",
   "execution_count": 28,
   "id": "7674febf",
   "metadata": {},
   "outputs": [
    {
     "name": "stdout",
     "output_type": "stream",
     "text": [
      "fashionable end of the western spiral arm of the Galaxy lies a small unregarded yellow sun.\n"
     ]
    }
   ],
   "source": [
    "print(k[45:]) #returns all letters from the 45th letter to the end of the string"
   ]
  },
  {
   "cell_type": "code",
   "execution_count": 29,
   "id": "34eee603",
   "metadata": {},
   "outputs": [
    {
     "name": "stdout",
     "output_type": "stream",
     "text": [
      "Fu urba hfoe hs amta  anryw.\n"
     ]
    }
   ],
   "source": [
    "print(k[::5]) #returns every 5th letter"
   ]
  },
  {
   "cell_type": "code",
   "execution_count": 30,
   "id": "79f6543e",
   "metadata": {},
   "outputs": [
    {
     "name": "stdout",
     "output_type": "stream",
     "text": [
      "rba hfoe hs amta  an\n"
     ]
    }
   ],
   "source": [
    "print(k[+20:-20:5]) #returns every 5th letter, starting 20 letters after the start of the string and ending 20 letters before its end"
   ]
  },
  {
   "cell_type": "markdown",
   "id": "1ed315cf",
   "metadata": {},
   "source": [
    "#### Summary table\n",
    "\n",
    "|Operator |Operation |Example |\n",
    "|---|---|---|\n",
    "|+| Append|\"a \"+ \"ball\" = \"a ball\"|\n",
    "|\\*|Replication|\"a\" * 3 = \"aaa\" |\n",
    "| len(str) | Length |len(\"ball\") = 4 | \n",
    "|str.startswith(str)/str.endswith(str)|Checking start and end of string|\"ball\".startswith(\"b\") = True |\n",
    "| str in str|Checking containment in string|\"a\" in \"ball\" = True |\n",
    "|str.index(str)|Checking position of string in string|\"ball\".index(\"a\") = 1 |\n",
    "|str.upper()/str.lower()|Return lower- or uppercase copy of string|\"ball\".upper() = \"BALL\"|\n",
    "|str.replace(str,str,int)|Replace number of instances of the first string with instances of the second| \"ball\".replace(\"l\",\"i\",1) = \"bail\"|"
   ]
  },
  {
   "cell_type": "markdown",
   "id": "2ccf5365",
   "metadata": {},
   "source": [
    "## Data types that we will cover in later sessions\n",
    "\n",
    "### Sequences\n",
    "List, Tuple, Range\n",
    "\n",
    "### Mappings\n",
    "Dictionary, Set"
   ]
  },
  {
   "cell_type": "markdown",
   "id": "bed25efa",
   "metadata": {},
   "source": [
    "## Variables and assignment\n",
    "Creating and modifying variables is one of the essential aspects to programming. **Variables** are names that **refer to values**. Variables are created upon their first assignment through an **assignment operator** (*=*). Attempting to evaluate a variable that has not yet been assigned will result in an error.  \n",
    "\n",
    "Rules and conventions:\n",
    "- Important variables should get meaningful names (e.g., city = \"Tübingen\").\n",
    "- Throwaway/Temporary variables get single-letter names (e.g., a, b, i, j, ...). \n",
    "- Variable names must start with a letter and can contain only letters, numbers, and underscores. Although they can start with an uppercase letter, it is convention to use lowercase variable names."
   ]
  },
  {
   "cell_type": "code",
   "execution_count": 31,
   "id": "510856e4",
   "metadata": {},
   "outputs": [
    {
     "ename": "NameError",
     "evalue": "name 'o' is not defined",
     "output_type": "error",
     "traceback": [
      "\u001b[1;31m---------------------------------------------------------------------------\u001b[0m",
      "\u001b[1;31mNameError\u001b[0m                                 Traceback (most recent call last)",
      "\u001b[1;32m~\\AppData\\Local\\Temp\\ipykernel_5632\\3018096921.py\u001b[0m in \u001b[0;36m<module>\u001b[1;34m\u001b[0m\n\u001b[0;32m      3\u001b[0m \u001b[0mn\u001b[0m \u001b[1;33m=\u001b[0m \u001b[1;32mFalse\u001b[0m\u001b[1;33m\u001b[0m\u001b[1;33m\u001b[0m\u001b[0m\n\u001b[0;32m      4\u001b[0m \u001b[1;33m\u001b[0m\u001b[0m\n\u001b[1;32m----> 5\u001b[1;33m \u001b[0mprint\u001b[0m\u001b[1;33m(\u001b[0m\u001b[0mo\u001b[0m\u001b[1;33m)\u001b[0m\u001b[1;33m\u001b[0m\u001b[1;33m\u001b[0m\u001b[0m\n\u001b[0m",
      "\u001b[1;31mNameError\u001b[0m: name 'o' is not defined"
     ]
    }
   ],
   "source": [
    "l = \"a\"\n",
    "m = 2\n",
    "n = False\n",
    "\n",
    "print(o)"
   ]
  },
  {
   "cell_type": "markdown",
   "id": "b03ed260",
   "metadata": {},
   "source": [
    "#### Variable assignment\n",
    "\n",
    "Note that the assignment operator (*=*) is not the same as the equality operator known from maths! The **assignment statement binds a name**, on the left-hand side of the operator, **to a value**, on the right-hand side. To evaluate whether two sides of an equation, or alternatively two variables, are identical in their expressed value, use the *==* operator.  \n",
    "\n",
    "The following example illustrates:"
   ]
  },
  {
   "cell_type": "code",
   "execution_count": 32,
   "id": "a4f6cd68",
   "metadata": {},
   "outputs": [],
   "source": [
    "o = 17"
   ]
  },
  {
   "cell_type": "code",
   "execution_count": 33,
   "id": "603f9e34",
   "metadata": {},
   "outputs": [
    {
     "ename": "SyntaxError",
     "evalue": "cannot assign to literal (2853922412.py, line 1)",
     "output_type": "error",
     "traceback": [
      "\u001b[1;36m  File \u001b[1;32m\"C:\\Users\\julia\\AppData\\Local\\Temp\\ipykernel_5632\\2853922412.py\"\u001b[1;36m, line \u001b[1;32m1\u001b[0m\n\u001b[1;33m    17 = o\u001b[0m\n\u001b[1;37m    ^\u001b[0m\n\u001b[1;31mSyntaxError\u001b[0m\u001b[1;31m:\u001b[0m cannot assign to literal\n"
     ]
    }
   ],
   "source": [
    "17 = o"
   ]
  },
  {
   "cell_type": "code",
   "execution_count": 34,
   "id": "5fbb2e65",
   "metadata": {},
   "outputs": [
    {
     "data": {
      "text/plain": [
       "True"
      ]
     },
     "execution_count": 34,
     "metadata": {},
     "output_type": "execute_result"
    }
   ],
   "source": [
    "17 == o"
   ]
  },
  {
   "cell_type": "markdown",
   "id": "f4269e47",
   "metadata": {},
   "source": [
    "Once you assign a new value to a variable, you lose (access to) its previous value. It is **often wise to create temporary copies of important variables**, which you can modify without losing knowledge of the original variable's value."
   ]
  },
  {
   "cell_type": "code",
   "execution_count": 35,
   "id": "54b51278",
   "metadata": {},
   "outputs": [
    {
     "name": "stdout",
     "output_type": "stream",
     "text": [
      "18\n"
     ]
    }
   ],
   "source": [
    "o = o + 1\n",
    "\n",
    "print(o)"
   ]
  },
  {
   "cell_type": "markdown",
   "id": "6bdbbf1a",
   "metadata": {},
   "source": [
    "**Shorthand notation** for changing variable values:\n",
    "\n",
    "- *a += b* increases the value of a by the value of b\n",
    "- analogously, *a -= b*, *a *= b*,*a /= b*\n",
    "- remember that + and * also have functionality for strings!"
   ]
  },
  {
   "cell_type": "code",
   "execution_count": 36,
   "id": "697d0791",
   "metadata": {},
   "outputs": [
    {
     "name": "stdout",
     "output_type": "stream",
     "text": [
      "19\n"
     ]
    }
   ],
   "source": [
    "o += 1\n",
    "\n",
    "print(o)"
   ]
  },
  {
   "cell_type": "code",
   "execution_count": 37,
   "id": "bf8f3cc1",
   "metadata": {},
   "outputs": [
    {
     "name": "stdout",
     "output_type": "stream",
     "text": [
      "Linguistics in Tübingen\n"
     ]
    }
   ],
   "source": [
    "study_program = \"Linguistics\"\n",
    "city = \"Tübingen\"\n",
    "study_program += \" in \" + city\n",
    "\n",
    "print(study_program)"
   ]
  },
  {
   "cell_type": "markdown",
   "id": "b3a92a5f",
   "metadata": {},
   "source": [
    "Some variable names are **illegal**. This is because Python uses a set of **keywords** with special functionality (you have already seen some of them earlier:*True*, *False*, *in*). These keywords define that language's syntax and structure; therefore they can't be used as variable names.\n",
    "\n",
    "|Examples |of | keywords | |||\n",
    "|---|---|---|---|---|---|\n",
    "|and |\tas |\tassert |\tbreak| \tclass| \tcontinue|\n",
    "|def |\tdel |\telif |\telse |\texcept |\texec|\n",
    "|finally | \tfor| \tfrom  |\tglobal |\tif | \timport|\n",
    "|in |\tis \t|lambda |\tnonlocal | \tnot |\tor|\n",
    "|pass |\traise |\treturn |\ttry \t| while | \twith|\n",
    "|yield |\tTrue |\tFalse |\tNone|||"
   ]
  },
  {
   "cell_type": "markdown",
   "id": "15d581b8",
   "metadata": {},
   "source": [
    "### Expressions vs. statements\n",
    "\n",
    "A basic distinction to be aware of when programming is whether you are working on an **(evaluating) expression** or a **statement**.  \n",
    "\n",
    "**Expressions** are pieces of code that **evaluate to an object** and do nothing else but to perform this evaluation. They can be (any combination of) values, variables, operators, and calls to functions. Typing expressions into the command prompt will cause Python to evaluate it and return its result."
   ]
  },
  {
   "cell_type": "code",
   "execution_count": 38,
   "id": "cd16176d",
   "metadata": {},
   "outputs": [
    {
     "data": {
      "text/plain": [
       "117"
      ]
     },
     "execution_count": 38,
     "metadata": {},
     "output_type": "execute_result"
    }
   ],
   "source": [
    "(20 + o) * 3"
   ]
  },
  {
   "cell_type": "markdown",
   "id": "41e425e7",
   "metadata": {},
   "source": [
    "While expressions ARE something, statements DO something. **Statements are instructions** for Python to execute. Examples that we have already encountered include variable assignments and the *print()* function. We will see other examples in later sessions. Typing statements into the command prompt will cause Python to execute that statement. This will not result in the display of results."
   ]
  },
  {
   "cell_type": "code",
   "execution_count": 39,
   "id": "2523e351",
   "metadata": {},
   "outputs": [],
   "source": [
    "p = \"I am a statement\" #no output from executing this line"
   ]
  },
  {
   "cell_type": "markdown",
   "id": "e5320223",
   "metadata": {},
   "source": [
    "### Comparison operators\n",
    "As we've seen, equality can be checked with the built-in *==* operator. This is not the only **comparison operator**:\n",
    "\n",
    "|Operator |Operation |Example |\n",
    "|---|---|---|\n",
    "|==| equality| 3 == 2 + 1 (**True**)|\n",
    "|!=|inequality|3 != 1 (**True**)|\n",
    "| < / > | strictly smaller/bigger than | 1 < 2 (**True**) | \n",
    "| <= / >= | smaller/bigger than or equal to |1 <= 1 (**True**) | \n",
    "| is | identity (in terms of memory location)| a = 3; b = 3; a **is** b (**True**) | \n",
    "\n",
    "\n",
    "**Question for practice**: How do you think these operators will behave if we use them to compare string or boolean variables? What if we compare two variables of different data types? Try it out!\n",
    "\n"
   ]
  }
 ],
 "metadata": {
  "kernelspec": {
   "display_name": "Python 3 (ipykernel)",
   "language": "python",
   "name": "python3"
  },
  "language_info": {
   "codemirror_mode": {
    "name": "ipython",
    "version": 3
   },
   "file_extension": ".py",
   "mimetype": "text/x-python",
   "name": "python",
   "nbconvert_exporter": "python",
   "pygments_lexer": "ipython3",
   "version": "3.9.12"
  }
 },
 "nbformat": 4,
 "nbformat_minor": 5
}
