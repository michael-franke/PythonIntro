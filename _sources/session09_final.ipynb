{
 "cells": [
  {
   "cell_type": "markdown",
   "id": "6e617fd4",
   "metadata": {},
   "source": [
    "## Recursion and trees (January 24, 2023)\n",
    "\n",
    "It is time to turn everything on its head and introduce recursion into the game. **Recursion** occurs when we **define something in terms of itself or something else of its type**. For instance, we may define a file directory as a location on the computer that contains files *and (possibly) other directories*. \n",
    "\n",
    "Recursion is **useful for problems that can be represented as a series of subproblems of the same type**. To stay with the previous example, the problem of searching for a file, for instance, can be formulated recursively as follows (in pseudocode):\n",
    "\n",
    "        def search(directory):\n",
    "            if file in directory:\n",
    "                return(directory)\n",
    "            for subdirectory in directory:\n",
    "                    if search(subdirectory) != None:\n",
    "                        return search(subdirectory)\n",
    "            return None\n",
    "\n",
    "Note that we are **calling the function *search()*** within the body of the *search()* function, and are **doing so on a smaller problem space** (i.e., a subdirectory of our main directory). \n",
    "\n",
    "Successful recursion, that is, recursion that terminates at some point, requires that we define both a **base case** and a **recursive case**. In the example above, the base case is such that either (a) we find the *file* in the current directory or (b) there is no further subdirectory to search and the file does not exist. The recursive case is entered with a *for*-loop over all subdirectories, which calls on the search function again and returns the subdirectory in which the file is located.\n",
    "\n",
    "**Thus, keep the following in mind when defining recursive functions:**\n",
    "- if the function calls itself on every input, we get infinite recursion\n",
    "- in all useful recursive functions, each nested call differs in its arguments (e.g. execution on subproblems)\n",
    "- for recursive functions to terminate, we need base cases!"
   ]
  },
  {
   "cell_type": "code",
   "execution_count": 2,
   "id": "d81f05f8",
   "metadata": {},
   "outputs": [
    {
     "name": "stdout",
     "output_type": "stream",
     "text": [
      "[1, 5]\n"
     ]
    }
   ],
   "source": [
    "#another example by the same principle as the file search algorithm in pseudocode above\n",
    "def search(example):\n",
    "    list_of_lists = [x for x in example if type(x)==list]\n",
    "    if 1 in example:\n",
    "        return example\n",
    "    for i in list_of_lists:\n",
    "        if search(i) != None:\n",
    "            return search(i)\n",
    "    return None\n",
    "        \n",
    "print(search([2,[2,3,[1,5],4],[4,2]]))"
   ]
  },
  {
   "cell_type": "markdown",
   "id": "4c6f88e2",
   "metadata": {},
   "source": [
    "### Recursion in logic and mathematics\n",
    "\n",
    "Recursive definitions are very common in logic and mathematics. **In particular, all inductive proofs are recursive**:\n",
    "\n",
    "In induction, you prove that a theorem holds e.g. for *n = 0* (the base case), and that, under the assumption that the statement holds for any given case *n = k*, it also hold for the next case *n = k + 1* (recursive case). This proves that the theorem must hold for any natural number.\n",
    "\n",
    "**Many definitions in logic are recursive. We have already seen an example within this class**. In a previous ression, **regular languages** were characterized as follows: \n",
    "\n",
    "**Given a finite alphabet Σ** (e.g., a collection of characters),...\n",
    "\n",
    "- the empty language Ø is a regular language. **(base case)**\n",
    "- for each a ∈ Σ, the singleton language {a} is a regular language. **(base case)**\n",
    "- If A is a regular language, A&ast; (Kleene star, more below) is a regular language. That means the empty string language {ε} is also regular. **(recursive case)**\n",
    "- If A and B are regular languages, then A ∪ B (union)** and A • B (concatenation) are regular languages. **(recursive case)**\n",
    "- No other languages over Σ are regular."
   ]
  },
  {
   "cell_type": "markdown",
   "id": "28ef039f",
   "metadata": {},
   "source": [
    "### Recursion vs. iteration in programming\n",
    "\n",
    "In principle, **recursion and iteration are equally powerful (meaning that one can be used to emulate the other)**. Some algorithms are **easier to write** iteratively, others are easier using recursion. In addition, recursive and iterative solutions to a problem can **differ in efficiency** (in terms of memory usage and completion time).\n",
    "\n",
    "**Iteration --> Recursion**: Note that all loops can be implemented using recursion! In the following, we replace a *for*-loop with a recursive function."
   ]
  },
  {
   "cell_type": "code",
   "execution_count": 3,
   "id": "54de882b",
   "metadata": {},
   "outputs": [
    {
     "name": "stdout",
     "output_type": "stream",
     "text": [
      "2\n",
      "[2, 3, [1, 5], 4]\n",
      "[4, 2]\n"
     ]
    }
   ],
   "source": [
    "example2 = [2,[2,3,[1,5],4],[4,2]]\n",
    "\n",
    "#iterative solution to print each element in list\n",
    "for i in example2:\n",
    "    print(i)"
   ]
  },
  {
   "cell_type": "code",
   "execution_count": 4,
   "id": "13244f39",
   "metadata": {},
   "outputs": [
    {
     "name": "stdout",
     "output_type": "stream",
     "text": [
      "2\n",
      "[2, 3, [1, 5], 4]\n",
      "[4, 2]\n"
     ]
    }
   ],
   "source": [
    "#recursive solution to print each element in list\n",
    "def recursive_print(example2,i):\n",
    "    if i < len(example2):\n",
    "        print(example2[i])\n",
    "        recursive_print(example2,i+1)\n",
    "\n",
    "recursive_print(example2,0)"
   ]
  },
  {
   "cell_type": "markdown",
   "id": "90d36c16",
   "metadata": {},
   "source": [
    "**Recursion --> Iteration**: At the same time, every recursive function can be implemented using iteration! Our search function from above could be rewritten as follows."
   ]
  },
  {
   "cell_type": "code",
   "execution_count": 13,
   "id": "5d1c0db1",
   "metadata": {},
   "outputs": [
    {
     "name": "stdout",
     "output_type": "stream",
     "text": [
      "[1, 5]\n"
     ]
    }
   ],
   "source": [
    "#another example by the same principle as the file search algorithm in pseudocode above\n",
    "example3 = [2,[2,3,[1,5],4],[4,2]]\n",
    "\n",
    "for i in example3:\n",
    "    if i == 1:\n",
    "        print(example3)\n",
    "    elif type(i) == list:\n",
    "         for j in i:\n",
    "            if j == 1:\n",
    "                print(i)\n",
    "            elif type(j) == list:\n",
    "                for k in j:\n",
    "                    if k == 1:\n",
    "                        print(j) "
   ]
  },
  {
   "cell_type": "markdown",
   "id": "d075f0db",
   "metadata": {},
   "source": [
    "Recursive definitions are often easier to write for processing data structures which contain substructures of varying size (i.e. data that is not tabular in shape). \n",
    "\n",
    "**Examples**:\n",
    "- processing syntax trees for programming languages (in a compiler) and natural languages (in a parser)\n",
    "- processing more general graph structures like networks\n",
    "- sorting and searching in structures that are more complex than lists or dictionaries (e.g. 3-D models)"
   ]
  },
  {
   "cell_type": "markdown",
   "id": "eb232492",
   "metadata": {},
   "source": [
    "### In-class exercise: Fibonacci numbers\n",
    "\n",
    "The following is the Fibonacci sequence, a sequence of numbers starting at *F<sub>0</sub> = 0* and *F<sub>1</sub> = 1*, in which each number is the sum of the previous two numbers.\n",
    "\n",
    "    0, 1, 1, 2, 3, 5, 8, 13, 21, 34, 55, 89, 144, ...\n",
    "    \n",
    "To determine the *n*-th Fibonacci number in the sequence, we can write a simple recursive program:"
   ]
  },
  {
   "cell_type": "code",
   "execution_count": 79,
   "id": "bfc5cbda",
   "metadata": {},
   "outputs": [
    {
     "name": "stdout",
     "output_type": "stream",
     "text": [
      "None\n"
     ]
    }
   ],
   "source": [
    "#in-class exercise\n",
    "def fib(n):\n",
    "    pass\n",
    "\n",
    "print(fib(15))"
   ]
  },
  {
   "cell_type": "markdown",
   "id": "018bb7d6",
   "metadata": {},
   "source": [
    "### Visualizing recursion with the *Turtle* module \n",
    "\n",
    "A useful **tool to train your recursive thinking is to use a graphical interface** on which you can draw recursive structures. Just googling for *recursive fractals* should give you some inspiration.\n",
    "\n",
    "In the following, we will **draw a tree structure in which every branch splits up into two smaller branches (recursion) unless it has leaves at its end (base case)**. We use the *Turtle* module (https://docs.python.org/3/library/turtle.html) to draw this figure, a module that provides a basic graphical interface in which we control the movements of a \"turtle\" (the cursor). The module has methods like *left(angle)*, *right(angle)*, *forward(length)*, *backward(length)* determining the movement of the turtle, and methods like *color(color_string)* or *pensize(int)* determining its visual properties."
   ]
  },
  {
   "cell_type": "code",
   "execution_count": null,
   "id": "60c5d166",
   "metadata": {},
   "outputs": [],
   "source": [
    "import turtle #import turtle module, a graphical interface to draw shapes; opens in separate window\n",
    "\n",
    "turtle.speed(1000) #set speed of animation\n",
    "turtle.setheading(90) #set initial orientation of the turtle as looking straight up\n",
    "\n",
    "def draw_branch(len): #recursive function to draw a tree\n",
    "    if (len > 5):\n",
    "        turtle.color(\"brown\") #draw branches in brown\n",
    "        turtle.forward(len)\n",
    "        turtle.right(25)\n",
    "        draw_branch(len - 5) #recursive function call\n",
    "        turtle.left(50)\n",
    "        draw_branch(len - 5) #recursive function call\n",
    "        turtle.right(25)\n",
    "        turtle.backward(len)\n",
    "    else:\n",
    "        turtle.color(\"green\") #draw leaves in green\n",
    "        turtle.begin_fill()\n",
    "        turtle.circle(5)\n",
    "        turtle.end_fill()\n",
    "        turtle.color(\"brown\") #reset color to brown\n",
    "        \n",
    "draw_branch(35)"
   ]
  },
  {
   "cell_type": "code",
   "execution_count": 10,
   "id": "69f7d52a",
   "metadata": {},
   "outputs": [],
   "source": [
    "turtle.bye() #close Turtle window"
   ]
  },
  {
   "cell_type": "markdown",
   "id": "05e2cf1a",
   "metadata": {},
   "source": [
    "**The output looks like this:**\n",
    "\n",
    "![](https://www.dropbox.com/s/rq7gdv0w4w1alhp/turtle_tree.png?raw=1)\n"
   ]
  },
  {
   "cell_type": "markdown",
   "id": "1c97a5b0",
   "metadata": {},
   "source": [
    "### Trees + tree traversal\n",
    "\n",
    "Speaking of trees, trees are not only ubiquitous in linguistics, they are also one of the most important data structures in computer science.\n",
    "\n",
    "|**Trees in linguistics**|**Tree structures in computer science**|\n",
    "|---|---|\n",
    "| syllable structure trees |directory structure on file systems|\n",
    "| word structure trees | \"call trees\" during program execution|\n",
    "| phrase structure trees | dependencies between software packages|\n",
    "| dependency trees | |\n",
    "| derivation trees ||\n",
    "| formula structure trees ||\n",
    "\n",
    "Trees are a useful way to maintain sorted records and **allow for efficient data retrieval and insertion**. We will see that they can be searched (\"traversed\") and expanded quite easily. \n",
    "\n",
    "#### Implementing a tree structure\n",
    "\n",
    "The tree isn't a built-in data type in Python, but we can easily define our own data type, the Tree, as a user-defined class. We would like our Tree to have *nodes* and *leaves*, such that nodes are branching points with labels and leaves are endpoints (i.e., nodes that do not have any children). \n",
    "\n",
    "For all trees, it holds that:\n",
    "- nodes have a label, which we will store as instance variable\n",
    "- nodes have children which we will store as instance variable containing a list of (sub)trees (in which order matters!)\n",
    "- leaves do not have children. We will model this as an empty list of children []\n",
    "- every node can thus be thought of as root node of its (sub)tree\n",
    "\n",
    "![](https://www.dropbox.com/s/4a6s9i6etks8ryt/tree_example.png?raw=1)"
   ]
  },
  {
   "cell_type": "code",
   "execution_count": null,
   "id": "abc25fb3",
   "metadata": {},
   "outputs": [],
   "source": [
    "class Tree(object):\n",
    "    def __init__(self , name='root ', children=None):\n",
    "        self.name = name\n",
    "        self.children = []\n",
    "        self.parent = None\n",
    "        if children is not None:\n",
    "            for child in children:\n",
    "                self.add_child(child)\n",
    "                child.parent = self\n",
    "\n",
    "    def add_child(self , node):\n",
    "        assert isinstance(node , Tree)\n",
    "        self.children.append(node)"
   ]
  },
  {
   "cell_type": "code",
   "execution_count": 52,
   "id": "19e984cd",
   "metadata": {},
   "outputs": [],
   "source": [
    "#this creates a tree like the one shown above\n",
    "first_tree = Tree(\"A\", children = [Tree(\"B\"), Tree(\"C\", children = [Tree(\"D\", children = [Tree(\"F\"), Tree(\"G\"), Tree(\"H\")]),Tree(\"E\")])])"
   ]
  },
  {
   "cell_type": "code",
   "execution_count": 55,
   "id": "3b8b994d",
   "metadata": {},
   "outputs": [
    {
     "data": {
      "text/plain": [
       "'I'"
      ]
     },
     "execution_count": 55,
     "metadata": {},
     "output_type": "execute_result"
    }
   ],
   "source": [
    "#We can easily retrieve subtrees and add new new nodes at their ends:\n",
    "first_tree.children[1].children[1].add_child(Tree(\"I\"))\n",
    "\n",
    "first_tree.children[1].children[1].children[0].name"
   ]
  }
 ],
 "metadata": {
  "kernelspec": {
   "display_name": "Python 3 (ipykernel)",
   "language": "python",
   "name": "python3"
  },
  "language_info": {
   "codemirror_mode": {
    "name": "ipython",
    "version": 3
   },
   "file_extension": ".py",
   "mimetype": "text/x-python",
   "name": "python",
   "nbconvert_exporter": "python",
   "pygments_lexer": "ipython3",
   "version": "3.9.12"
  }
 },
 "nbformat": 4,
 "nbformat_minor": 5
}
