{
 "cells": [
  {
   "cell_type": "markdown",
   "id": "dae29430",
   "metadata": {},
   "source": [
    "## Classes \n",
    "\n",
    "\n",
    "In previous sessions, we learned about various different data types (e.g., integers, strings, lists, tuples, dictionaries...) along with their methods (e.g., *str.split()*, *list.sort()*,...), **but what if we could define our own?**\n",
    "\n",
    "With **classes**, you can write user-defined data types. This is a form of what's called **object-oriented programming**. Instead of writing procedures / algorithms to solve a task, we are now writing code to define objects (of course these may subsequently be used in *procedural programming tasks*). \n",
    "\n",
    "### The basics\n",
    "\n",
    "- **A class specifies** the **format** of instances of that class (in terms of data structure) and what **procedures** are available for them (in terms of user-defined methods). \n",
    "- Instances of a class are called objects (just like there are integer objects, list objects, etc.)\n",
    "\n",
    "**You may think of the definition of a class as the definition of a concept**. As in real life, **concepts/classes are defined by their essential properties, specified in terms of more basis concepts**: \n",
    "\n",
    "- e.g., a *rectangle* may be defined as a quadrilateral with right angles, *angles* may be defined as the figure formed by two rays sharing a common endpoint, *rays* may be defined as [...], and so forth). \n",
    "- **In Python**, that means that you can **use any of the in-built basic data types to define objects of your own class**, or may even define several classes (e.g., Rectangle and Angle), one of which inherits properties of the other (e.g. Rectangle inheriting properties of the Angle class).\n",
    "\n",
    "**Methods of a class can be thought of as definitions of the way in which instances of that concept / class interact with the world**:\n",
    "- e.g., a rectangle can be enlarged or shrunk by adding / removing the same amount of length to its opposing sides, two rectangles may be conjoined if they align on one of their dimensions, etc.\n",
    "- **In Python, methods of a class are specified in terms of functions that take an instance of that class as argument**."
   ]
  },
  {
   "cell_type": "markdown",
   "id": "c144bc08",
   "metadata": {},
   "source": [
    "### Defining a class in Python\n",
    "\n",
    "- Class names start with a capital letter.\n",
    "- Classes usually start with an \\_\\_init\\_\\_ constructor (more on this below).\n",
    "- The *self* parameter is automatically set to refer to an object of the data type you are defining. In the code below, it is a variable refering to an instance of *YourClass* and functions like any other variable inside the class definition."
   ]
  },
  {
   "cell_type": "code",
   "execution_count": 2,
   "id": "3dd97866",
   "metadata": {},
   "outputs": [],
   "source": [
    "class YourClass:\n",
    "    def __init__(self):\n",
    "        self.variable1 = 1\n",
    "        self.variable2 = 2\n",
    "           \n",
    "    def method1(self):\n",
    "        #some method\n",
    "        pass\n",
    "           \n",
    "    def method2(self):\n",
    "        #some other method\n",
    "        pass"
   ]
  },
  {
   "cell_type": "markdown",
   "id": "3eb1a9c6",
   "metadata": {},
   "source": [
    "#### The initialization method\n",
    "\n",
    "The *\\_\\_init\\_\\_(self)* method (also called the *class constructor*) is automatically called whenever you create an instance of the class. **In it, you should specify the basic properties of all instances of that class.** For instance, in the code above, it initializes all objects of the *YourClass* class as having two properties, *variable1* and *variable2*, which have the values *1* and *2*, respectively. "
   ]
  },
  {
   "cell_type": "code",
   "execution_count": 3,
   "id": "1716375a",
   "metadata": {},
   "outputs": [
    {
     "name": "stdout",
     "output_type": "stream",
     "text": [
      "<__main__.YourClass object at 0x000002891316E310>\n"
     ]
    }
   ],
   "source": [
    "example = YourClass() #create an instance of the YourClass class  \n",
    "print(example) #printing an object of that class just prints information about the type of object it is"
   ]
  },
  {
   "cell_type": "code",
   "execution_count": 4,
   "id": "25253144",
   "metadata": {},
   "outputs": [
    {
     "name": "stdout",
     "output_type": "stream",
     "text": [
      "1\n",
      "2\n"
     ]
    }
   ],
   "source": [
    "print(example.variable1) #after initialization, this object has the properties we specified above\n",
    "print(example.variable2)"
   ]
  },
  {
   "cell_type": "markdown",
   "id": "d8bb5aee",
   "metadata": {},
   "source": [
    "We may not always want to initialize objects with the same values for *variable1* and *variable2*, though. **To make the initialization method more general, we can add extra parameters in its definition**, as in the following example. The way this works is that it sets *value1* and *value2* to *1* and *2*, respectively, as long as no other values are provided in your call to create an instance of that class."
   ]
  },
  {
   "cell_type": "code",
   "execution_count": 5,
   "id": "1d3940d8",
   "metadata": {},
   "outputs": [],
   "source": [
    "class YourClass:\n",
    "    def __init__(self, value1 = 1, value2 = 2):\n",
    "        self.variable1 = value1\n",
    "        self.variable2 = value2\n",
    "           \n",
    "    def method1(self):\n",
    "        #some method\n",
    "        pass\n",
    "           \n",
    "    def method2(self):\n",
    "        #some other method\n",
    "        pass"
   ]
  },
  {
   "cell_type": "markdown",
   "id": "505054fb",
   "metadata": {},
   "source": [
    "We can still create objects like before:"
   ]
  },
  {
   "cell_type": "code",
   "execution_count": 6,
   "id": "9edd6eee",
   "metadata": {},
   "outputs": [
    {
     "name": "stdout",
     "output_type": "stream",
     "text": [
      "1\n"
     ]
    }
   ],
   "source": [
    "example2 = YourClass()\n",
    "print(example2.variable1)"
   ]
  },
  {
   "cell_type": "markdown",
   "id": "31488511",
   "metadata": {},
   "source": [
    "But we can also specify their values for *value1* and / or *value2*:"
   ]
  },
  {
   "cell_type": "code",
   "execution_count": 7,
   "id": "29404248",
   "metadata": {},
   "outputs": [
    {
     "name": "stdout",
     "output_type": "stream",
     "text": [
      "2\n"
     ]
    }
   ],
   "source": [
    "example3 = YourClass(2,3)\n",
    "print(example3.variable1)"
   ]
  },
  {
   "cell_type": "code",
   "execution_count": 8,
   "id": "9ee7d2c6",
   "metadata": {},
   "outputs": [
    {
     "name": "stdout",
     "output_type": "stream",
     "text": [
      "3\n"
     ]
    }
   ],
   "source": [
    "example4 = YourClass(value2=3)\n",
    "print(example4.variable2)"
   ]
  },
  {
   "cell_type": "markdown",
   "id": "112083fb",
   "metadata": {},
   "source": [
    "Note that if you do not provide default values as in *def \\_\\_init\\_\\_(self, value1 = 1, value2 = 2)*, you will always have to provide such values upon creating an object of that class."
   ]
  },
  {
   "cell_type": "markdown",
   "id": "01f8893b",
   "metadata": {},
   "source": [
    "### A simple Language class\n",
    "\n",
    "The following is **not a complete representation of specific language families**. It only serves for illustration:"
   ]
  },
  {
   "cell_type": "code",
   "execution_count": 9,
   "id": "3f1ca0d9",
   "metadata": {},
   "outputs": [],
   "source": [
    "class Language:\n",
    "    #if no information about family, branch, or number of speakers is provided by the user, set to unknown\n",
    "    def __init__(self, name, family=\"unknown\", branch=\"unknown\", num_of_speakers=\"unknown\"): #initializes the language class\n",
    "        self.name = name\n",
    "        self.family = family\n",
    "        self.branch = branch\n",
    "        self.num_of_speakers = num_of_speakers\n",
    "\n",
    "    #function to infer language family from language branch\n",
    "    def branch_to_family(self):\n",
    "        if self.family == \"unknown\" and self.branch != \"unknown\":\n",
    "            if self.branch == (\"Balto-Slavic\" or \"Germanic\" or \"Hellenic\" or \"Indo-Iranian\" or \"Romance\"):\n",
    "                self.family = \"Indo-European\"\n",
    "            elif self.branch == (\"Sinitic\" or \"Tibeto-Burman\"):\n",
    "                self.family = \"Sino-Tibetan\"\n",
    "            "
   ]
  },
  {
   "cell_type": "code",
   "execution_count": 10,
   "id": "f8947576",
   "metadata": {},
   "outputs": [
    {
     "name": "stdout",
     "output_type": "stream",
     "text": [
      "<__main__.Language object at 0x000002891316E400>\n"
     ]
    }
   ],
   "source": [
    "de = Language(\"German\", \"Indo-European\", \"Germanic\", 100000000)\n",
    "lat = Language(\"Latvian\", branch = \"Balto-Slavic\",num_of_speakers = 2200000)\n",
    "\n",
    "ra_ha = Language(\"Ramarih Hatohobei\", \"Austronesian\", \"Micronesian\")\n",
    "\n",
    "print(de) #de is now a Language object"
   ]
  },
  {
   "cell_type": "markdown",
   "id": "d825fbec",
   "metadata": {},
   "source": [
    "#### Calling class methods\n",
    "\n",
    "We can call on a class method just as we called methods for other data types before (e.g., *str.split()*):"
   ]
  },
  {
   "cell_type": "code",
   "execution_count": 11,
   "id": "f714d3d0",
   "metadata": {},
   "outputs": [
    {
     "name": "stdout",
     "output_type": "stream",
     "text": [
      "Indo-European\n"
     ]
    }
   ],
   "source": [
    "lat.branch_to_family()\n",
    "print(lat.family) #family information has now been added"
   ]
  },
  {
   "cell_type": "markdown",
   "id": "44130a59",
   "metadata": {},
   "source": [
    "#### Using class objects as arguments or parameters\n",
    "We can use instances of our class as arguments or parameters in functions. For instance, we could write a function that outputs all information about a particular language:"
   ]
  },
  {
   "cell_type": "code",
   "execution_count": 185,
   "id": "77cba0a9",
   "metadata": {},
   "outputs": [
    {
     "name": "stdout",
     "output_type": "stream",
     "text": [
      "German is an instance of a Germanic language in the Indo-European language family. It has 100000000 native speakers\n"
     ]
    }
   ],
   "source": [
    "def print_language_info(lang):\n",
    "    print(lang.name, \"is an instance of a\", lang.branch, \"language in the\", lang.family, \"language family. It has\", lang.num_of_speakers, \"native speakers\")\n",
    "    \n",
    "print_language_info(de)"
   ]
  },
  {
   "cell_type": "markdown",
   "id": "2f706493",
   "metadata": {},
   "source": [
    "**Importantly, for general-purpose functions like this, it is preferred to add them as new methods of the class, rather than as functions operating outside of the class**. One of the reasons for that is that your code stays more portable and comprehensible if all important functions / methods are contained within the class definition. \n",
    "\n",
    "So let's add a print method to our class. **Crucially, if we call it *\\_\\_str\\_\\_(self)*, it will function as the default output of the *print()* function called on objects of that class!**"
   ]
  },
  {
   "cell_type": "code",
   "execution_count": 12,
   "id": "bef52304",
   "metadata": {},
   "outputs": [],
   "source": [
    "class Language:\n",
    "    def __init__(self, name, family=\"unknown\", branch=\"unknown\", num_of_speakers=\"unknown\"):\n",
    "        self.name = name\n",
    "        self.family = family\n",
    "        self.branch = branch\n",
    "        self.num_of_speakers = num_of_speakers\n",
    "\n",
    "    def branch_to_family(self):\n",
    "        if self.family == \"unknown\" and self.branch != \"unknown\":\n",
    "            if self.branch == (\"Balto-Slavic\" or \"Germanic\" or \"Hellenic\" or \"Indo-Iranian\" or \"Romance\"):\n",
    "                self.family = \"Indo-European\"\n",
    "            elif self.branch == (\"Sinitic\" or \"Tibeto-Burman\"):\n",
    "                self.family = \"Sino-Tibetan\"\n",
    "    \n",
    "    def __str__(self):\n",
    "        return (\"{0} is an instance of a {1} language in the {2} language family. It has {3} native speakers.\".format(self.name, self.branch, self.family, self.num_of_speakers))\n",
    "    "
   ]
  },
  {
   "cell_type": "code",
   "execution_count": 13,
   "id": "acb7d92d",
   "metadata": {},
   "outputs": [
    {
     "name": "stdout",
     "output_type": "stream",
     "text": [
      "German is an instance of a Germanic language in the Indo-European language family. It has 100000000 native speakers.\n"
     ]
    }
   ],
   "source": [
    "#create the objects again with the new Class definition:\n",
    "de = Language(\"German\", \"Indo-European\", \"Germanic\", 100000000)\n",
    "lat = Language(\"Latvian\", branch = \"Balto-Slavic\",num_of_speakers = 2200000)\n",
    "\n",
    "ra_ha = Language(\"Ramarih Hatohobei\", \"Austronesian\", \"Micronesian\")\n",
    "\n",
    "print(de)"
   ]
  },
  {
   "cell_type": "markdown",
   "id": "c6cd1f24",
   "metadata": {},
   "source": [
    "#### Using several instances of a class\n",
    "\n",
    "We can also **define methods that operate on several instances of the class we are in**. For example, we could specify a class method that checks whether two languages are part of the same language family. This method takes *self* and another Language object as arguments.\n",
    "\n",
    "Note also that **we can call other class methods from within a class method** (here, we call *branch_to_family*), just like we saw nested function calls in previous sessions."
   ]
  },
  {
   "cell_type": "code",
   "execution_count": 14,
   "id": "e0a46b7c",
   "metadata": {},
   "outputs": [],
   "source": [
    "class Language:\n",
    "    def __init__(self, name, family=\"unknown\", branch=\"unknown\", num_of_speakers=\"unknown\"):\n",
    "        self.name = name\n",
    "        self.family = family\n",
    "        self.branch = branch\n",
    "        self.num_of_speakers = num_of_speakers\n",
    "\n",
    "    def branch_to_family(self):\n",
    "        if self.family == \"unknown\" and self.branch != \"unknown\":\n",
    "            if self.branch == (\"Balto-Slavic\" or \"Germanic\" or \"Hellenic\" or \"Indo-Iranian\" or \"Romance\"):\n",
    "                self.family = \"Indo-European\"\n",
    "            elif self.branch == (\"Sinitic\" or \"Tibeto-Burman\"):\n",
    "                self.family = \"Sino-Tibetan\"\n",
    "    \n",
    "    def family_check(self, comparison):\n",
    "        if self.family == \"unknown\":\n",
    "            self.branch_to_family()\n",
    "        if comparison.family == \"unknown\":\n",
    "            comparison.branch_to_family()\n",
    "        if self.family == \"unknown\" or comparison.family == \"unknown\":\n",
    "            print(\"At least one of the languages does not have a known language family.\")\n",
    "        elif self.family == comparison.family:\n",
    "            print(\"Same language family.\")\n",
    "        else:\n",
    "            print(\"Not the same language family.\")\n",
    "    \n",
    "    def __str__(self):\n",
    "        return (\"{0} is an instance of a {1} language in the {2} language family. It has {3} native speakers.\".format(self.name, self.branch, self.family, self.num_of_speakers))\n",
    "    "
   ]
  },
  {
   "cell_type": "code",
   "execution_count": 15,
   "id": "49b9b293",
   "metadata": {},
   "outputs": [
    {
     "name": "stdout",
     "output_type": "stream",
     "text": [
      "Same language family.\n",
      "Not the same language family.\n"
     ]
    }
   ],
   "source": [
    "#create the objects again with the new Class definition:\n",
    "de = Language(\"German\", \"Indo-European\", \"Germanic\", 100000000)\n",
    "lat = Language(\"Latvian\", branch = \"Balto-Slavic\",num_of_speakers = 2200000)\n",
    "\n",
    "ra_ha = Language(\"Ramarih Hatohobei\", \"Austronesian\", \"Micronesian\")\n",
    "\n",
    "de.family_check(lat)\n",
    "ra_ha.family_check(de)"
   ]
  },
  {
   "cell_type": "markdown",
   "id": "b2ccb0d9",
   "metadata": {},
   "source": [
    "### Class inheritance\n",
    "We can declare classes as subtypes of another class. For instance, below, we define a class *IndoEuropean* as a subtype of the *Language* class.\n",
    "\n",
    "**All functionalities of the superclass (class variables, methods) are inherited by the subclass**, but can be overridden by redefinition or reassignment."
   ]
  },
  {
   "cell_type": "code",
   "execution_count": 16,
   "id": "469e8e35",
   "metadata": {},
   "outputs": [
    {
     "name": "stdout",
     "output_type": "stream",
     "text": [
      "unknown\n"
     ]
    }
   ],
   "source": [
    "class IndoEuropean(Language):\n",
    "    pass\n",
    "\n",
    "en = IndoEuropean(\"English\")\n",
    "print(en.family)"
   ]
  },
  {
   "cell_type": "markdown",
   "id": "4b1073e6",
   "metadata": {},
   "source": [
    "Below, we redefine the initialization method for the *IndoEuropean* class. Note that all other methods from the *Language* class will still be available in the *IndoEuropean* subclass."
   ]
  },
  {
   "cell_type": "code",
   "execution_count": 17,
   "id": "012a4719",
   "metadata": {},
   "outputs": [
    {
     "name": "stdout",
     "output_type": "stream",
     "text": [
      "Indo-European\n"
     ]
    }
   ],
   "source": [
    "class IndoEuropean(Language):\n",
    "    def __init__(self, name, branch=\"unknown\", num_of_speakers=\"unknown\"):\n",
    "        self.name = name\n",
    "        self.family = \"Indo-European\"\n",
    "        self.branch = branch\n",
    "        self.num_of_speakers = num_of_speakers\n",
    "        \n",
    "en = IndoEuropean(\"English\")\n",
    "print(en.family)"
   ]
  },
  {
   "cell_type": "markdown",
   "id": "f37b38c5",
   "metadata": {},
   "source": [
    "### Objects are mutable\n",
    "\n",
    "You know *mutability* from list objects. It means that we can we can directly add, remove, or change the values of the object without creating a new object. **Note that Class objects are mutable!** Specifically, we can change any of the instantiated object's values, delete properties of the object, or delete the object altogether:"
   ]
  },
  {
   "cell_type": "code",
   "execution_count": 18,
   "id": "d727f28e",
   "metadata": {},
   "outputs": [
    {
     "name": "stdout",
     "output_type": "stream",
     "text": [
      "370000000\n"
     ]
    }
   ],
   "source": [
    "#change value of num_of_speakers\n",
    "en.num_of_speakers = 370000000\n",
    "print(en.num_of_speakers)"
   ]
  },
  {
   "cell_type": "code",
   "execution_count": 19,
   "id": "2171278f",
   "metadata": {},
   "outputs": [
    {
     "ename": "AttributeError",
     "evalue": "'IndoEuropean' object has no attribute 'num_of_speakers'",
     "output_type": "error",
     "traceback": [
      "\u001b[1;31m---------------------------------------------------------------------------\u001b[0m",
      "\u001b[1;31mAttributeError\u001b[0m                            Traceback (most recent call last)",
      "\u001b[1;32m~\\AppData\\Local\\Temp\\ipykernel_2364\\1514171247.py\u001b[0m in \u001b[0;36m<module>\u001b[1;34m\u001b[0m\n\u001b[0;32m      1\u001b[0m \u001b[1;31m#delete num_of_speakers property\u001b[0m\u001b[1;33m\u001b[0m\u001b[1;33m\u001b[0m\u001b[0m\n\u001b[0;32m      2\u001b[0m \u001b[1;32mdel\u001b[0m \u001b[0men\u001b[0m\u001b[1;33m.\u001b[0m\u001b[0mnum_of_speakers\u001b[0m\u001b[1;33m\u001b[0m\u001b[1;33m\u001b[0m\u001b[0m\n\u001b[1;32m----> 3\u001b[1;33m \u001b[0mprint\u001b[0m\u001b[1;33m(\u001b[0m\u001b[0men\u001b[0m\u001b[1;33m.\u001b[0m\u001b[0mnum_of_speakers\u001b[0m\u001b[1;33m)\u001b[0m \u001b[1;31m#results in error\u001b[0m\u001b[1;33m\u001b[0m\u001b[1;33m\u001b[0m\u001b[0m\n\u001b[0m",
      "\u001b[1;31mAttributeError\u001b[0m: 'IndoEuropean' object has no attribute 'num_of_speakers'"
     ]
    }
   ],
   "source": [
    "#delete num_of_speakers property\n",
    "del en.num_of_speakers\n",
    "print(en.num_of_speakers) #results in error"
   ]
  },
  {
   "cell_type": "code",
   "execution_count": 20,
   "id": "b6180c8b",
   "metadata": {},
   "outputs": [
    {
     "name": "stdout",
     "output_type": "stream",
     "text": [
      "The object no longer exists.\n"
     ]
    }
   ],
   "source": [
    "#delete object\n",
    "del en\n",
    "\n",
    "#to remind you of the try block...\n",
    "try:\n",
    "    print(en)\n",
    "except NameError:\n",
    "    print(\"The object no longer exists.\")"
   ]
  }
 ],
 "metadata": {
  "kernelspec": {
   "display_name": "Python 3 (ipykernel)",
   "language": "python",
   "name": "python3"
  },
  "language_info": {
   "codemirror_mode": {
    "name": "ipython",
    "version": 3
   },
   "file_extension": ".py",
   "mimetype": "text/x-python",
   "name": "python",
   "nbconvert_exporter": "python",
   "pygments_lexer": "ipython3",
   "version": "3.9.12"
  }
 },
 "nbformat": 4,
 "nbformat_minor": 5
}
